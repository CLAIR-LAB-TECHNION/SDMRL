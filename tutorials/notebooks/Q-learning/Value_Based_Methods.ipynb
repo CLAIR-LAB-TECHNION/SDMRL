{
  "cells": [
    {
      "cell_type": "markdown",
      "metadata": {
        "id": "c79b2ed6"
      },
      "source": [
        "<div style=\"text-align: left\">\n",
        "    <img src='https://github.com/CLAIR-LAB-TECHNION/CLAI/blob/main/tutorials/assets/logo.png?raw=true' width=800/>  \n",
        "</div>\n",
        "\n",
        "Author: Itay Segev\n",
        "\n",
        "E-mail: [itaysegev@campus.technion.ac.il](mailto:itaysegev@campus.technion.ac.il)\n",
        "\n"
      ]
    },
    {
      "cell_type": "markdown",
      "metadata": {
        "id": "pIdLEDqyzdLk"
      },
      "source": [
        "# Value Based Methods\n",
        "\n"
      ]
    },
    {
      "cell_type": "markdown",
      "metadata": {
        "id": "hp1H54SQLRUU"
      },
      "source": [
        "\n",
        "<img src='https://github.com/CLAIR-LAB-TECHNION/CLAI/blob/main/tutorials/assets/tut04_creation_of_ai.png?raw=true' width=900/>"
      ]
    },
    {
      "cell_type": "markdown",
      "metadata": {
        "id": "e8c04ad1-e844-4836-9de1-206dc454d870",
        "tags": []
      },
      "source": [
        "\n",
        "<a id=\"section:intro\"></a>\n",
        "\n",
        "# <img src=\"https://img.icons8.com/?size=50&id=55412&format=png&color=000000\" style=\"height:50px;display:inline\"> Introduction\n",
        "---\n",
        "\n",
        "In reinforcement learning, **value-based methods** are crucial for estimating the value of states and actions, helping agents make optimal decisions. This tutorial covers key concepts in value-based methods, focusing on **Tabular Q-Learning**. Value functions, including the state-value function $V(s)$ and action-value function $Q(s, a)$, represent the expected return of states and actions, guiding the agent towards an optimal policy $\\pi^*$. Tabular Q-Learning, a foundational algorithm, uses a Q-table to store Q-values for state-action pairs, updating them through temporal difference learning to find the optimal action-value function $Q^*(s, a)$. Key topics include Bellman equations, temporal difference learning, the Q-Learning algorithm, and balancing exploration and exploitation.\n"
      ]
    },
    {
      "cell_type": "markdown",
      "metadata": {
        "id": "-oid7uNNGKvv"
      },
      "source": [
        "# <img src=\"https://img.icons8.com/?size=50&id=43171&format=png&color=000000\" style=\"height:30px;display:inline\"> Setup\n",
        "\n",
        "\n",
        "You will need to make a copy of this notebook in your Google Drive before you can edit the notebook. You can do so with **File &rarr; Save a copy in Drive**."
      ]
    },
    {
      "cell_type": "code",
      "execution_count": null,
      "metadata": {
        "id": "DSNObDRJgu8b"
      },
      "outputs": [],
      "source": [
        "#@title mount your Google Drive\n",
        "import os\n",
        "connect_drive = False #@param {type: \"boolean\"}\n",
        "if connect_drive:\n",
        "  from google.colab import drive\n",
        "  drive.mount('/content/gdrive', force_remount=True)\n",
        "\n",
        "  # set up mount symlink\n",
        "  DRIVE_PATH = '/content/gdrive/My\\ Drive/cs236203_s24'\n",
        "  DRIVE_PYTHON_PATH = DRIVE_PATH.replace('\\\\', '')\n",
        "  if not os.path.exists(DRIVE_PYTHON_PATH):\n",
        "    %mkdir $DRIVE_PATH\n",
        "\n",
        "## the space in `My Drive` causes some issues,\n",
        "## make a symlink to avoid this\n",
        "SYM_PATH = '/content/cs236203_s24'\n",
        "if not os.path.exists(SYM_PATH) and connect_drive:\n",
        "  !ln -s $DRIVE_PATH $SYM_PATH\n",
        "\n",
        "\n"
      ]
    },
    {
      "cell_type": "code",
      "execution_count": null,
      "metadata": {
        "id": "Ft-NJZ29L_p9"
      },
      "outputs": [],
      "source": [
        "#@title apt install requirements\n",
        "\n",
        "#@markdown Run each section with Shift+Enter\n",
        "\n",
        "#@markdown Double-click on section headers to show code.\n",
        "\n",
        "from IPython.display import clear_output\n",
        "\n",
        "!sudo apt-get update\n",
        "!sudo apt-get install -y python3-opengl\n",
        "!apt install ffmpeg xvfb\n",
        "!pip3 install pyvirtualdisplay\n",
        "!pip install gymnasium\n",
        "\n",
        "clear_output()"
      ]
    },
    {
      "cell_type": "markdown",
      "metadata": {
        "id": "K6XC13pTfFiD"
      },
      "source": [
        "To make sure the new installed libraries are used, **sometimes it's required to restart the notebook runtime**. The next cell will force the **runtime to crash, so you'll need to connect again and run the code starting from here**. Thanks to this trick, **we will be able to run our virtual screen.**"
      ]
    },
    {
      "cell_type": "code",
      "execution_count": null,
      "metadata": {
        "id": "3kuZbWAkfHdg"
      },
      "outputs": [],
      "source": [
        "import os\n",
        "os.kill(os.getpid(), 9)"
      ]
    },
    {
      "cell_type": "code",
      "execution_count": null,
      "metadata": {
        "colab": {
          "base_uri": "https://localhost:8080/"
        },
        "id": "B8_R2qRiG2xA",
        "outputId": "570b1292-ce1c-444b-ce8c-758083b95490"
      },
      "outputs": [
        {
          "data": {
            "text/plain": [
              "<pyvirtualdisplay.display.Display at 0x7db2e24a9f30>"
            ]
          },
          "execution_count": 1,
          "metadata": {},
          "output_type": "execute_result"
        }
      ],
      "source": [
        "#@title set up virtual display\n",
        "\n",
        "from pyvirtualdisplay import Display\n",
        "\n",
        "display = Display(visible=0, size=(1400, 900))\n",
        "display.start()"
      ]
    },
    {
      "cell_type": "markdown",
      "metadata": {
        "id": "W-7f-Swax_9x"
      },
      "source": [
        "## Import the packages\n",
        "\n",
        "In addition to the installed libraries, we also use:\n",
        "\n",
        "- `random`: To generate random numbers (that will be useful for epsilon-greedy policy).\n",
        "- `imageio`: To generate a replay video."
      ]
    },
    {
      "cell_type": "code",
      "execution_count": null,
      "metadata": {
        "id": "2bcb5e2f-b9e0-4354-a24a-2f893b1313e6"
      },
      "outputs": [],
      "source": [
        "import numpy as np\n",
        "import gymnasium as gym\n",
        "import random\n",
        "import imageio\n",
        "import os\n",
        "import tqdm\n",
        "\n",
        "from tqdm.notebook import tqdm\n",
        "\n",
        "\n"
      ]
    },
    {
      "cell_type": "markdown",
      "metadata": {
        "id": "XgydhMV1q8DV"
      },
      "source": [
        "# <img src=\"https://img.icons8.com/?size=50&id=8GlFeky9HXyQ&format=png&color=000000\" style=\"height:30px;display:inline\"> The FrozenLake-v1 Environment\n",
        "\n",
        "\n",
        "\n",
        "The [Frozen Lake environment](https://gymnasium.farama.org/environments/toy_text/frozen_lake) is a classic navigation task in reinforcement learning. It is designed to test the basic capabilities of an RL algorithm in a grid world setting. Here’s a detailed description of the environment:"
      ]
    },
    {
      "cell_type": "markdown",
      "metadata": {
        "id": "mUkOD7xsq8Dd"
      },
      "source": [
        "We're going to train our Q-Learning agent **to navigate from the starting state (S) to the goal state (G) by walking only on frozen tiles (F) and avoid holes (H)**.\n",
        "\n",
        "We can have two sizes of environment:\n",
        "\n",
        "- `map_name=\"4x4\"`: a 4x4 grid version\n",
        "- `map_name=\"8x8\"`: a 8x8 grid version\n",
        "\n",
        "\n",
        "The environment has two modes:\n",
        "\n",
        "- `is_slippery=False`: The agent always moves **in the intended direction** due to the non-slippery nature of the frozen lake (deterministic).\n",
        "- `is_slippery=True`: The agent **may not always move in the intended direction** due to the slippery nature of the frozen lake (stochastic).\n"
      ]
    },
    {
      "cell_type": "markdown",
      "metadata": {
        "id": "VnSBVFDMq8Dd"
      },
      "source": [
        "<img src='https://gymnasium.farama.org/_images/frozen_lake.gif' width=600/>"
      ]
    },
    {
      "cell_type": "markdown",
      "metadata": {
        "id": "UaW_LHfS0PY2"
      },
      "source": [
        "For now let's keep it simple with the 4x4 map and non-slippery.\n",
        "We add a parameter called `render_mode` that specifies how the environment should be visualised. In our case because we **want to record a video of the environment at the end, we need to set render_mode to rgb_array**.\n",
        "\n",
        "As [explained in the documentation](https://gymnasium.farama.org/api/env/#gymnasium.Env.render) “rgb_array”: Return a single frame representing the current state of the environment. A frame is a np.ndarray with shape (x, y, 3) representing RGB values for an x-by-y pixel image."
      ]
    },
    {
      "cell_type": "code",
      "execution_count": null,
      "metadata": {
        "id": "Wi_HrvKaq8Dd"
      },
      "outputs": [],
      "source": [
        "env_id = \"FrozenLake-v1\"\n",
        "# Create the env\n",
        "env = gym.make(env_id, map_name=\"4x4\", is_slippery=False, render_mode=\"rgb_array\")"
      ]
    },
    {
      "cell_type": "markdown",
      "metadata": {
        "id": "W-xMxm468-sh"
      },
      "source": [
        "## <img src=\"https://img.icons8.com/?size=50&id=46589&format=png&color=000000\" style=\"height:30px;display:inline\"> Task 1: Getting Familiar with the FrozenLake Environment\n",
        "\n"
      ]
    },
    {
      "cell_type": "markdown",
      "metadata": {
        "id": "FA86BbfNJ8Ga"
      },
      "source": [
        "<img src='https://github.com/CLAIR-LAB-TECHNION/CLAI/blob/main/tutorials/assets/task_sign.png?raw=true' width=800/>"
      ]
    },
    {
      "cell_type": "markdown",
      "metadata": {
        "id": "B41wcOSe9PSJ"
      },
      "source": [
        "In this task, you will explore the FrozenLake-v1 environment. Your objective is to understand the basic operations of this environment, such as resetting the environment, taking actions, and observing the outcomes.\n",
        "\n",
        "Questions:\n",
        "- What are the dimensions of the state space?\n",
        "- What are the possible actions in the action space?\n",
        "- What triggers the termination of an episode in FrozenLake-v1?"
      ]
    },
    {
      "cell_type": "markdown",
      "metadata": {
        "id": "FP8HIhmRHPtF"
      },
      "source": [
        "<img src='https://github.com/CLAIR-LAB-TECHNION/CLAI/blob/main/tutorials/assets/solution_sign.png?raw=true' width=800/>"
      ]
    },
    {
      "cell_type": "markdown",
      "metadata": {
        "id": "y3sRnN289aRW"
      },
      "source": [
        "#### <img src=\"https://img.icons8.com/?size=50&id=42816&format=png&color=000000\" style=\"height:30px;display:inline\">  Solution\n",
        "\n"
      ]
    },
    {
      "cell_type": "code",
      "execution_count": null,
      "metadata": {
        "colab": {
          "base_uri": "https://localhost:8080/"
        },
        "id": "zetjSAONq8Dd",
        "outputId": "1a2c205f-49d7-4827-a2f2-0b724aa1cc95"
      },
      "outputs": [
        {
          "name": "stdout",
          "output_type": "stream",
          "text": [
            "_____OBSERVATION SPACE_____ \n",
            "\n",
            "Observation Space Discrete(16)\n",
            "Sample observation 4\n"
          ]
        }
      ],
      "source": [
        "# We create our environment with gym.make(\"<name_of_the_environment>\")- `is_slippery=False`: The agent always moves in the intended direction due to the non-slippery nature of the frozen lake (deterministic).\n",
        "print(\"_____OBSERVATION SPACE_____ \\n\")\n",
        "print(\"Observation Space\", env.observation_space)\n",
        "print(\"Sample observation\", env.observation_space.sample()) # Get a random observation"
      ]
    },
    {
      "cell_type": "markdown",
      "metadata": {
        "id": "2MXc15qFE0M9"
      },
      "source": [
        "We see with `Observation Space Shape Discrete(16)` that the observation is an integer representing the **agent’s current position as current_row * ncols + current_col (where both the row and col start at 0)**.\n",
        "\n",
        "For example, the goal position in the 4x4 map can be calculated as follows: 3 * 4 + 3 = 15. The number of possible observations is dependent on the size of the map. **For example, the 4x4 map has 16 possible observations.**\n",
        "\n",
        "\n",
        "For instance, this is what state = 0 looks like:\n",
        "\n",
        "<img src=\"https://huggingface.co/datasets/huggingface-deep-rl-course/course-images/resolve/main/en/notebooks/unit2/frozenlake.png\" alt=\"FrozenLake\">"
      ]
    },
    {
      "cell_type": "code",
      "execution_count": null,
      "metadata": {
        "colab": {
          "base_uri": "https://localhost:8080/"
        },
        "id": "sCpHffOXEP2q",
        "outputId": "df7cc01f-8306-4a1f-efdd-e17e44a2dce4"
      },
      "outputs": [
        {
          "name": "stdout",
          "output_type": "stream",
          "text": [
            "\n",
            " _____ACTION SPACE_____ \n",
            "\n",
            "Action Space Shape Discrete(4)\n",
            "Action Space Sample 0\n"
          ]
        }
      ],
      "source": [
        "print(\"\\n _____ACTION SPACE_____ \\n\")\n",
        "print(\"Action Space Shape\", env.action_space)\n",
        "print(\"Action Space Sample\", env.action_space.sample()) # Take a random action"
      ]
    },
    {
      "cell_type": "markdown",
      "metadata": {
        "id": "3nzCU0NJq8Dd"
      },
      "source": [
        "The action space is **discrete**, consisting of four possible actions:\n",
        "\n",
        "1. Move Left: Move the agent to the left.\n",
        "2. Move Down: Move the agent downwards.\n",
        "3. Move Right: Move the agent to the right.\n",
        "4. Move Up: Move the agent upwards."
      ]
    },
    {
      "cell_type": "markdown",
      "metadata": {
        "id": "vka-_FOkq8De"
      },
      "source": [
        "The agent receives a reward 💰 of +1 for reaching the goal tile and 0 otherwise. The goal is to maximize the total reward over an episode."
      ]
    },
    {
      "cell_type": "markdown",
      "metadata": {
        "id": "bpCN_y5-q8De"
      },
      "source": [
        "An episode ends if any of the following conditions are met:\n",
        "\n",
        "- The agent reaches the goal tile.\n",
        "- The agent falls into a hole.\n",
        "- The episode reaches a maximum number of steps."
      ]
    },
    {
      "cell_type": "markdown",
      "metadata": {
        "id": "KASNViqL4tZn"
      },
      "source": [
        "You can create your own custom grid like this:\n",
        "\n",
        "```python\n",
        "desc=[\"SFFF\", \"FHFH\", \"FFFH\", \"HFFG\"]\n",
        "gym.make('FrozenLake-v1', desc=desc, is_slippery=True)\n",
        "```\n",
        "\n",
        "but we'll use the default environment for now."
      ]
    },
    {
      "cell_type": "markdown",
      "metadata": {
        "id": "UoXl-zQ5bxxG"
      },
      "source": [
        "# <img src=\"https://img.icons8.com/?size=50&id=53819&format=png&color=000000\" style=\"height:30px;display:inline\"> Value-based methods\n",
        "\n"
      ]
    },
    {
      "cell_type": "markdown",
      "metadata": {
        "id": "jBizqOjAcbpp"
      },
      "source": [
        "Our goal is to find an optimal policy $\\pi^*$ , aka., a policy that leads to the best expected cumulative reward.\n",
        "\n",
        "And to find this optimal policy (hence solving the RL problem), there are two main types of RL methods:\n",
        "\n",
        "* Policy-based methods: Train the policy directly to learn which action to take given a state.\n",
        "\n",
        "* Value-based methods: Train a value function to learn which state is more valuable and use this value function to take the action that leads to it.\n",
        "\n"
      ]
    },
    {
      "cell_type": "markdown",
      "metadata": {
        "id": "d0ECENBicnFR"
      },
      "source": [
        "In the case of **value-based methods**, you don’t train the policy: your policy is just a simple pre-specified function (for instance, the Greedy Policy) that uses the values given by the value-function to select its actions.\n",
        "\n",
        "In **policy-based** training an optimal policy (denoted $\\pi^*$) is found by training the policy directly.\n",
        "In value-based training, finding an optimal value function (denoted $Q^*$ or $V^*$, we’ll study the difference below) leads to having an optimal policy."
      ]
    },
    {
      "cell_type": "markdown",
      "metadata": {
        "id": "WS0lxfHkb2tk"
      },
      "source": [
        "<img src='https://huggingface.co/datasets/huggingface-deep-rl-course/course-images/resolve/main/en/unit3/two-approaches.jpg' width=800/>"
      ]
    },
    {
      "cell_type": "markdown",
      "metadata": {
        "id": "r4P79ZolWypl"
      },
      "source": [
        "## <img src=\"https://img.icons8.com/?size=50&id=110869&format=png&color=000000\" style=\"height:30px;display:inline\"> Value Functions\n",
        "\n",
        "\n",
        "In reinforcement learning, value functions are essential mathematical constructs that help us design and conceptualize algorithms. They provide a way to evaluate the expected return (sum of rewards) starting from a given state or state-action pair and following a particular policy. Value functions are crucial for understanding and optimizing the reinforcement learning objective.\n"
      ]
    },
    {
      "cell_type": "markdown",
      "metadata": {
        "id": "sT-X2lz0W54X"
      },
      "source": [
        "### Types of Value Functions\n",
        "\n",
        "There are four primary value functions to consider:\n",
        "\n",
        "1. **Value Function $V^{\\pi}(s)$**: This function gives the expected return if you start in state $s$ and thereon act according to policy $\\pi$. Mathematically, it is defined as:\n",
        "\n",
        "   $\n",
        "   V^{\\pi}(s) = \\mathbb{E}_{\\tau \\sim \\pi}[R(\\tau) \\mid s_0 = s]\n",
        "   $\n",
        "\n",
        "   where $R(\\tau)$ is the return of trajectory $\\tau$.\n",
        "\n",
        "2. **Action-Value Function $Q^{\\pi}(s,a)$**: This function provides the expected return if you start in state $s$, take an arbitrary action $a$ (which may not have come from the policy), and then thereon after act according to policy $\\pi$:\n",
        "\n",
        "   $\n",
        "   Q^{\\pi}(s,a) = \\mathbb{E}_{\\tau \\sim \\pi}[R(\\tau) \\mid s_0 = s, a_0 = a]\n",
        "   $\n",
        "\n",
        "3. **Optimal Value Function $V^*(s)$**: This function gives the expected return if you start in state $s$ and thereon act according to the optimal policy in the environment:\n",
        "\n",
        "   $\n",
        "   V^*(s) = \\max_{\\pi} \\mathbb{E}_{\\tau \\sim \\pi}[R(\\tau) \\mid s_0 = s]\n",
        "   $\n",
        "\n",
        "4. **Optimal Action-Value Function $Q^*(s,a)$**: This function provides the expected return if you start in state $s$, take an arbitrary action $a$, and then thereon act according to the optimal policy in the environment:\n",
        "\n",
        "   $\n",
        "   Q^*(s,a) = \\max_{\\pi} \\mathbb{E}_{\\tau \\sim \\pi}[R(\\tau) \\mid s_0 = s, a_0 = a]\n",
        "   $\n"
      ]
    },
    {
      "cell_type": "markdown",
      "metadata": {
        "id": "suIibwsuYGrM"
      },
      "source": [
        "### Recursive Nature of Value Functions\n",
        "\n",
        "Value functions can be written recursively, leveraging the concept of causality—decisions at a current time step do not affect past rewards. This recursive nature allows us to break down the expected return into a series of nested expectations.\n",
        "\n",
        "For example, the on-policy action-value function $Q^{\\pi}(s,a)$ can be expressed as:\n",
        "\n",
        "$\n",
        "Q^{\\pi}(s,a) = r(s,a) + \\gamma \\mathbb{E}_{s'}[V^{\\pi}(s') \\mid s, a]\n",
        "$\n",
        "\n",
        "where $r(s,a)$ is the immediate reward and $\\gamma$ is the discount factor.\n",
        "\n",
        "Similarly, the on-policy value function $V^{\\pi}(s)$ can be written in terms of the action-value function:\n",
        "\n",
        "$\n",
        "V^{\\pi}(s) = \\mathbb{E}_{a \\sim \\pi}[Q^{\\pi}(s,a)]\n",
        "$"
      ]
    },
    {
      "cell_type": "markdown",
      "metadata": {
        "id": "86i0TDAjYiTH"
      },
      "source": [
        "### Connections Between Value Functions\n",
        "\n",
        "There are two key connections between the value function and the action-value function:\n",
        "\n",
        "1. **Expected Value**:\n",
        "   $\n",
        "   V^{\\pi}(s) = \\mathbb{E}_{a \\sim \\pi}[Q^{\\pi}(s,a)]\n",
        "   $\n",
        "   This relation shows that the value of a state under policy $\\pi$ is the expected value of the action-value function over actions taken according to $\\pi$.\n",
        "\n",
        "2. **Optimal Value**:\n",
        "   $\n",
        "   V^*(s) = \\max_a Q^*(s,a)\n",
        "   $\n",
        "   This relation indicates that the optimal value of a state is the maximum action-value function over all possible actions."
      ]
    },
    {
      "cell_type": "markdown",
      "metadata": {
        "id": "5U_m_15UYzs9"
      },
      "source": [
        "### Importance of Value Functions\n",
        "\n",
        "Value functions play a critical role in reinforcement learning for several reasons:\n",
        "\n",
        "1. **Policy Evaluation**: They allow us to evaluate how good a policy is by estimating the expected return starting from a particular state or state-action pair.\n",
        "2. **Policy Improvement**: By comparing value functions under different policies, we can systematically improve the policy. This is the basis of methods like policy iteration and Q-learning.\n",
        "3. **Reducing Variance**: Using value functions, we can derive estimators with lower variance, which are more stable and reliable for learning.\n"
      ]
    },
    {
      "cell_type": "markdown",
      "metadata": {
        "hidden": true,
        "id": "tRKj1uPfzdLs"
      },
      "source": [
        "### Value of a trajectory / of a policy\n",
        "\n",
        "An oracle decides on how to choose actions at each time step:\n",
        "$$\\mathbb{P}(A_t)=\\pi_t.$$\n",
        "\n",
        "The collection of $\\pi_t$ is the oracle's **policy**.\n",
        "\n",
        "\n",
        "One policy implies one specific distribution over trajectories over the frozen lake. More generally, the policy and $S_0$ condition the sequence $S_0, A_0, R_0, S_1, A_1, R_1, \\ldots$  \n",
        "\n",
        "In FrozenLake some trajectories are better than others. **We need a criterion to compare trajectories.** Intuitively, this criterion should reflect the idea that a good policy accumulates as much reward as possible along a trajectory.\n",
        "\n",
        "Let's compare the policy that always moves to the right and the policy that always moves left by summing the rewards obtained along trajectories and then averaging these rewards across trajectories."
      ]
    },
    {
      "cell_type": "code",
      "execution_count": null,
      "metadata": {
        "colab": {
          "base_uri": "https://localhost:8080/"
        },
        "hidden": true,
        "id": "H6wJU3HSzdLs",
        "outputId": "4cd0b7f4-232d-43c2-e256-a78ee5bac07f"
      },
      "outputs": [
        {
          "name": "stdout",
          "output_type": "stream",
          "text": [
            "est. value of 'right' policy: 0.0 variance: 0.0\n",
            "est. value of 'left'  policy: 0.0 variance: 0.0\n"
          ]
        }
      ],
      "source": [
        "import gymnasium.envs.toy_text.frozen_lake as fl\n",
        "\n",
        "nb_episodes = 50000\n",
        "horizon = 200\n",
        "\n",
        "Vright = np.zeros(nb_episodes)\n",
        "for i in range(nb_episodes):\n",
        "    env.reset()\n",
        "    for t in range(horizon):\n",
        "        next_state, r, terminated, truncated,_ = env.step(fl.RIGHT)\n",
        "        Vright[i] += r\n",
        "        if terminated or truncated:\n",
        "            break\n",
        "\n",
        "Vleft  = np.zeros(nb_episodes)\n",
        "for i in range(nb_episodes):\n",
        "    env.reset()\n",
        "    for t in range(horizon):\n",
        "        next_state, r, terminated, truncated,_ = env.step(fl.LEFT)\n",
        "        Vleft[i] += r\n",
        "        if terminated or truncated:\n",
        "            break\n",
        "\n",
        "print(\"est. value of 'right' policy:\", np.mean(Vright), \"variance:\", np.std(Vright))\n",
        "print(\"est. value of 'left'  policy:\", np.mean(Vleft),  \"variance:\", np.std(Vleft))"
      ]
    },
    {
      "cell_type": "markdown",
      "metadata": {
        "hidden": true,
        "id": "Ax3kkeVUzdLt"
      },
      "source": [
        "In the general case, this sum of rewards on an infinite horizon might be unbounded. So let us introduce the **$\\gamma$-discounted sum of rewards** (from a starting state $s$, under policy $\\pi$) random variable:\n",
        "$$G^\\pi(s) = \\sum\\limits_{t = 0}^\\infty \\gamma^t R_t \\quad \\Bigg| \\quad \\begin{array}{l}S_0 = s,\\\\ A_t \\sim \\pi_t,\\\\ S_{t+1}\\sim p(\\cdot|S_t,A_t),\\\\R_t = r(S_t,A_t,S_{t+1}).\\end{array}$$\n",
        "\n",
        "$G^\\pi(s)$ represents what we can gain in the long-term by applying the actions from $\\pi$.\n",
        "\n",
        "Then, given a starting state $s$, we can define the value of $s$ under policy $\\pi$:\n",
        "$$V^\\pi(s) = \\mathbb{E} \\left[ G^\\pi(s) \\right]$$\n",
        "\n",
        "\n",
        "\n"
      ]
    },
    {
      "cell_type": "markdown",
      "metadata": {
        "id": "_Uo9VeqRvFZh"
      },
      "source": [
        "Note that this definition is quite arbitrary: instead of the expected (discounted) sum of rewards, we could have taken the average reward over all time steps, or some other (more or less exotic) comparison criterion between policies.\n",
        "\n",
        "Most of the RL literature uses this discounted criterion (in some cases with $\\gamma=1$), some uses the average reward criterion, and few works venture into more exotic criteria. Today, we will limit ourselves to the discounted criterion."
      ]
    },
    {
      "cell_type": "markdown",
      "metadata": {
        "id": "5Q17R2qOgD-E"
      },
      "source": [
        "### The Optimal Q-Function and the Optimal Action\n",
        "\n",
        "There is a significant connection between the optimal action-value function $Q^*(s,a)$ and the action selected by the optimal policy. By definition, $Q^*(s,a)$ gives the expected return for starting in state $s$, taking an arbitrary action $a$, and then following the optimal policy thereafter.\n",
        "\n",
        "The optimal policy in state $s$ will select the action that maximizes the expected return from $s$. Therefore, if we have $Q^*$, we can directly obtain the optimal action $a^*(s)$ as:\n",
        "\n",
        "$$a^*(s) = \\arg \\max_a Q^*(s,a)$$\n",
        "\n",
        "Note that there may be multiple actions which maximize $Q^*(s,a)$, in which case, all of them are optimal, and the optimal policy may randomly select any of them. However, there is always a deterministic optimal policy."
      ]
    },
    {
      "cell_type": "markdown",
      "metadata": {
        "heading_collapsed": true,
        "id": "pbIQ15HYzdLu"
      },
      "source": [
        "## <img src=\"https://img.icons8.com/?size=50&id=77996&format=png&color=000000\" style=\"height:30px;display:inline\"> Bellman Equations\n",
        "\n"
      ]
    },
    {
      "cell_type": "markdown",
      "metadata": {
        "id": "qZRAfeWfyw-K"
      },
      "source": [
        "In reinforcement learning, all four of the value functions obey special self-consistency equations called Bellman equations. The basic idea behind the Bellman equations is:\n",
        "\n",
        "The value of your starting point is the reward you expect to get from being there, plus the value of wherever you land next.\n",
        "\n",
        "\n",
        "\n",
        "The Bellman equations for the on-policy value functions are:\n",
        "\n",
        "$$\n",
        "V^{\\pi}(s) = \\mathbb{E}_{a \\sim \\pi, \\, s' \\sim P}[r(s,a) + \\gamma V^{\\pi}(s')]\n",
        "$$\n",
        "\n",
        "$$\n",
        "Q^{\\pi}(s,a) = \\mathbb{E}_{s' \\sim P}[r(s,a) + \\gamma \\mathbb{E}_{a' \\sim \\pi}[Q^{\\pi}(s',a')]]\n",
        "$$\n",
        "\n",
        "\n",
        "\n",
        "The Bellman equations for the optimal value functions are:\n",
        "\n",
        "$$\n",
        "V^*(s) = \\max_a \\mathbb{E}_{s' \\sim P}[r(s,a) + \\gamma V^*(s')]\n",
        "$$\n",
        "\n",
        "$$\n",
        "Q^*(s,a) = \\mathbb{E}_{s' \\sim P}[r(s,a) + \\gamma \\max_{a'} Q^*(s',a')]\n",
        "$$\n",
        "\n",
        "The crucial difference between the Bellman equations for the on-policy value functions and the optimal value functions is the absence or presence of the $\\max$ over actions. Its inclusion reflects the fact that whenever the agent gets to choose its action, in order to act optimally, it has to pick whichever action leads to the highest value.\n",
        "\n",
        "\n",
        "\n"
      ]
    },
    {
      "cell_type": "markdown",
      "metadata": {
        "id": "EyF_qHA_zAcx"
      },
      "source": [
        "The idea of the Bellman equation is that, instead of calculating each value as the sum of the expected return, which is a long and computationally intensive process typical of Monte Carlo methods, we calculate the value using Temporal Difference (TD) methods. TD methods estimate the value as the sum of the immediate reward plus the discounted value of the subsequent state, providing a more efficient and incremental approach."
      ]
    },
    {
      "cell_type": "markdown",
      "metadata": {
        "hidden": true,
        "id": "eypSYcGfzdLu"
      },
      "source": [
        "### <img src=\"https://img.icons8.com/?size=50&id=46812&format=png&color=000000\" style=\"height:30px;display:inline\"> Intuitions\n",
        "\n",
        "The following section is designed to enhance your understanding of value functions and their applications. While it includes examples you may have encountered in an intro to AI course, we highly recommend reviewing this material. This foundation will ensure you are comfortable navigating the different ideas and terms used in value-based reinforcement learning methods."
      ]
    },
    {
      "cell_type": "markdown",
      "metadata": {
        "hidden": true,
        "id": "_qAj1xNbzdLu"
      },
      "source": [
        "Consider the maze below, where an agent can move North, South, East or West. The resulting transition is deterministic and a reward of $+1$ is gained when exiting the maze (which terminates the game). Otherwise all rewards are zero. Bumping into a wall terminates the game with a reward of zero.\n",
        "\n",
        "<img src=\"https://github.com/RL-VS/rlvs2021/blob/main/docs/class-material/rl_fundamentals/img/grid_raw.png?raw=1\" width=\"200px\"></img>\n",
        "\n",
        "Let's consider the policy $\\pi$ that always moves East.\n",
        "\n",
        "<img src=\"https://github.com/RL-VS/rlvs2021/blob/main/docs/class-material/rl_fundamentals/img/grid_policy.png?raw=1\" width=\"200px\"></img>\n",
        "\n",
        "\n",
        "**Without writing any equation, what is the value of the top-right cell under this policy?**\n"
      ]
    },
    {
      "cell_type": "markdown",
      "metadata": {
        "id": "qIZFg4H5K5nI"
      },
      "source": [
        "**---> Add visual seperation before the answer **"
      ]
    },
    {
      "cell_type": "markdown",
      "metadata": {
        "hidden": true,
        "id": "BN_6Im5BzdLu"
      },
      "source": [
        "**Answer:**\n",
        "\n",
        "$V^\\pi((3,3)) = 1$\n"
      ]
    },
    {
      "cell_type": "markdown",
      "metadata": {
        "hidden": true,
        "id": "a6MUgd_VzdLu"
      },
      "source": [
        "**Now let's take $\\gamma=0.9$.**\n",
        "\n",
        "Without writing any equation, what is the value of the top-middle cell under this policy? What is the value of the bottom-right cell?\n"
      ]
    },
    {
      "cell_type": "markdown",
      "metadata": {
        "hidden": true,
        "id": "xu0N1NE7zdLv"
      },
      "source": [
        "**Answer:**\n",
        "\n",
        "The value of $(2,3)$ is the expected discounted sum of what one gets from applying $\\pi$ from $(2,3)$. Since the $\\pi$ is deterministic and the transitions are deterministic too, $\\pi(2,3)$ always take us to state $(3,3)$. So $V^\\pi((2,3)) = 0 + \\gamma \\times V^\\pi((3,3)) = 0.9$.\n",
        "    \n",
        "The value of $(3,1)$ is the expected infinite sum of discounted rewards from $(3,1)$. Since the agent keeps bumping into the wall when applying $\\pi$, it never exits the maze and this is an infinite sum of zero terms. Hence $V^\\pi((2,3)) = 0$.\n",
        "</div>\n",
        "</div>"
      ]
    },
    {
      "cell_type": "markdown",
      "metadata": {
        "hidden": true,
        "id": "dOYApNT8zdLv"
      },
      "source": [
        "Let's draw the value function.\n",
        "\n",
        "<img src=\"https://github.com/RL-VS/rlvs2021/blob/main/docs/class-material/rl_fundamentals/img/grid_vpi.png?raw=1\" width=\"200px\"></img>"
      ]
    },
    {
      "cell_type": "markdown",
      "metadata": {
        "hidden": true,
        "id": "jVjbyAOVzdLv"
      },
      "source": [
        "Suppose you are currently in cell $(1,2)$ and would like to choose what action to take. Suppose also that you know the value function above. You need to put a scalar value on all four actions. To evaluate each action, let's estimate what we can get by applying the action and then using $\\gamma \\times V^\\pi(s)$ to estimate what can obtain in the long run after this first action. Define $Q^\\pi((x,y),a)$ as the utility we estimate for each action $a$ in $(x,y)$.\n",
        "\n",
        "**Question**  \n",
        "What is $Q^\\pi((1,2),a)$ for action $a$ in $\\{N,S,E,W\\}$? What seems to be the most interesting first action to take, if we follow $\\pi$ after?  \n"
      ]
    },
    {
      "cell_type": "markdown",
      "metadata": {
        "hidden": true,
        "id": "wV6IAznRzdLv"
      },
      "source": [
        "**Answer:**\n",
        "\n",
        "$Q^\\pi((1,2),N) = 0 + \\gamma \\cdot \\gamma^2 = 0.729$  \n",
        "$Q^\\pi((1,2),S) = 0 + \\gamma \\cdot 0 = 0$  \n",
        "$Q^\\pi((1,2),E) = 0 + \\gamma \\cdot 0 = 0$  \n",
        "$Q^\\pi((1,2),W) = 0$  \n",
        "The best action seems to be $N$.\n"
      ]
    },
    {
      "cell_type": "markdown",
      "metadata": {
        "hidden": true,
        "id": "iKpJOfz4zdLv"
      },
      "source": [
        "An optimal policy is quite easy to guess. Let's draw the optimal value function (the value function of any optimal policy).\n",
        "\n",
        "<img src=\"https://github.com/RL-VS/rlvs2021/blob/main/docs/class-material/rl_fundamentals/img/grid_vopt.png?raw=1\" width=\"200px\"></img>\n",
        "\n",
        "Define $Q^*((x,y),a)$ as the utility we estimate for each action $a$ in $(x,y)$ if it is followed by an optimal policy.\n",
        "<div class=\"alert alert-warning\">\n",
        "    \n",
        "**Question**   \n",
        "What is $Q^*((1,2),a)$ for action $a$ in $\\{N,S,E,W\\}$? What seems to be the most interesting first action to take, if we act optimally after? Rank the actions by utility.  \n"
      ]
    },
    {
      "cell_type": "markdown",
      "metadata": {
        "hidden": true,
        "id": "m_UON4kezdLv"
      },
      "source": [
        "**Answer:**\n",
        "\n",
        "$Q^*$ is what we gain immediately, plus $\\gamma$ times what we expect to receive from applying an optimal policy in the state we reach by applying $a$.  \n",
        "$Q^*((1,2),N) = 0 + \\gamma\\times\\gamma^2=\\gamma^3$  \n",
        "$Q^*((1,2),S) = 0 + \\gamma\\times\\gamma^4=\\gamma^5$  \n",
        "$Q^*((1,2),E) = 0 + \\gamma\\times\\gamma^4=\\gamma^5$  \n",
        "$Q^*((1,2),W) = 0 + \\gamma\\times\\gamma^3=\\gamma^4$  \n",
        "The best action seems to be $N$, followed by $W$, after that $S$ and $E$ are tied.\n"
      ]
    },
    {
      "cell_type": "markdown",
      "metadata": {
        "hidden": true,
        "id": "34FskohKzdLv"
      },
      "source": [
        "\n",
        "**Question**  \n",
        "Now suppose $(1,2)$ is a special slippery cell. Going North has a $0.7$ probability of actually reaching $(1,3)$, but also a $0.2$ probability of staying in $(1,2)$ and a $0.1$ probability of ending in $(2,2)$. Note that this changes the problem and the optimal expected return function $V^*$.\n",
        "\n",
        "\n",
        "Given this new problem, can you write $Q^*((1,2),N)$ as a function of $V^*(1,3)$, $V^*(1,2)$ and $V^*(2,2)$?\n"
      ]
    },
    {
      "cell_type": "markdown",
      "metadata": {
        "hidden": true,
        "id": "dn910aTDzdLv"
      },
      "source": [
        "**Answer:**\n",
        "\n",
        "When we take action $N$ in $(1,2)$, there are 3 possible outcomes:\n",
        "- with probability $0.7$, reach $(1,3)$ and get reward $0$,\n",
        "- with probability $0.2$, reach $(1,2)$ and get reward $0$,\n",
        "- with probability $0.1$, reach $(2,2)$ and get reward $0$.\n",
        "\n",
        "So what we can expect to get from applying $N$ in $(1,2)$ is:  \n",
        "\n",
        "\\begin{align*}\n",
        "    Q^*((1,2), N) &= 0.7 \\times (0+\\gamma V^*(1,3)) + 0.2\\times(0+\\gamma V^*(1,2)) + 0.1\\times(0+\\gamma V^*(2,2))\\\\\n",
        "    &= \\gamma \\left(0.7\\times V^*(1,3) + 0.2\\times V^*(1,2)+ 0.1\\times V^*(2,2)\\right)\n",
        "\\end{align*}\n",
        "</div>\n",
        "</div>"
      ]
    },
    {
      "cell_type": "markdown",
      "metadata": {
        "hidden": true,
        "id": "7lfdKfgxzdLw"
      },
      "source": [
        "**Question**\n",
        "\n",
        "Now you can remark that if we knew the action $\\pi^*((1,2))$ taken by an optimal policy in $(1,2)$, then $Q^*((1,2), \\pi^*(1,2))$ would actually be precisely the optimal long-term return $V^*$ (since it would be the expected return of a policy that acts optimally at every time step, including the first one).\n",
        "\n",
        "\n",
        "Suppose an oracle tells us that $\\pi^*((1,2))=N$. Using the previous exercice, write $V^*(1,2)$ as a function of $V^*(1,3)$, $V^*(1,2)$ and $V^*(2,2)$.\n"
      ]
    },
    {
      "cell_type": "markdown",
      "metadata": {
        "hidden": true,
        "id": "5axx0eiBzdLw"
      },
      "source": [
        "**Answer:**\n",
        "\n",
        "We have $V^*((1,2)) = Q^*((1,2),N)$, so\n",
        "$$V^*((1,2)) = \\gamma \\left(0.7\\times V^*(1,3) + 0.2\\times V^*(1,2)+ 0.1\\times V^*(2,2)\\right)$$\n"
      ]
    },
    {
      "cell_type": "markdown",
      "metadata": {
        "id": "S34VKH9x2Fy4"
      },
      "source": [
        "### <img src=\"https://img.icons8.com/?size=50&id=43167&format=png&color=000000\" style=\"height:30px;display:inline\"> Bellman Evaluation Operator\n",
        "\n",
        "The following cells contain advanced mathematical tools and intuitions to understand the convergence of value-based methods. While this is not a complete proof, the main ideas are presented in a simplified manner to help you grasp the key concepts. For a more rigorous and detailed proof, we encourage you to explore the full explanation provided in this [book](https://github.com/avivt/RL-book-overleaf).\n"
      ]
    },
    {
      "cell_type": "markdown",
      "metadata": {
        "id": "AgISTzn_NKPk"
      },
      "source": [
        "The Bellman evaluation operator, denoted as $T^\\pi$, helps in evaluating a given policy by updating the value function iteratively until it converges to the true value function for that policy."
      ]
    },
    {
      "cell_type": "markdown",
      "metadata": {
        "id": "4Tya4rYJ2WYc"
      },
      "source": [
        "The evaluation operator $T^\\pi$ for value functions transforms a function $V: S \\rightarrow \\mathbb{R}$ into:\n",
        "\n",
        "$$\n",
        "T^\\pi V(s) = r(s, \\pi(s)) + \\gamma \\mathbb{E}_{s' \\sim P(s'|s, \\pi(s))} [V(s')]\n",
        "$$\n",
        "\n",
        "This can also be written as:\n",
        "\n",
        "$$\n",
        "T^\\pi V(s) = r(s, \\pi(s)) + \\gamma \\sum_{s' \\in S} P(s'|s, \\pi(s)) V(s')\n",
        "$$\n",
        "\n",
        "Similarly, the evaluation operator $T^\\pi$ for state-action value functions transforms a function $Q: S \\times A \\rightarrow \\mathbb{R}$ into:\n",
        "\n",
        "$$\n",
        "T^\\pi Q(s,a) = r(s,a) + \\gamma \\mathbb{E}_{s' \\sim P(s'|s,a)} [Q^\\pi(s', \\pi(s'))]\n",
        "$$\n",
        "\n",
        "This can also be written as:\n",
        "\n",
        "$$\n",
        "T^\\pi Q(s,a) = r(s,a) + \\gamma \\sum_{s' \\in S} P(s'|s,a) Q^\\pi(s', \\pi(s'))\n",
        "$$"
      ]
    },
    {
      "cell_type": "markdown",
      "metadata": {
        "id": "rVqiDMtN6Wsa"
      },
      "source": [
        "<img src='https://github.com/CLAIR-LAB-TECHNION/CLAI/blob/main/tutorials/assets/task_sign.png?raw=true' width=800/>"
      ]
    },
    {
      "cell_type": "markdown",
      "metadata": {
        "id": "6cvJ-lLIqyCa"
      },
      "source": [
        "#### <img src=\"https://img.icons8.com/?size=50&id=46589&format=png&color=000000\" style=\"height:30px;display:inline\"> Task 2: Bellman operator\n",
        "\n",
        "Write a function that takes an environment, gamma and a state-action value function $Q$ as input and returns the Bellman optimality operator applied to $Q$, $T^* Q$ and the greedy policy with respect to $Q$.\n"
      ]
    },
    {
      "cell_type": "code",
      "execution_count": null,
      "metadata": {
        "id": "erSy1AfnqyCc"
      },
      "outputs": [],
      "source": [
        "# --------------\n",
        "# Your answer\n",
        "# --------------\n",
        "def bellman_operator(Q, env, gamma=0.9):\n",
        "    \"\"\"\n",
        "    Applies the Bellman operator to the Q-value function.\n",
        "\n",
        "    Parameters:\n",
        "    Q (numpy.ndarray): The current Q-value function.\n",
        "    env (gym.Env): The environment.\n",
        "    gamma (float): The discount factor.\n",
        "\n",
        "    Returns:\n",
        "    TQ (numpy.ndarray): The updated Q-value function after applying the Bellman operator.\n",
        "    greedy_policy (numpy.ndarray): The greedy policy derived from the updated Q-values.\n",
        "    \"\"\"\n",
        "    # Initialize the updated Q-value function\n",
        "    TQ = np.zeros((env.observation_space.n, env.action_space.n))\n",
        "\n",
        "    ###\n",
        "    # To fill\n",
        "    ###\n",
        "    return TQ, greedy_policy"
      ]
    },
    {
      "cell_type": "markdown",
      "metadata": {
        "id": "CBWl_l0e2xRd"
      },
      "source": [
        "#### Properties of $T^\\pi$\n",
        "\n",
        "1. **Affine Operator**: $T^\\pi$ is an affine operator, defining a linear system of equations.\n",
        "2. **Contraction Mapping**: $T^\\pi$ is a contraction mapping with $\\gamma < 1$, meaning it is a $\\|\\cdot\\|_\\infty$-contraction mapping over the $\\mathcal{F}(S, \\mathbb{R})$ or $\\mathcal{F}(S \\times A, \\mathbb{R})$ Banach space.\n",
        "\n",
        "Due to the contraction property, $V^\\pi$ or $Q^\\pi$ is the unique solution to the fixed point equation $V = T^\\pi V$ or $Q = T^\\pi Q$."
      ]
    },
    {
      "cell_type": "markdown",
      "metadata": {
        "id": "msHFZRVo3hHB"
      },
      "source": [
        "If we apply $T^\\pi$ enough times, $Q_n$ should converge to $Q^\\pi$, regardless of the initial value $Q_0$.\n",
        "\n",
        "In more formal terms, because $T^\\pi$ is a contraction mapping, the sequence $Q_{n+1} = T^\\pi Q_n$ converges to the fixed point of $T^\\pi$."
      ]
    },
    {
      "cell_type": "markdown",
      "metadata": {
        "hidden": true,
        "id": "GSs1zZhezdLw"
      },
      "source": [
        "Let's compute the sequence $Q_{n+1} = T^\\pi Q_n$.\n"
      ]
    },
    {
      "cell_type": "code",
      "execution_count": null,
      "metadata": {
        "hidden": true,
        "id": "vs9orHk6zdLx"
      },
      "outputs": [],
      "source": [
        "pi = fl.RIGHT*np.ones((env.observation_space.n), dtype=np.uint8)\n",
        "nb_iter = 20\n",
        "gamma = 0.9\n",
        "\n",
        "Q = np.zeros((env.observation_space.n, env.action_space.n))\n",
        "Qpi_sequence = [Q]\n",
        "for i in range(nb_iter):\n",
        "    Qnew = np.zeros((env.observation_space.n, env.action_space.n))\n",
        "    for x in range(env.observation_space.n):\n",
        "        for a in range(env.action_space.n):\n",
        "            outcomes = env.unwrapped.P[x][a]\n",
        "            for o in outcomes:\n",
        "                p = o[0]\n",
        "                y = o[1]\n",
        "                r = o[2]\n",
        "                Qnew[x,a] += p * (r + gamma * Q[y,pi[y]])\n",
        "    Q = Qnew\n",
        "    Qpi_sequence.append(Q)"
      ]
    },
    {
      "cell_type": "markdown",
      "metadata": {
        "hidden": true,
        "id": "Fnm6huOvzdLx"
      },
      "source": [
        "Let's plot the sequence of $\\| Q_n - Q_{n-1} \\|_\\infty$ to verify the convergence of the sequence.\n"
      ]
    },
    {
      "cell_type": "code",
      "execution_count": null,
      "metadata": {
        "colab": {
          "base_uri": "https://localhost:8080/",
          "height": 465
        },
        "hidden": true,
        "id": "ba2cYeJpzdLx",
        "outputId": "3440af3a-882d-4ca3-e98a-95c118a1afbd"
      },
      "outputs": [
        {
          "data": {
            "text/plain": [
              "<Figure size 640x480 with 0 Axes>"
            ]
          },
          "execution_count": 16,
          "metadata": {},
          "output_type": "execute_result"
        },
        {
          "data": {
            "image/png": "[encoded data removed]",
            "text/plain": [
              "<Figure size 640x480 with 1 Axes>"
            ]
          },
          "metadata": {},
          "output_type": "display_data"
        },
        {
          "data": {
            "text/plain": [
              "<Figure size 640x480 with 0 Axes>"
            ]
          },
          "metadata": {},
          "output_type": "display_data"
        }
      ],
      "source": [
        "import matplotlib.pyplot as plt\n",
        "%matplotlib inline\n",
        "\n",
        "residuals = []\n",
        "for i in range(1, len(Qpi_sequence)):\n",
        "    residuals.append(np.max(np.abs(Qpi_sequence[i]-Qpi_sequence[i-1])))\n",
        "\n",
        "plt.plot(residuals)\n",
        "plt.figure()\n"
      ]
    },
    {
      "cell_type": "markdown",
      "metadata": {
        "hidden": true,
        "id": "tAKXdNMdzdLx"
      },
      "source": [
        "### Bellman optimality operator"
      ]
    },
    {
      "cell_type": "markdown",
      "metadata": {
        "hidden": true,
        "id": "s8aD8SW2zdLx"
      },
      "source": [
        "We can unfold the same kind of reasoning on the value of an optimal policy. We write:\n",
        "$$V^{\\pi^*} = V^*, \\quad Q^{\\pi^*} = Q^*$$\n",
        "\n",
        "\n",
        "Any policy $\\pi$ defined by $\\pi(s) \\in \\arg\\max\\limits_{a\\in A} Q^*(s,a)$ is an optimal policy.\n"
      ]
    },
    {
      "cell_type": "markdown",
      "metadata": {
        "hidden": true,
        "id": "1euKAukCzdLx"
      },
      "source": [
        "The optimal value function obeys:\n",
        "\\begin{align*}\n",
        "    V^*(s) &= \\max\\limits_{a\\in A} \\left[ r(s,a) + \\gamma \\mathbb{E}_{s'\\sim p(s'|s,a)} V^*(s') \\right]\\\\\n",
        "        &= \\max\\limits_{a\\in A} \\left[ r(s,a) + \\gamma \\sum\\limits_{s'\\in S} p(s'|s,a) V^*(s') \\right]\n",
        "\\end{align*}\n",
        "or in terms of $Q$-functions:\n",
        "\\begin{align*}\n",
        "    Q^*(s,a) &= r(s,a) + \\gamma \\mathbb{E}_{s'\\sim p(s'|s,a)} \\left[ \\max_{a'\\in A} Q^*(s',a') \\right]\\\\\n",
        "        &= r(s,a) + \\gamma \\sum\\limits_{s'\\in S}p(s'|s,a) \\max\\limits_{a'\\in A} Q^*(s',a')\n",
        "\\end{align*}\n"
      ]
    },
    {
      "cell_type": "markdown",
      "metadata": {
        "hidden": true,
        "id": "rPwCr3TazdLx"
      },
      "source": [
        "We have also defined the **Bellman optimality operator $T^*$** (on $V$ and $Q$ functions) as:\n",
        "\n",
        "$$\\left(T^*V\\right)(s) = \\max\\limits_{a\\in A} \\left[ r(s,a) + \\gamma \\mathbb{E}_{s'\\sim p(s'|s,a)} V(s') \\right]$$\n",
        "$$\\left(T^*Q\\right)(s,a) = r(s,a) + \\gamma \\mathbb{E}_{s'\\sim p(s'|s,a)} \\left[ \\max_{a'\\in A} Q(s',a') \\right]$$\n",
        "\n",
        "\n",
        "So finding $V^*$ (resp. $Q^*$) boils down to solving $V= T^* V$ (resp. $Q = T^* Q$)."
      ]
    },
    {
      "cell_type": "markdown",
      "metadata": {
        "hidden": true,
        "id": "KwaEW70bzdLx"
      },
      "source": [
        "#### Properties of $T^*$\n",
        "<ol>\n",
        "<li> $T^*$ is non-linear.<br>\n",
        "<li> $T^*$ is a contraction mapping<br>\n",
        "With $\\gamma<1$, $T^*$ is a $\\| \\cdot \\|_\\infty$-contraction mapping over the $\\mathcal{F}(S,\\mathbb{R})$ (resp. $\\mathcal{F}(S\\times A,\\mathbb{R})$) Banach space.<br>\n",
        "$\\Rightarrow$ With $\\gamma<1$, $V^*$ (resp. $Q^*$) is the unique solution to the fixed point equation:<br>\n",
        "&nbsp;&nbsp;&nbsp;&nbsp;&nbsp;&nbsp;&nbsp;&nbsp;&nbsp;&nbsp;$V=T^* V$ (resp. $Q=T^* Q$).\n",
        "</ol>\n"
      ]
    },
    {
      "cell_type": "markdown",
      "metadata": {
        "hidden": true,
        "id": "97pSqXMZzdLx"
      },
      "source": [
        "### Dynamic Programming for the optimality equation"
      ]
    },
    {
      "cell_type": "markdown",
      "metadata": {
        "hidden": true,
        "id": "6AESAZ6azdLx"
      },
      "source": [
        "Repeatedly applying $T^*$ to an initial function $Q_0$ yields the sequence $Q_{n+1} = T^* Q_n$ that converges to $Q^*$.\n",
        "\n",
        "The implementation of this sequence's computation is the algorithm called **Value Iteration**.\n",
        "\n",
        "Let's compute the sequence $Q_{n+1} = T^* Q_n$.\n",
        "</div>"
      ]
    },
    {
      "cell_type": "code",
      "execution_count": null,
      "metadata": {
        "hidden": true,
        "id": "fLjLXGK4zdLy"
      },
      "outputs": [],
      "source": [
        "gamma = 0.9\n",
        "Q = np.zeros((env.observation_space.n, env.action_space.n))\n",
        "Qopt_sequence = [Q]\n",
        "for i in range(nb_iter):\n",
        "    Qnew = np.zeros((env.observation_space.n, env.action_space.n))\n",
        "    for x in range(env.observation_space.n):\n",
        "        for a in range(env.action_space.n):\n",
        "            outcomes = env.unwrapped.P[x][a]\n",
        "            for o in outcomes:\n",
        "                p = o[0]\n",
        "                y = o[1]\n",
        "                r = o[2]\n",
        "                Qnew[x,a] += p * (r + np.max(Q[y,:]) )\n",
        "    Q = Qnew\n",
        "    Qopt_sequence.append(Q)"
      ]
    },
    {
      "cell_type": "markdown",
      "metadata": {
        "hidden": true,
        "id": "SF0DdqYyzdLy"
      },
      "source": [
        "\n",
        "Let's plot the sequence of $\\| Q_n - Q_{n-1} \\|_\\infty$ to verify the convergence of the sequence.\n",
        "</div>"
      ]
    },
    {
      "cell_type": "code",
      "execution_count": null,
      "metadata": {
        "colab": {
          "base_uri": "https://localhost:8080/",
          "height": 465
        },
        "hidden": true,
        "id": "JCCUd_3rzdLy",
        "outputId": "f8531d0d-d3b1-472e-f965-e84a0f23fc62"
      },
      "outputs": [
        {
          "data": {
            "text/plain": [
              "<Figure size 640x480 with 0 Axes>"
            ]
          },
          "execution_count": 24,
          "metadata": {},
          "output_type": "execute_result"
        },
        {
          "data": {
            "image/png": "[encoded data removed]",
            "text/plain": [
              "<Figure size 640x480 with 1 Axes>"
            ]
          },
          "metadata": {},
          "output_type": "display_data"
        },
        {
          "data": {
            "text/plain": [
              "<Figure size 640x480 with 0 Axes>"
            ]
          },
          "metadata": {},
          "output_type": "display_data"
        }
      ],
      "source": [
        "residuals = []\n",
        "for i in range(1, len(Qopt_sequence)):\n",
        "    residuals.append(np.max(np.abs(Qopt_sequence[i]-Qopt_sequence[i-1])))\n",
        "\n",
        "plt.plot(residuals)\n",
        "plt.figure()\n"
      ]
    },
    {
      "cell_type": "markdown",
      "metadata": {
        "id": "MVqn4Kc8Aomo"
      },
      "source": [
        "## <img src=\"https://img.icons8.com/?size=50&id=104299&format=png&color=000000\" style=\"height:30px;display:inline\"> Value Iteration\n",
        "\n",
        "\n",
        "\n",
        "Value iteration is a method used in dynamic programming to compute the optimal value function $V^*(s)$ and derive the optimal policy $\\pi^*$. This method is particularly useful when the reward function and transition probabilities are known, and the state and action spaces are not excessively large.\n"
      ]
    },
    {
      "cell_type": "markdown",
      "metadata": {
        "id": "IjyHFajTAwtn"
      },
      "source": [
        "#### Dynamic Programming\n",
        "\n",
        "To understand value iteration, let's assume we know the transition probabilities $P(s'|s,a)$ and that both state ($s$) and action ($a$) spaces are small and discrete. This is known as the \"known dynamics\" setting, which is not typical in model-free reinforcement learning but is useful for deriving the basic algorithm.\n",
        "\n",
        "In this setting, we can represent the entire state-action space using a table. For instance, in a grid world with 16 states and 4 possible actions (left, right, up, down), we can store the value function $V^\\pi(s)$ in a table with 16 entries."
      ]
    },
    {
      "cell_type": "markdown",
      "metadata": {
        "id": "r2dwoOb2A6TT"
      },
      "source": [
        "### Value Iteration Algorithm\n",
        "\n",
        "Value iteration simplifies the policy iteration algorithm by directly computing the optimal value function without explicitly maintaining a policy. The algorithm consists of the following steps:\n",
        "\n",
        "1. **Initialize** $Q_0(s,a) = 0$ for all $(s,a)$.\n",
        "2. **Iterate**: For each $n$:\n",
        "   - Compute the new Q-values:\n",
        "\n",
        "     $$\n",
        "     Q_{n+1}(s,a) = \\sum_{s'} P(s'|s,a) \\left[ r(s,a,s') + \\gamma \\max_{a'} Q_n(s',a') \\right]\n",
        "     $$\n",
        "\n",
        "3. **Convergence**: Continue iterating until $Q_n$ converges to $Q^*$."
      ]
    },
    {
      "cell_type": "markdown",
      "metadata": {
        "id": "kwUt073cA_E4"
      },
      "source": [
        "\n",
        "\n",
        "Once $Q^*(s,a)$ is computed, the optimal policy $\\pi^*$ can be derived as:\n",
        "\n",
        "$$\n",
        "\\pi^*(s) = \\arg \\max_{a \\in A} Q^*(s,a)\n",
        "$$"
      ]
    },
    {
      "cell_type": "markdown",
      "metadata": {
        "id": "m7emukRMA1_8"
      },
      "source": [
        "<img src='https://github.com/CLAIR-LAB-TECHNION/CLAI/blob/main/tutorials/assets/task_sign.png?raw=true' width=800/>"
      ]
    },
    {
      "cell_type": "markdown",
      "metadata": {
        "id": "-AL859ElqyCf"
      },
      "source": [
        "#### <img src=\"https://img.icons8.com/?size=50&id=46589&format=png&color=000000\" style=\"height:30px;display:inline\"> Task 3: Value iteration\n",
        "\n",
        "1. (Optimal Value function) Write a function that takes as input an initial state-action value function `Q0` and an environment `env` and returns a vector `Q` such that $||T^* Q -  Q ||_\\infty \\leq \\varepsilon $ and the greedy policy with respect to $Q$.\n",
        "2. Test the convergence of the function you implemented."
      ]
    },
    {
      "cell_type": "code",
      "execution_count": null,
      "metadata": {
        "id": "57Y249ICqyCf"
      },
      "outputs": [],
      "source": [
        "# --------------\n",
        "# Your answer to 1.\n",
        "# --------------\n",
        "def value_iteration(Q0, env, epsilon=1e-5):\n",
        "    \"\"\"\n",
        "    Finding the optimal value function. To be done!\n",
        "    \"\"\"\n",
        "    TQ = 0\n",
        "    greedy_policy = []\n",
        "    return TQ, greedy_policy"
      ]
    },
    {
      "cell_type": "code",
      "execution_count": null,
      "metadata": {
        "id": "vKffKW-DqyCg"
      },
      "outputs": [],
      "source": [
        "# --------------\n",
        "# Your answer to 2.\n",
        "# --------------"
      ]
    },
    {
      "cell_type": "markdown",
      "metadata": {
        "id": "sJBNkA_h64g1"
      },
      "source": [
        "#<img src=\"https://img.icons8.com/?size=50&id=qjEfYyGK_vq-&format=png&color=000000\" style=\"height:30px;display:inline\">  Monte Carlo vs Temporal Difference Learning"
      ]
    },
    {
      "cell_type": "markdown",
      "metadata": {
        "id": "H5Fi7ieK66NR"
      },
      "source": [
        "In reinforcement learning, Monte Carlo (MC) and Temporal Difference (TD) are two fundamental strategies used to train value functions or policy functions. Both methods use experience to solve the reinforcement learning problem, but they differ in how and when they update their value estimates.\n"
      ]
    },
    {
      "cell_type": "markdown",
      "metadata": {
        "id": "oiExeyUd7a51"
      },
      "source": [
        "<img src='https://huggingface.co/datasets/huggingface-deep-rl-course/course-images/resolve/main/en/unit3/Summary.jpg' width=800/>"
      ]
    },
    {
      "cell_type": "markdown",
      "metadata": {
        "id": "ar_P55By68aK"
      },
      "source": [
        "### Monte Carlo Learning\n",
        "\n",
        "Monte Carlo methods update the value function based on the entire episode of experience. This means that the agent interacts with the environment until the episode terminates, and then uses the total accumulated reward (return) to update the value function.\n",
        "\n",
        "\n"
      ]
    },
    {
      "cell_type": "markdown",
      "metadata": {
        "id": "LpsG7fT97b8f"
      },
      "source": [
        "<img src='https://huggingface.co/datasets/huggingface-deep-rl-course/course-images/resolve/main/en/unit3/MC-5.jpg' width=800/>"
      ]
    },
    {
      "cell_type": "markdown",
      "metadata": {
        "id": "rfHK6zfm7DLf"
      },
      "source": [
        "**Key Characteristics:**\n",
        "- **Learning at the end of the episode:** The value function is updated only after the episode has concluded.\n",
        "- **Accurate but high variance:** Since Monte Carlo uses the actual return, the updates are accurate. However, the variance can be high due to the dependence on the entire episode.\n",
        "- **No bootstrapping:** Monte Carlo methods do not rely on previous estimates; they use the complete return for updates.\n",
        "\n"
      ]
    },
    {
      "cell_type": "markdown",
      "metadata": {
        "id": "BZFysPq37E0a"
      },
      "source": [
        "**Example Process:**\n",
        "1. The agent follows a policy to generate an episode consisting of states, actions, rewards, and next states.\n",
        "2. At the end of the episode, the agent calculates the return $G_t$.\n",
        "3. The value function $V(S_t)$ is updated based on the return $G_t$.\n",
        "\n",
        "$$ V(S_t) = V(S_t) + \\alpha \\left[ G_t - V(S_t) \\right] $$"
      ]
    },
    {
      "cell_type": "markdown",
      "metadata": {
        "id": "T7SohbnU7MYg"
      },
      "source": [
        "### Temporal Difference Learning\n",
        "\n",
        "Temporal Difference methods, such as TD(0), update the value function based on a single step of experience. The value function is updated incrementally using the difference between the estimated value and the actual reward plus the discounted value of the next state.\n",
        "\n"
      ]
    },
    {
      "cell_type": "markdown",
      "metadata": {
        "id": "H0DrOqJD7cu7"
      },
      "source": [
        "<img src='https://huggingface.co/datasets/huggingface-deep-rl-course/course-images/resolve/main/en/unit3/TD-3.jpg' width=800/>"
      ]
    },
    {
      "cell_type": "markdown",
      "metadata": {
        "id": "CBLZmgcs7RKa"
      },
      "source": [
        "**Key Characteristics:**\n",
        "- **Learning at each step:** The value function is updated after each interaction with the environment.\n",
        "- **Lower variance but biased:** TD methods can have lower variance because they bootstrap, using existing value estimates to update the value function. However, this introduces bias.\n",
        "- **Bootstrapping:** TD methods update the value function using the estimated return from the current state and action.\n",
        "\n",
        "\n"
      ]
    },
    {
      "cell_type": "markdown",
      "metadata": {
        "id": "52uek33k7SXE"
      },
      "source": [
        "**Example Process:**\n",
        "1. The agent takes an action $A_t$ in state $S_t$, receives a reward $R_{t+1}$, and transitions to the next state $S_{t+1}$.\n",
        "2. The value function $V(S_t)$ is updated based on the reward and the estimated value of $S_{t+1}$.\n",
        "\n",
        "$$ V(S_t) = V(S_t) + \\alpha \\left[ R_{t+1} + \\gamma V(S_{t+1}) - V(S_t) \\right] $$"
      ]
    },
    {
      "cell_type": "markdown",
      "metadata": {
        "id": "KC4crPNg_2x7"
      },
      "source": [
        "# <img src=\"https://img.icons8.com/?size=50&id=110865&format=png&color=000000\" style=\"height:30px;display:inline\"> Q-Learning\n",
        "\n",
        "\n",
        "\n",
        "Q-Learning is a fundamental algorithm in reinforcement learning that helps in training an action-value function, which we commonly refer to as the Q-function. This Q-function determines the value of being at a particular state and taking a specific action at that state. The key characteristic of Q-Learning is that it uses a Temporal Difference (TD) approach to update its Q-values."
      ]
    },
    {
      "cell_type": "markdown",
      "metadata": {
        "id": "GzcLBjU7_5jc"
      },
      "source": [
        "#### Temporal Difference Learning as Stochastic Approximation\n",
        "\n",
        "Evaluating $Q^\\pi(s,a)$ involves estimating the expected return $G^\\pi(s,a)$. Stochastic approximation theory provides a way to estimate $Q^\\pi(s,a)$ from experience samples rather than from a model. This is achieved through a sequence of updates:\n",
        "\n",
        "$$ q_{t+1} = q_t + \\alpha_t \\left(g^\\pi_t - q_t\\right) $$\n",
        "\n",
        "where $g^\\pi_t$ are independent realizations of $G^\\pi(s,a)$ and $\\alpha_t$ are step sizes that meet specific conditions to ensure convergence.\n",
        "\n",
        "This approach can be generalized using Stochastic Gradient Descent (SGD), where $Q^\\pi$ minimizes the loss function:\n",
        "\n",
        "$$ L(Q) = \\frac{1}{2} \\int_{S \\times A} \\left[ Q(s,a) - \\mathbb{E}\\left(G^\\pi(s,a)\\right) \\right]^2 dsda $$\n",
        "\n",
        "The gradient descent update for this can be approximated using a set of independent state-action pairs, leading to the SGD update:\n",
        "\n",
        "$$ Q \\leftarrow Q - \\alpha \\sum_{i=1}^N \\left[ Q(s_i,a_i) - g^\\pi(s_i,a_i) \\right] \\nabla_Q Q(s_i,a_i) $$\n",
        "\n",
        "For simplicity, the stochastic approximation perspective is often used, where the update becomes:\n",
        "\n",
        "$$ Q(s,a) \\leftarrow Q(s,a) + \\alpha \\left(g^\\pi(s,a) - Q(s,a) \\right) $$\n"
      ]
    },
    {
      "cell_type": "markdown",
      "metadata": {
        "id": "jO0Cg46ZA3HC"
      },
      "source": [
        "#### Temporal Difference (TD) Learning\n",
        "\n",
        "TD learning combines ideas from Monte Carlo methods and dynamic programming. It updates the value function after every step using the TD error, which measures the difference between the predicted value and the actual observed value. The TD(0) update for a Q-function is given by:\n",
        "\n",
        "$$Q(s_t,a_t) \\leftarrow Q(s_t,a_t) + \\alpha \\left(r_t + \\gamma Q(s_{t+1}, \\pi(s_{t+1})) - Q(s_t,a_t)\\right).$$\n",
        "\n",
        "Here, $r_t$ is the reward received, $\\gamma$ is the discount factor, and $\\pi$ is the policy being evaluated.\n",
        "\n",
        "**Temporal Difference Error**: The difference $\\delta_t = r_t + \\gamma Q(s_{t+1}, \\pi(s_{t+1})) - Q(s_t,a_t)$ is called the temporal difference (TD) error. It represents the discrepancy between the predicted Q-value and the observed return."
      ]
    },
    {
      "cell_type": "markdown",
      "metadata": {
        "id": "b20M0QkCBitZ"
      },
      "source": [
        "#### Bootstrapping and Convergence\n",
        "\n",
        "Bootstrapping refers to the use of existing value estimates to update Q-values. This is a core aspect of TD learning, enabling it to update values based on a combination of observed rewards and estimated future values.\n",
        "\n",
        "For TD(0) to converge to the correct Q-values, the following conditions must be met:\n",
        "- All state-action pairs must be visited infinitely often.\n",
        "- The step sizes $\\alpha_t$ must satisfy the Robbins-Monro conditions."
      ]
    },
    {
      "cell_type": "markdown",
      "metadata": {
        "id": "oBYVWN0mC41s"
      },
      "source": [
        "## <img src=\"https://img.icons8.com/?size=50&id=tLpFC4eS6GLY&format=png&color=000000\" style=\"height:30px;display:inline\"> Q-Learning Algorithm\n",
        "\n"
      ]
    },
    {
      "cell_type": "markdown",
      "metadata": {
        "id": "ApinyeqQEioV"
      },
      "source": [
        "<img src='https://huggingface.co/datasets/huggingface-deep-rl-course/course-images/resolve/main/en/unit3/Q-learning-2.jpg' width=800/>"
      ]
    },
    {
      "cell_type": "markdown",
      "metadata": {
        "id": "biggcRnT6aOs"
      },
      "source": [
        "<img src='https://github.com/CLAIR-LAB-TECHNION/CLAI/blob/main/tutorials/assets/task_sign.png?raw=true' width=800/>"
      ]
    },
    {
      "cell_type": "markdown",
      "metadata": {
        "id": "1pFhWblk3Awr"
      },
      "source": [
        "## <img src=\"https://img.icons8.com/?size=50&id=46589&format=png&color=000000\" style=\"height:30px;display:inline\"> Task 4: Create and Initialize the Q-table\n",
        "\n",
        "(Step 1 of the pseudocode)\n",
        "\n",
        "\n",
        "**Initialize the Q-Table**\n",
        "   - Create a table $Q$ with all state-action pairs, initialized to zero or some arbitrary value.\n",
        "   - This table will be updated as the agent learns from its interactions with the environment.\n",
        "\n",
        "\n",
        "\n"
      ]
    },
    {
      "cell_type": "code",
      "execution_count": null,
      "metadata": {
        "id": "y3ZCdluj3k0l"
      },
      "outputs": [],
      "source": [
        "%%script true\n",
        "\n",
        "state_space =\n",
        "print(\"There are \", state_space, \" possible states\")\n",
        "\n",
        "action_space =\n",
        "print(\"There are \", action_space, \" possible actions\")"
      ]
    },
    {
      "cell_type": "code",
      "execution_count": null,
      "metadata": {
        "id": "rCddoOXM3UQH"
      },
      "outputs": [],
      "source": [
        "%%script true\n",
        "# Let's create our Qtable of size (state_space, action_space) and initialized each values at 0 using np.zeros. np.zeros needs a tuple (a,b)\n",
        "def initialize_q_table(state_space, action_space):\n",
        "  Qtable =\n",
        "  return Qtable"
      ]
    },
    {
      "cell_type": "code",
      "execution_count": null,
      "metadata": {
        "id": "9YfvrqRt3jdR"
      },
      "outputs": [],
      "source": [
        "Qtable_frozenlake = initialize_q_table(state_space, action_space)"
      ]
    },
    {
      "cell_type": "markdown",
      "metadata": {
        "id": "bwDzzC26Dj1I"
      },
      "source": [
        "### <img src=\"https://img.icons8.com/?size=50&id=42816&format=png&color=000000\" style=\"height:30px;display:inline\"> Solution"
      ]
    },
    {
      "cell_type": "code",
      "execution_count": null,
      "metadata": {
        "colab": {
          "base_uri": "https://localhost:8080/"
        },
        "id": "HuTKv3th3ohG",
        "outputId": "dae1716d-637c-4685-a904-22ca6367397a"
      },
      "outputs": [
        {
          "name": "stdout",
          "output_type": "stream",
          "text": [
            "There are  16  possible states\n",
            "There are  4  possible actions\n"
          ]
        }
      ],
      "source": [
        "state_space = env.observation_space.n\n",
        "print(\"There are \", state_space, \" possible states\")\n",
        "\n",
        "action_space = env.action_space.n\n",
        "print(\"There are \", action_space, \" possible actions\")"
      ]
    },
    {
      "cell_type": "code",
      "execution_count": null,
      "metadata": {
        "id": "Y0WlgkVO3Jf9"
      },
      "outputs": [],
      "source": [
        "Qtable_frozenlake = initialize_q_table(state_space, action_space)"
      ]
    },
    {
      "cell_type": "markdown",
      "metadata": {
        "id": "Atll4Z774gri"
      },
      "source": [
        "## <img src=\"https://img.icons8.com/?size=50&id=42957&format=png&color=000000\" style=\"height:30px;display:inline\"> Greedy policy\n",
        "\n",
        "\n",
        "\n",
        "Remember we have two policies since Q-Learning is an **off-policy** algorithm. This means we're using a **different policy for acting and updating the value function**.\n",
        "\n",
        "- Epsilon-greedy policy (acting policy)\n",
        "- Greedy-policy (updating policy)\n",
        "\n",
        "The greedy policy will also be the final policy we'll have when the Q-learning agent completes training. The greedy policy is used to select an action using the Q-table.\n",
        "\n",
        "<img src=\"https://huggingface.co/datasets/huggingface-deep-rl-course/course-images/resolve/main/en/unit3/off-on-4.jpg\" alt=\"Q-Learning\" width=\"100%\"/>\n"
      ]
    },
    {
      "cell_type": "markdown",
      "metadata": {
        "id": "aQjXFDlPBdX5"
      },
      "source": [
        "### <img src=\"https://img.icons8.com/?size=50&id=46589&format=png&color=000000\" style=\"height:30px;display:inline\"> Task 5: Define the greedy policy"
      ]
    },
    {
      "cell_type": "code",
      "execution_count": null,
      "metadata": {
        "id": "E3SCLmLX5bWG"
      },
      "outputs": [],
      "source": [
        "%%script true\n",
        "\n",
        "def greedy_policy(Qtable, state):\n",
        "  # Exploitation: take the action with the highest state, action value\n",
        "  action =\n",
        "\n",
        "  return action"
      ]
    },
    {
      "cell_type": "markdown",
      "metadata": {
        "id": "flILKhBU3yZ7"
      },
      "source": [
        "## <img src=\"https://img.icons8.com/?size=50&id=fMIqNhC5krWZ&format=png&color=000000\" style=\"height:30px;display:inline\"> Epsilon-greedy policy\n",
        "\n",
        "\n",
        "\n",
        "Epsilon-greedy is the training policy that handles the exploration/exploitation trade-off.\n",
        "\n",
        "The idea with epsilon-greedy:\n",
        "\n",
        "- With *probability 1 - ɛ* : **we do exploitation** (i.e. our agent selects the action with the highest state-action pair value).\n",
        "\n",
        "- With *probability ɛ*: we do **exploration** (trying a random action).\n",
        "\n",
        "As the training continues, we progressively **reduce the epsilon value since we will need less and less exploration and more exploitation.**\n",
        "\n",
        "<img src=\"https://huggingface.co/datasets/huggingface-deep-rl-course/course-images/resolve/main/en/unit3/Q-learning-4.jpg\" alt=\"Q-Learning\" width=\"100%\"/>\n"
      ]
    },
    {
      "cell_type": "markdown",
      "metadata": {
        "id": "LpqFsTobG__m"
      },
      "source": [
        "#### Exploration vs. Exploitation Tradeoff\n",
        "\n",
        "Balancing exploration and exploitation is crucial in Q-Learning. The $\\epsilon$-greedy strategy is commonly used to address this tradeoff:\n",
        "- **Exploration**: Trying new actions to discover their effects and gather more information.\n",
        "- **Exploitation**: Using known information to maximize the immediate reward.\n",
        "\n",
        "\n",
        "At the beginning of the training, the probability of doing exploration will be huge since ɛ is very high, so most of the time, we’ll explore. But as the training goes on, and consequently our Q-table gets better and better in its estimations, we progressively reduce the epsilon value since we will need less and less exploration and more exploitation.\n",
        "\n",
        "As training progresses, the value of $\\epsilon$ is gradually reduced to shift the focus from exploration to exploitation, leveraging the learned Q-values to make better decisions."
      ]
    },
    {
      "cell_type": "markdown",
      "metadata": {
        "id": "C1Q_l0rPHdlL"
      },
      "source": [
        "<img src=\"https://huggingface.co/datasets/huggingface-deep-rl-course/course-images/resolve/main/en/unit3/Q-learning-5.jpg\" alt=\"Q-Learning\" width=\"70%\"/>"
      ]
    },
    {
      "cell_type": "markdown",
      "metadata": {
        "id": "nnURA7RvCbFC"
      },
      "source": [
        "### <img src=\"https://img.icons8.com/?size=50&id=46589&format=png&color=000000\" style=\"height:30px;display:inline\"> Task 6: Define the epsilon greedy policy"
      ]
    },
    {
      "cell_type": "code",
      "execution_count": null,
      "metadata": {
        "id": "6Bj7x3in3_Pq"
      },
      "outputs": [],
      "source": [
        "%%script true\n",
        "def epsilon_greedy_policy(Qtable, state, epsilon):\n",
        "  # Randomly generate a number between 0 and 1\n",
        "  random_num =\n",
        "  # if random_num > greater than epsilon --> exploitation\n",
        "  if random_num > epsilon:\n",
        "    # Take the action with the highest value given a state\n",
        "    # np.argmax can be useful here\n",
        "    action =\n",
        "  # else --> exploration\n",
        "  else:\n",
        "    action = # Take a random action\n",
        "\n",
        "  return action"
      ]
    },
    {
      "cell_type": "markdown",
      "metadata": {
        "id": "cDb7Tdx8atfL"
      },
      "source": [
        "## <img src=\"https://img.icons8.com/?size=50&id=104321&format=png&color=000000\" style=\"height:30px;display:inline\"> The training loop method\n",
        "\n",
        "\n",
        "\n",
        "<img src=\"https://cdn-media-1.freecodecamp.org/images/TnN7ys7VGKoDszzv3WDnr5H8txOj3KKQ0G8o\">\n",
        "\n",
        "The training loop goes like this:\n",
        "\n",
        "```\n",
        "For episode in the total of training episodes:\n",
        "\n",
        "Reduce epsilon (since we need less and less exploration)\n",
        "Reset the environment\n",
        "\n",
        "  For step in max timesteps:    \n",
        "    Choose the action At using epsilon greedy policy\n",
        "    Take the action (a) and observe the outcome state(s') and reward (r)\n",
        "    Update the Q-value Q(s,a) using Bellman equation Q(s,a) + lr [R(s,a) + gamma * max Q(s',a') - Q(s,a)]\n",
        "    If done, finish the episode\n",
        "    Our next state is the new state\n",
        "```"
      ]
    },
    {
      "cell_type": "markdown",
      "metadata": {
        "id": "x9hsIjWuDVWd"
      },
      "source": [
        "### <img src=\"https://img.icons8.com/?size=50&id=46589&format=png&color=000000\" style=\"height:30px;display:inline\"> Task 7: Create the training loop"
      ]
    },
    {
      "cell_type": "code",
      "execution_count": null,
      "metadata": {
        "id": "paOynXy3aoJW"
      },
      "outputs": [],
      "source": [
        "%%script true\n",
        "\n",
        "def train(n_training_episodes, min_epsilon, max_epsilon, decay_rate, env, max_steps, Qtable):\n",
        "  for episode in tqdm(range(n_training_episodes)):\n",
        "    # Reduce epsilon (because we need less and less exploration)\n",
        "    epsilon = min_epsilon + (max_epsilon - min_epsilon)*np.exp(-decay_rate*episode)\n",
        "    # Reset the environment\n",
        "    state, info = env.reset()\n",
        "    step = 0\n",
        "    terminated = False\n",
        "    truncated = False\n",
        "\n",
        "    # repeat\n",
        "    for step in range(max_steps):\n",
        "      # Choose the action At using epsilon greedy policy\n",
        "      action =\n",
        "\n",
        "      # Take action At and observe Rt+1 and St+1\n",
        "      # Take the action (a) and observe the outcome state(s') and reward (r)\n",
        "      new_state, reward, terminated, truncated, info =\n",
        "\n",
        "      # Update Q(s,a):= Q(s,a) + lr [R(s,a) + gamma * max Q(s',a') - Q(s,a)]\n",
        "      Qtable[state][action] =\n",
        "\n",
        "      # If terminated or truncated finish the episode\n",
        "      if terminated or truncated:\n",
        "        break\n",
        "\n",
        "      # Our next state is the new state\n",
        "      state = new_state\n",
        "  return Qtable"
      ]
    },
    {
      "cell_type": "code",
      "execution_count": null,
      "metadata": {
        "id": "IyZaYbUAeolw"
      },
      "outputs": [],
      "source": [
        "def train(n_training_episodes, min_epsilon, max_epsilon, decay_rate, env, max_steps, Qtable):\n",
        "  for episode in tqdm(range(n_training_episodes)):\n",
        "    # Reduce epsilon (because we need less and less exploration)\n",
        "    epsilon = min_epsilon + (max_epsilon - min_epsilon)*np.exp(-decay_rate*episode)\n",
        "    # Reset the environment\n",
        "    state, info = env.reset()\n",
        "    step = 0\n",
        "    terminated = False\n",
        "    truncated = False\n",
        "\n",
        "    # repeat\n",
        "    for step in range(max_steps):\n",
        "      # Choose the action At using epsilon greedy policy\n",
        "      action = epsilon_greedy_policy(Qtable, state, epsilon)\n",
        "\n",
        "      # Take action At and observe Rt+1 and St+1\n",
        "      # Take the action (a) and observe the outcome state(s') and reward (r)\n",
        "      new_state, reward, terminated, truncated, info = env.step(action)\n",
        "\n",
        "      # Update Q(s,a):= Q(s,a) + lr [R(s,a) + gamma * max Q(s',a') - Q(s,a)]\n",
        "      Qtable[state][action] = Qtable[state][action] + learning_rate * (reward + gamma * np.max(Qtable[new_state]) - Qtable[state][action])\n",
        "\n",
        "      # If terminated or truncated finish the episode\n",
        "      if terminated or truncated:\n",
        "        break\n",
        "\n",
        "      # Our next state is the new state\n",
        "      state = new_state\n",
        "  return Qtable"
      ]
    },
    {
      "cell_type": "markdown",
      "metadata": {
        "id": "hW80DealcRtu"
      },
      "source": [
        "## <img src=\"https://img.icons8.com/?size=50&id=43434&format=png&color=000000\" style=\"height:30px;display:inline\"> Define the hyperparameters\n",
        "\n",
        "\n",
        "\n",
        "The exploration related hyperparamters are some of the most important ones.\n",
        "\n",
        "- We need to make sure that our agent **explores enough of the state space** to learn a good value approximation. To do that, we need to have progressive decay of the epsilon.\n",
        "- If you decrease epsilon too fast (too high decay_rate), **you take the risk that your agent will be stuck**, since your agent didn't explore enough of the state space and hence can't solve the problem."
      ]
    },
    {
      "cell_type": "code",
      "execution_count": null,
      "metadata": {
        "id": "Y1tWn0tycWZ1"
      },
      "outputs": [],
      "source": [
        "# Training parameters\n",
        "n_training_episodes = 10000  # Total training episodes\n",
        "learning_rate = 0.7          # Learning rate\n",
        "\n",
        "# Evaluation parameters\n",
        "n_eval_episodes = 100        # Total number of test episodes\n",
        "\n",
        "# Environment parameters\n",
        "env_id = \"FrozenLake-v1\"     # Name of the environment\n",
        "max_steps = 99               # Max steps per episode\n",
        "gamma = 0.95                 # Discounting rate\n",
        "eval_seed = []               # The evaluation seed of the environment\n",
        "\n",
        "# Exploration parameters\n",
        "max_epsilon = 1.0             # Exploration probability at start\n",
        "min_epsilon = 0.05            # Minimum exploration probability\n",
        "decay_rate = 0.0005            # Exponential decay rate for exploration prob"
      ]
    },
    {
      "cell_type": "markdown",
      "metadata": {
        "id": "WLwKQ4tUdhGI"
      },
      "source": [
        "## <img src=\"https://img.icons8.com/?size=50&id=xqc9b4R1mo2b&format=png&color=000000\" style=\"height:30px;display:inline\"> Train the Q-Learning agent\n",
        "\n"
      ]
    },
    {
      "cell_type": "code",
      "execution_count": null,
      "metadata": {
        "colab": {
          "base_uri": "https://localhost:8080/",
          "height": 49,
          "referenced_widgets": [
            "b1f65db482314fc4ac9ac211b5d2da33",
            "ab8a85460f1b41c1a2d8c9a783273b62",
            "ff95a49d8d1948eab9950597cb29d33c",
            "698ccdf8f30c47a9b24ba5b609c29a1e",
            "0ba824599ff3460e805f94f6cbd5a39b",
            "794fba50af52453a9c9e62ec9e01c43e",
            "9da491d88152482791b0e2faa2130299",
            "4f0ed3bf753a40dcb8938123fc68ae0a",
            "a6e47fb4f8e64da9875368114cc15aac",
            "1f046f60c3864f90a2799619c42c97a3",
            "0abdf800dfd0491f98bcdc8bf9acc017"
          ]
        },
        "id": "DPBxfjJdTCOH",
        "outputId": "88843cdd-6a0d-470a-8e95-f893347de12c"
      },
      "outputs": [
        {
          "data": {
            "application/vnd.jupyter.widget-view+json": {
              "model_id": "b1f65db482314fc4ac9ac211b5d2da33",
              "version_major": 2,
              "version_minor": 0
            },
            "text/plain": [
              "  0%|          | 0/10000 [00:00<?, ?it/s]"
            ]
          },
          "metadata": {},
          "output_type": "display_data"
        }
      ],
      "source": [
        "Qtable_frozenlake = train(n_training_episodes, min_epsilon, max_epsilon, decay_rate, env, max_steps, Qtable_frozenlake)"
      ]
    },
    {
      "cell_type": "markdown",
      "metadata": {
        "id": "yVeEhUCrc30L"
      },
      "source": [
        "Let's see what our Q-Learning table looks like now"
      ]
    },
    {
      "cell_type": "code",
      "execution_count": null,
      "metadata": {
        "colab": {
          "base_uri": "https://localhost:8080/"
        },
        "id": "nmfchsTITw4q",
        "outputId": "7f554785-4a7b-4372-b1ba-92aa11b259d8"
      },
      "outputs": [
        {
          "data": {
            "text/plain": [
              "array([[0.73509189, 0.77378094, 0.77378094, 0.73509189],\n",
              "       [0.73509189, 0.        , 0.81450625, 0.77378094],\n",
              "       [0.77378094, 0.857375  , 0.77378094, 0.81450625],\n",
              "       [0.81450625, 0.        , 0.77378094, 0.77378094],\n",
              "       [0.77378094, 0.81450625, 0.        , 0.73509189],\n",
              "       [0.        , 0.        , 0.        , 0.        ],\n",
              "       [0.        , 0.9025    , 0.        , 0.81450625],\n",
              "       [0.        , 0.        , 0.        , 0.        ],\n",
              "       [0.81450625, 0.        , 0.857375  , 0.77378094],\n",
              "       [0.81450625, 0.9025    , 0.9025    , 0.        ],\n",
              "       [0.857375  , 0.95      , 0.        , 0.857375  ],\n",
              "       [0.        , 0.        , 0.        , 0.        ],\n",
              "       [0.        , 0.        , 0.        , 0.        ],\n",
              "       [0.        , 0.9025    , 0.95      , 0.857375  ],\n",
              "       [0.9025    , 0.95      , 1.        , 0.9025    ],\n",
              "       [0.        , 0.        , 0.        , 0.        ]])"
            ]
          },
          "execution_count": 56,
          "metadata": {},
          "output_type": "execute_result"
        }
      ],
      "source": [
        "Qtable_frozenlake"
      ]
    },
    {
      "cell_type": "markdown",
      "metadata": {
        "id": "pUrWkxsHccXD"
      },
      "source": [
        "## <img src=\"https://img.icons8.com/?size=50&id=43157&format=png&color=000000\" style=\"height:30px;display:inline\">  The evaluation method\n",
        "\n",
        "\n",
        "\n",
        "- We defined the evaluation method that we're going to use to test our Q-Learning agent."
      ]
    },
    {
      "cell_type": "code",
      "execution_count": null,
      "metadata": {
        "id": "jNl0_JO2cbkm"
      },
      "outputs": [],
      "source": [
        "def evaluate_agent(env, max_steps, n_eval_episodes, Q, seed):\n",
        "  \"\"\"\n",
        "  Evaluate the agent for ``n_eval_episodes`` episodes and returns average reward and std of reward.\n",
        "  :param env: The evaluation environment\n",
        "  :param max_steps: Maximum number of steps per episode\n",
        "  :param n_eval_episodes: Number of episode to evaluate the agent\n",
        "  :param Q: The Q-table\n",
        "  :param seed: The evaluation seed array (for taxi-v3)\n",
        "  \"\"\"\n",
        "  episode_rewards = []\n",
        "  for episode in tqdm(range(n_eval_episodes)):\n",
        "    if seed:\n",
        "      state, info = env.reset(seed=seed[episode])\n",
        "    else:\n",
        "      state, info = env.reset()\n",
        "    step = 0\n",
        "    truncated = False\n",
        "    terminated = False\n",
        "    total_rewards_ep = 0\n",
        "\n",
        "    for step in range(max_steps):\n",
        "      # Take the action (index) that have the maximum expected future reward given that state\n",
        "      action = greedy_policy(Q, state)\n",
        "      new_state, reward, terminated, truncated, info = env.step(action)\n",
        "      total_rewards_ep += reward\n",
        "\n",
        "      if terminated or truncated:\n",
        "        break\n",
        "      state = new_state\n",
        "    episode_rewards.append(total_rewards_ep)\n",
        "  mean_reward = np.mean(episode_rewards)\n",
        "  std_reward = np.std(episode_rewards)\n",
        "\n",
        "  return mean_reward, std_reward"
      ]
    },
    {
      "cell_type": "markdown",
      "metadata": {
        "id": "z-dYBxQMG4R8"
      },
      "source": [
        "#### Convergence\n",
        "\n",
        "Q-Learning converges to the optimal Q-values $Q^*$ under certain conditions:\n",
        "- **Exploration**: All state-action pairs must be visited infinitely often to ensure comprehensive learning.\n",
        "- **Learning Rate**: The learning rate $\\alpha$ must meet the Robbins-Monro conditions: $\\sum_t \\alpha_t = \\infty$ and $\\sum_t \\alpha_t^2 < \\infty$. These conditions ensure that the learning rate decreases over time, allowing for stable updates.\n",
        "\n",
        "\n"
      ]
    },
    {
      "cell_type": "markdown",
      "metadata": {
        "id": "0jJqjaoAnxUo"
      },
      "source": [
        "#### Evaluate our Q-Learning agent\n",
        "\n",
        "- Usually, you should have a mean reward of 1.0\n",
        "- The **environment is relatively easy** since the state space is really small (16). What you can try to do is [to replace it with the slippery version](https://gymnasium.farama.org/environments/toy_text/frozen_lake/), which introduces stochasticity, making the environment more complex."
      ]
    },
    {
      "cell_type": "code",
      "execution_count": null,
      "metadata": {
        "colab": {
          "base_uri": "https://localhost:8080/",
          "height": 66,
          "referenced_widgets": [
            "349c089a7ef14117927eb3ffbc8e4a8c",
            "5e77cb480c064053859d9761ef1e5d41",
            "25298d2cd9cc415c98543e71726c2a85",
            "e97f090e5d654b4aaa45097b3c33919a",
            "775fd2e4d7484c9d9e3e29b819d98abb",
            "d2505ae2d01642a099b295ccb5023392",
            "d6ffaec2fe864fd2bee3c171554f0337",
            "4384159105a94c158206e60768bcf0ee",
            "c282fdcefed54703bda18e9041dbfe01",
            "332c084c63614c9e9a231cb1cf1a3728",
            "6b2e4f2df4da4dd3b9dd09474b14c214"
          ]
        },
        "id": "fAgB7s0HEFMm",
        "outputId": "f6cb00cb-6069-4411-f15b-eec93cf856ce"
      },
      "outputs": [
        {
          "data": {
            "application/vnd.jupyter.widget-view+json": {
              "model_id": "349c089a7ef14117927eb3ffbc8e4a8c",
              "version_major": 2,
              "version_minor": 0
            },
            "text/plain": [
              "  0%|          | 0/100 [00:00<?, ?it/s]"
            ]
          },
          "metadata": {},
          "output_type": "display_data"
        },
        {
          "name": "stdout",
          "output_type": "stream",
          "text": [
            "Mean_reward=1.00 +/- 0.00\n"
          ]
        }
      ],
      "source": [
        "# Evaluate our Agent\n",
        "mean_reward, std_reward = evaluate_agent(env, max_steps, n_eval_episodes, Qtable_frozenlake, eval_seed)\n",
        "print(f\"Mean_reward={mean_reward:.2f} +/- {std_reward:.2f}\")"
      ]
    },
    {
      "cell_type": "markdown",
      "metadata": {
        "id": "f175852a-f29b-430a-97b8-6565bc3a503f"
      },
      "source": [
        "# <img src=\"https://img.icons8.com/?size=100&id=46509&format=png&color=000000\" style=\"height:50px;display:inline\"> Conclusion\n",
        "---\n",
        "\n",
        "In this tutorial, we delved into several key concepts and methodologies fundamental to value-based reinforcement learning. Our journey began with an exploration of value functions, the backbone of understanding the expected return from states and actions under a given policy. We then introduced the Bellman equations, which provide a recursive decomposition of value functions and are pivotal for various RL algorithms.\n",
        "\n",
        "We moved on to Temporal Difference (TD) learning, a powerful approach that combines the ideas of Monte Carlo methods and dynamic programming to update value estimates based on observed rewards. This method serves as the foundation for many RL algorithms, including the widely used Q-learning.\n",
        "\n",
        "Value iteration was also discussed as a method for computing optimal policies by iteratively improving value function estimates. We examined how this process converges to the optimal value function, providing a robust way to solve Markov Decision Processes (MDPs).\n",
        "\n",
        "Finally, we focused on Q-learning, a model-free, off-policy algorithm that updates Q-values using the Bellman optimality equation. This method allows agents to learn optimal policies through interaction with the environment, balancing exploration and exploitation to improve decision-making over time.\n",
        "\n",
        "\n",
        "\n",
        "\n"
      ]
    },
    {
      "cell_type": "markdown",
      "metadata": {
        "id": "s_Ndmee2iL02"
      },
      "source": [
        "# <img src=\"https://img.icons8.com/dusk/64/000000/plus-2-math.png\" style=\"height:50px;display:inline\"> Further Reading\n",
        "---\n",
        "\n",
        "\n",
        "For a deeper understanding of value-based methods and Q-Learning, explore the following resources:\n",
        "\n",
        "- **Hugging Face Deep RL Course - Q-Learning**: A comprehensive guide to Q-Learning, covering theory and practical implementation. [Read more](https://huggingface.co/learn/deep-rl-course/unit2/q-learning)\n",
        "- **Towards Data Science - Q-Learning Algorithm**: An intuitive explanation and step-by-step implementation of Q-Learning in Python. [Read more](https://towardsdatascience.com/q-learning-algorithm-from-explanation-to-implementation-cdbeda2ea187)\n",
        "- **Advanced Readings in Reinforcement Learning**: Detailed proofs and theoretical discussions on advanced RL topics. [Access the document](https://drive.google.com/file/d/1004d-GVvXuI7vgLpzPvoESeP5jyERw9Z/view)\n",
        "\n",
        "\n",
        "\n",
        "\n"
      ]
    },
    {
      "cell_type": "markdown",
      "metadata": {
        "id": "fxLYbw1wj9wS"
      },
      "source": [
        "# <img src=\"https://img.icons8.com/?size=100&id=46756&format=png&color=000000\" style=\"height:50px;display:inline\"> Credits\n",
        "---\n",
        "* Examples and code snippets were taken from <a href=\"https://huggingface.co/learn/deep-rl-course/unit4/introduction\"> Hugging Face Deep RL Course </a>\n",
        "* Examples and explanations were taken from <a href=\"https://rail.eecs.berkeley.edu/deeprlcourse/\">CS285 - Deep Reinforcement Learning Course at UC Berkeley</a>\n",
        "* Icons from <a href=\"https://icons8.com/\">Icons8.com"
      ]
    }
  ],
  "metadata": {
    "colab": {
      "collapsed_sections": [
        "-oid7uNNGKvv",
        "UoXl-zQ5bxxG",
        "r4P79ZolWypl",
        "pbIQ15HYzdLu",
        "eypSYcGfzdLu",
        "S34VKH9x2Fy4",
        "MVqn4Kc8Aomo",
        "sJBNkA_h64g1"
      ],
      "provenance": [],
      "toc_visible": true
    },
    "kernelspec": {
      "display_name": "Python 3",
      "language": "python",
      "name": "python3"
    },
    "language_info": {
      "codemirror_mode": {
        "name": "ipython",
        "version": 3
      },
      "file_extension": ".py",
      "mimetype": "text/x-python",
      "name": "python",
      "nbconvert_exporter": "python",
      "pygments_lexer": "ipython3",
      "version": "3.7.6"
    },
    "latex_envs": {
      "LaTeX_envs_menu_present": true,
      "autoclose": false,
      "autocomplete": true,
      "bibliofile": "biblio.bib",
      "cite_by": "apalike",
      "current_citInitial": 1,
      "eqLabelWithNumbers": true,
      "eqNumInitial": 1,
      "hotkeys": {
        "equation": "Ctrl-E",
        "itemize": "Ctrl-I"
      },
      "labels_anchors": false,
      "latex_user_defs": false,
      "report_style_numbering": false,
      "user_envs_cfg": false
    },
    "toc": {
      "base_numbering": 1,
      "nav_menu": {
        "height": "12px",
        "width": "186px"
      },
      "number_sections": true,
      "sideBar": true,
      "skip_h1_title": true,
      "title_cell": "",
      "title_sidebar": "Contents",
      "toc_cell": true,
      "toc_position": {
        "height": "calc(100% - 180px)",
        "left": "10px",
        "top": "150px",
        "width": "410.667px"
      },
      "toc_section_display": true,
      "toc_window_display": true
    },
    "widgets": {
      "application/vnd.jupyter.widget-state+json": {
        "0abdf800dfd0491f98bcdc8bf9acc017": {
          "model_module": "@jupyter-widgets/controls",
          "model_module_version": "1.5.0",
          "model_name": "DescriptionStyleModel",
          "state": {
            "_model_module": "@jupyter-widgets/controls",
            "_model_module_version": "1.5.0",
            "_model_name": "DescriptionStyleModel",
            "_view_count": null,
            "_view_module": "@jupyter-widgets/base",
            "_view_module_version": "1.2.0",
            "_view_name": "StyleView",
            "description_width": ""
          }
        },
        "0ba824599ff3460e805f94f6cbd5a39b": {
          "model_module": "@jupyter-widgets/base",
          "model_module_version": "1.2.0",
          "model_name": "LayoutModel",
          "state": {
            "_model_module": "@jupyter-widgets/base",
            "_model_module_version": "1.2.0",
            "_model_name": "LayoutModel",
            "_view_count": null,
            "_view_module": "@jupyter-widgets/base",
            "_view_module_version": "1.2.0",
            "_view_name": "LayoutView",
            "align_content": null,
            "align_items": null,
            "align_self": null,
            "border": null,
            "bottom": null,
            "display": null,
            "flex": null,
            "flex_flow": null,
            "grid_area": null,
            "grid_auto_columns": null,
            "grid_auto_flow": null,
            "grid_auto_rows": null,
            "grid_column": null,
            "grid_gap": null,
            "grid_row": null,
            "grid_template_areas": null,
            "grid_template_columns": null,
            "grid_template_rows": null,
            "height": null,
            "justify_content": null,
            "justify_items": null,
            "left": null,
            "margin": null,
            "max_height": null,
            "max_width": null,
            "min_height": null,
            "min_width": null,
            "object_fit": null,
            "object_position": null,
            "order": null,
            "overflow": null,
            "overflow_x": null,
            "overflow_y": null,
            "padding": null,
            "right": null,
            "top": null,
            "visibility": null,
            "width": null
          }
        },
        "1f046f60c3864f90a2799619c42c97a3": {
          "model_module": "@jupyter-widgets/base",
          "model_module_version": "1.2.0",
          "model_name": "LayoutModel",
          "state": {
            "_model_module": "@jupyter-widgets/base",
            "_model_module_version": "1.2.0",
            "_model_name": "LayoutModel",
            "_view_count": null,
            "_view_module": "@jupyter-widgets/base",
            "_view_module_version": "1.2.0",
            "_view_name": "LayoutView",
            "align_content": null,
            "align_items": null,
            "align_self": null,
            "border": null,
            "bottom": null,
            "display": null,
            "flex": null,
            "flex_flow": null,
            "grid_area": null,
            "grid_auto_columns": null,
            "grid_auto_flow": null,
            "grid_auto_rows": null,
            "grid_column": null,
            "grid_gap": null,
            "grid_row": null,
            "grid_template_areas": null,
            "grid_template_columns": null,
            "grid_template_rows": null,
            "height": null,
            "justify_content": null,
            "justify_items": null,
            "left": null,
            "margin": null,
            "max_height": null,
            "max_width": null,
            "min_height": null,
            "min_width": null,
            "object_fit": null,
            "object_position": null,
            "order": null,
            "overflow": null,
            "overflow_x": null,
            "overflow_y": null,
            "padding": null,
            "right": null,
            "top": null,
            "visibility": null,
            "width": null
          }
        },
        "25298d2cd9cc415c98543e71726c2a85": {
          "model_module": "@jupyter-widgets/controls",
          "model_module_version": "1.5.0",
          "model_name": "FloatProgressModel",
          "state": {
            "_dom_classes": [],
            "_model_module": "@jupyter-widgets/controls",
            "_model_module_version": "1.5.0",
            "_model_name": "FloatProgressModel",
            "_view_count": null,
            "_view_module": "@jupyter-widgets/controls",
            "_view_module_version": "1.5.0",
            "_view_name": "ProgressView",
            "bar_style": "success",
            "description": "",
            "description_tooltip": null,
            "layout": "IPY_MODEL_4384159105a94c158206e60768bcf0ee",
            "max": 100,
            "min": 0,
            "orientation": "horizontal",
            "style": "IPY_MODEL_c282fdcefed54703bda18e9041dbfe01",
            "value": 100
          }
        },
        "332c084c63614c9e9a231cb1cf1a3728": {
          "model_module": "@jupyter-widgets/base",
          "model_module_version": "1.2.0",
          "model_name": "LayoutModel",
          "state": {
            "_model_module": "@jupyter-widgets/base",
            "_model_module_version": "1.2.0",
            "_model_name": "LayoutModel",
            "_view_count": null,
            "_view_module": "@jupyter-widgets/base",
            "_view_module_version": "1.2.0",
            "_view_name": "LayoutView",
            "align_content": null,
            "align_items": null,
            "align_self": null,
            "border": null,
            "bottom": null,
            "display": null,
            "flex": null,
            "flex_flow": null,
            "grid_area": null,
            "grid_auto_columns": null,
            "grid_auto_flow": null,
            "grid_auto_rows": null,
            "grid_column": null,
            "grid_gap": null,
            "grid_row": null,
            "grid_template_areas": null,
            "grid_template_columns": null,
            "grid_template_rows": null,
            "height": null,
            "justify_content": null,
            "justify_items": null,
            "left": null,
            "margin": null,
            "max_height": null,
            "max_width": null,
            "min_height": null,
            "min_width": null,
            "object_fit": null,
            "object_position": null,
            "order": null,
            "overflow": null,
            "overflow_x": null,
            "overflow_y": null,
            "padding": null,
            "right": null,
            "top": null,
            "visibility": null,
            "width": null
          }
        },
        "349c089a7ef14117927eb3ffbc8e4a8c": {
          "model_module": "@jupyter-widgets/controls",
          "model_module_version": "1.5.0",
          "model_name": "HBoxModel",
          "state": {
            "_dom_classes": [],
            "_model_module": "@jupyter-widgets/controls",
            "_model_module_version": "1.5.0",
            "_model_name": "HBoxModel",
            "_view_count": null,
            "_view_module": "@jupyter-widgets/controls",
            "_view_module_version": "1.5.0",
            "_view_name": "HBoxView",
            "box_style": "",
            "children": [
              "IPY_MODEL_5e77cb480c064053859d9761ef1e5d41",
              "IPY_MODEL_25298d2cd9cc415c98543e71726c2a85",
              "IPY_MODEL_e97f090e5d654b4aaa45097b3c33919a"
            ],
            "layout": "IPY_MODEL_775fd2e4d7484c9d9e3e29b819d98abb"
          }
        },
        "4384159105a94c158206e60768bcf0ee": {
          "model_module": "@jupyter-widgets/base",
          "model_module_version": "1.2.0",
          "model_name": "LayoutModel",
          "state": {
            "_model_module": "@jupyter-widgets/base",
            "_model_module_version": "1.2.0",
            "_model_name": "LayoutModel",
            "_view_count": null,
            "_view_module": "@jupyter-widgets/base",
            "_view_module_version": "1.2.0",
            "_view_name": "LayoutView",
            "align_content": null,
            "align_items": null,
            "align_self": null,
            "border": null,
            "bottom": null,
            "display": null,
            "flex": null,
            "flex_flow": null,
            "grid_area": null,
            "grid_auto_columns": null,
            "grid_auto_flow": null,
            "grid_auto_rows": null,
            "grid_column": null,
            "grid_gap": null,
            "grid_row": null,
            "grid_template_areas": null,
            "grid_template_columns": null,
            "grid_template_rows": null,
            "height": null,
            "justify_content": null,
            "justify_items": null,
            "left": null,
            "margin": null,
            "max_height": null,
            "max_width": null,
            "min_height": null,
            "min_width": null,
            "object_fit": null,
            "object_position": null,
            "order": null,
            "overflow": null,
            "overflow_x": null,
            "overflow_y": null,
            "padding": null,
            "right": null,
            "top": null,
            "visibility": null,
            "width": null
          }
        },
        "4f0ed3bf753a40dcb8938123fc68ae0a": {
          "model_module": "@jupyter-widgets/base",
          "model_module_version": "1.2.0",
          "model_name": "LayoutModel",
          "state": {
            "_model_module": "@jupyter-widgets/base",
            "_model_module_version": "1.2.0",
            "_model_name": "LayoutModel",
            "_view_count": null,
            "_view_module": "@jupyter-widgets/base",
            "_view_module_version": "1.2.0",
            "_view_name": "LayoutView",
            "align_content": null,
            "align_items": null,
            "align_self": null,
            "border": null,
            "bottom": null,
            "display": null,
            "flex": null,
            "flex_flow": null,
            "grid_area": null,
            "grid_auto_columns": null,
            "grid_auto_flow": null,
            "grid_auto_rows": null,
            "grid_column": null,
            "grid_gap": null,
            "grid_row": null,
            "grid_template_areas": null,
            "grid_template_columns": null,
            "grid_template_rows": null,
            "height": null,
            "justify_content": null,
            "justify_items": null,
            "left": null,
            "margin": null,
            "max_height": null,
            "max_width": null,
            "min_height": null,
            "min_width": null,
            "object_fit": null,
            "object_position": null,
            "order": null,
            "overflow": null,
            "overflow_x": null,
            "overflow_y": null,
            "padding": null,
            "right": null,
            "top": null,
            "visibility": null,
            "width": null
          }
        },
        "5e77cb480c064053859d9761ef1e5d41": {
          "model_module": "@jupyter-widgets/controls",
          "model_module_version": "1.5.0",
          "model_name": "HTMLModel",
          "state": {
            "_dom_classes": [],
            "_model_module": "@jupyter-widgets/controls",
            "_model_module_version": "1.5.0",
            "_model_name": "HTMLModel",
            "_view_count": null,
            "_view_module": "@jupyter-widgets/controls",
            "_view_module_version": "1.5.0",
            "_view_name": "HTMLView",
            "description": "",
            "description_tooltip": null,
            "layout": "IPY_MODEL_d2505ae2d01642a099b295ccb5023392",
            "placeholder": "​",
            "style": "IPY_MODEL_d6ffaec2fe864fd2bee3c171554f0337",
            "value": "100%"
          }
        },
        "698ccdf8f30c47a9b24ba5b609c29a1e": {
          "model_module": "@jupyter-widgets/controls",
          "model_module_version": "1.5.0",
          "model_name": "HTMLModel",
          "state": {
            "_dom_classes": [],
            "_model_module": "@jupyter-widgets/controls",
            "_model_module_version": "1.5.0",
            "_model_name": "HTMLModel",
            "_view_count": null,
            "_view_module": "@jupyter-widgets/controls",
            "_view_module_version": "1.5.0",
            "_view_name": "HTMLView",
            "description": "",
            "description_tooltip": null,
            "layout": "IPY_MODEL_1f046f60c3864f90a2799619c42c97a3",
            "placeholder": "​",
            "style": "IPY_MODEL_0abdf800dfd0491f98bcdc8bf9acc017",
            "value": " 10000/10000 [00:02&lt;00:00, 4427.08it/s]"
          }
        },
        "6b2e4f2df4da4dd3b9dd09474b14c214": {
          "model_module": "@jupyter-widgets/controls",
          "model_module_version": "1.5.0",
          "model_name": "DescriptionStyleModel",
          "state": {
            "_model_module": "@jupyter-widgets/controls",
            "_model_module_version": "1.5.0",
            "_model_name": "DescriptionStyleModel",
            "_view_count": null,
            "_view_module": "@jupyter-widgets/base",
            "_view_module_version": "1.2.0",
            "_view_name": "StyleView",
            "description_width": ""
          }
        },
        "775fd2e4d7484c9d9e3e29b819d98abb": {
          "model_module": "@jupyter-widgets/base",
          "model_module_version": "1.2.0",
          "model_name": "LayoutModel",
          "state": {
            "_model_module": "@jupyter-widgets/base",
            "_model_module_version": "1.2.0",
            "_model_name": "LayoutModel",
            "_view_count": null,
            "_view_module": "@jupyter-widgets/base",
            "_view_module_version": "1.2.0",
            "_view_name": "LayoutView",
            "align_content": null,
            "align_items": null,
            "align_self": null,
            "border": null,
            "bottom": null,
            "display": null,
            "flex": null,
            "flex_flow": null,
            "grid_area": null,
            "grid_auto_columns": null,
            "grid_auto_flow": null,
            "grid_auto_rows": null,
            "grid_column": null,
            "grid_gap": null,
            "grid_row": null,
            "grid_template_areas": null,
            "grid_template_columns": null,
            "grid_template_rows": null,
            "height": null,
            "justify_content": null,
            "justify_items": null,
            "left": null,
            "margin": null,
            "max_height": null,
            "max_width": null,
            "min_height": null,
            "min_width": null,
            "object_fit": null,
            "object_position": null,
            "order": null,
            "overflow": null,
            "overflow_x": null,
            "overflow_y": null,
            "padding": null,
            "right": null,
            "top": null,
            "visibility": null,
            "width": null
          }
        },
        "794fba50af52453a9c9e62ec9e01c43e": {
          "model_module": "@jupyter-widgets/base",
          "model_module_version": "1.2.0",
          "model_name": "LayoutModel",
          "state": {
            "_model_module": "@jupyter-widgets/base",
            "_model_module_version": "1.2.0",
            "_model_name": "LayoutModel",
            "_view_count": null,
            "_view_module": "@jupyter-widgets/base",
            "_view_module_version": "1.2.0",
            "_view_name": "LayoutView",
            "align_content": null,
            "align_items": null,
            "align_self": null,
            "border": null,
            "bottom": null,
            "display": null,
            "flex": null,
            "flex_flow": null,
            "grid_area": null,
            "grid_auto_columns": null,
            "grid_auto_flow": null,
            "grid_auto_rows": null,
            "grid_column": null,
            "grid_gap": null,
            "grid_row": null,
            "grid_template_areas": null,
            "grid_template_columns": null,
            "grid_template_rows": null,
            "height": null,
            "justify_content": null,
            "justify_items": null,
            "left": null,
            "margin": null,
            "max_height": null,
            "max_width": null,
            "min_height": null,
            "min_width": null,
            "object_fit": null,
            "object_position": null,
            "order": null,
            "overflow": null,
            "overflow_x": null,
            "overflow_y": null,
            "padding": null,
            "right": null,
            "top": null,
            "visibility": null,
            "width": null
          }
        },
        "9da491d88152482791b0e2faa2130299": {
          "model_module": "@jupyter-widgets/controls",
          "model_module_version": "1.5.0",
          "model_name": "DescriptionStyleModel",
          "state": {
            "_model_module": "@jupyter-widgets/controls",
            "_model_module_version": "1.5.0",
            "_model_name": "DescriptionStyleModel",
            "_view_count": null,
            "_view_module": "@jupyter-widgets/base",
            "_view_module_version": "1.2.0",
            "_view_name": "StyleView",
            "description_width": ""
          }
        },
        "a6e47fb4f8e64da9875368114cc15aac": {
          "model_module": "@jupyter-widgets/controls",
          "model_module_version": "1.5.0",
          "model_name": "ProgressStyleModel",
          "state": {
            "_model_module": "@jupyter-widgets/controls",
            "_model_module_version": "1.5.0",
            "_model_name": "ProgressStyleModel",
            "_view_count": null,
            "_view_module": "@jupyter-widgets/base",
            "_view_module_version": "1.2.0",
            "_view_name": "StyleView",
            "bar_color": null,
            "description_width": ""
          }
        },
        "ab8a85460f1b41c1a2d8c9a783273b62": {
          "model_module": "@jupyter-widgets/controls",
          "model_module_version": "1.5.0",
          "model_name": "HTMLModel",
          "state": {
            "_dom_classes": [],
            "_model_module": "@jupyter-widgets/controls",
            "_model_module_version": "1.5.0",
            "_model_name": "HTMLModel",
            "_view_count": null,
            "_view_module": "@jupyter-widgets/controls",
            "_view_module_version": "1.5.0",
            "_view_name": "HTMLView",
            "description": "",
            "description_tooltip": null,
            "layout": "IPY_MODEL_794fba50af52453a9c9e62ec9e01c43e",
            "placeholder": "​",
            "style": "IPY_MODEL_9da491d88152482791b0e2faa2130299",
            "value": "100%"
          }
        },
        "b1f65db482314fc4ac9ac211b5d2da33": {
          "model_module": "@jupyter-widgets/controls",
          "model_module_version": "1.5.0",
          "model_name": "HBoxModel",
          "state": {
            "_dom_classes": [],
            "_model_module": "@jupyter-widgets/controls",
            "_model_module_version": "1.5.0",
            "_model_name": "HBoxModel",
            "_view_count": null,
            "_view_module": "@jupyter-widgets/controls",
            "_view_module_version": "1.5.0",
            "_view_name": "HBoxView",
            "box_style": "",
            "children": [
              "IPY_MODEL_ab8a85460f1b41c1a2d8c9a783273b62",
              "IPY_MODEL_ff95a49d8d1948eab9950597cb29d33c",
              "IPY_MODEL_698ccdf8f30c47a9b24ba5b609c29a1e"
            ],
            "layout": "IPY_MODEL_0ba824599ff3460e805f94f6cbd5a39b"
          }
        },
        "c282fdcefed54703bda18e9041dbfe01": {
          "model_module": "@jupyter-widgets/controls",
          "model_module_version": "1.5.0",
          "model_name": "ProgressStyleModel",
          "state": {
            "_model_module": "@jupyter-widgets/controls",
            "_model_module_version": "1.5.0",
            "_model_name": "ProgressStyleModel",
            "_view_count": null,
            "_view_module": "@jupyter-widgets/base",
            "_view_module_version": "1.2.0",
            "_view_name": "StyleView",
            "bar_color": null,
            "description_width": ""
          }
        },
        "d2505ae2d01642a099b295ccb5023392": {
          "model_module": "@jupyter-widgets/base",
          "model_module_version": "1.2.0",
          "model_name": "LayoutModel",
          "state": {
            "_model_module": "@jupyter-widgets/base",
            "_model_module_version": "1.2.0",
            "_model_name": "LayoutModel",
            "_view_count": null,
            "_view_module": "@jupyter-widgets/base",
            "_view_module_version": "1.2.0",
            "_view_name": "LayoutView",
            "align_content": null,
            "align_items": null,
            "align_self": null,
            "border": null,
            "bottom": null,
            "display": null,
            "flex": null,
            "flex_flow": null,
            "grid_area": null,
            "grid_auto_columns": null,
            "grid_auto_flow": null,
            "grid_auto_rows": null,
            "grid_column": null,
            "grid_gap": null,
            "grid_row": null,
            "grid_template_areas": null,
            "grid_template_columns": null,
            "grid_template_rows": null,
            "height": null,
            "justify_content": null,
            "justify_items": null,
            "left": null,
            "margin": null,
            "max_height": null,
            "max_width": null,
            "min_height": null,
            "min_width": null,
            "object_fit": null,
            "object_position": null,
            "order": null,
            "overflow": null,
            "overflow_x": null,
            "overflow_y": null,
            "padding": null,
            "right": null,
            "top": null,
            "visibility": null,
            "width": null
          }
        },
        "d6ffaec2fe864fd2bee3c171554f0337": {
          "model_module": "@jupyter-widgets/controls",
          "model_module_version": "1.5.0",
          "model_name": "DescriptionStyleModel",
          "state": {
            "_model_module": "@jupyter-widgets/controls",
            "_model_module_version": "1.5.0",
            "_model_name": "DescriptionStyleModel",
            "_view_count": null,
            "_view_module": "@jupyter-widgets/base",
            "_view_module_version": "1.2.0",
            "_view_name": "StyleView",
            "description_width": ""
          }
        },
        "e97f090e5d654b4aaa45097b3c33919a": {
          "model_module": "@jupyter-widgets/controls",
          "model_module_version": "1.5.0",
          "model_name": "HTMLModel",
          "state": {
            "_dom_classes": [],
            "_model_module": "@jupyter-widgets/controls",
            "_model_module_version": "1.5.0",
            "_model_name": "HTMLModel",
            "_view_count": null,
            "_view_module": "@jupyter-widgets/controls",
            "_view_module_version": "1.5.0",
            "_view_name": "HTMLView",
            "description": "",
            "description_tooltip": null,
            "layout": "IPY_MODEL_332c084c63614c9e9a231cb1cf1a3728",
            "placeholder": "​",
            "style": "IPY_MODEL_6b2e4f2df4da4dd3b9dd09474b14c214",
            "value": " 100/100 [00:00&lt;00:00, 2576.75it/s]"
          }
        },
        "ff95a49d8d1948eab9950597cb29d33c": {
          "model_module": "@jupyter-widgets/controls",
          "model_module_version": "1.5.0",
          "model_name": "FloatProgressModel",
          "state": {
            "_dom_classes": [],
            "_model_module": "@jupyter-widgets/controls",
            "_model_module_version": "1.5.0",
            "_model_name": "FloatProgressModel",
            "_view_count": null,
            "_view_module": "@jupyter-widgets/controls",
            "_view_module_version": "1.5.0",
            "_view_name": "ProgressView",
            "bar_style": "success",
            "description": "",
            "description_tooltip": null,
            "layout": "IPY_MODEL_4f0ed3bf753a40dcb8938123fc68ae0a",
            "max": 10000,
            "min": 0,
            "orientation": "horizontal",
            "style": "IPY_MODEL_a6e47fb4f8e64da9875368114cc15aac",
            "value": 10000
          }
        }
      }
    }
  },
  "nbformat": 4,
  "nbformat_minor": 0
}
