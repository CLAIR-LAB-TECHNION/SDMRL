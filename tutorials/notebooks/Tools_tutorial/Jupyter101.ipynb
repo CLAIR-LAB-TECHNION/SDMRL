{
 "cells": [
  {
   "cell_type": "markdown",
   "id": "a0bf1ff8-afca-47c9-8671-a4fe44d9397f",
   "metadata": {
    "editable": true,
    "id": "a0bf1ff8-afca-47c9-8671-a4fe44d9397f",
    "slideshow": {
     "slide_type": ""
    },
    "tags": []
   },
   "source": [
    "Author: Itay Segev  \n",
    "E-mail: [itaysegev@campus.technion.ac.il](mailto:itaysegev@campus.technion.ac.il)"
   ]
  },
  {
   "cell_type": "markdown",
   "id": "4276eab9-c5cf-4193-a90e-d3d3ea18d238",
   "metadata": {
    "editable": true,
    "id": "4276eab9-c5cf-4193-a90e-d3d3ea18d238",
    "slideshow": {
     "slide_type": ""
    },
    "tags": []
   },
   "source": [
    "<img src='https://www.tng-project.org/static/data/lab_logo_tng.png'/>\n",
    "\n",
    "The [python](https://www.python.org/) programming language contains many science-oriented libraries such as `numpy` (a powerfull and efficient multi-dimensional array library), `matplotlib` (a fully stacked graphing and plotting library), and many more, making it great for interactive scientific coding. [Jupyter](https://jupyter.org/) is a non-profit organization that builds open-source software for interactive scientific coding, accross many programming languages, through the use of web-UI that displays ipython notebooks, sometimes called jupyter notebooks, or simply `.ipynb` files. It is based on the [IPython project](https://ipython.org/), and supports python out of the box.\n",
    "\n",
    "Jupyter Lab is an IDE-like web interface capable displaying and running code from jupyter notebooks in a meaningful and intuitive way. It works, for the most part, like any other python IDE. We can edit python files, regular text files, and anything in between, with syntax highlighting supported for many files types including markdown (`.md`) YMAL (`.yml`) among others. The GUI functions as one would expect from an IDE, allowing us to resize panes, change fonts, tabbed file management, light and dark themes, and many other functionalities. There is even an extension manager for third party extensions that enhance customizability and functionality."
   ]
  },
  {
   "cell_type": "markdown",
   "id": "c202b61e-e39e-4b01-988d-406c39f8f32e",
   "metadata": {
    "editable": true,
    "id": "c202b61e-e39e-4b01-988d-406c39f8f32e",
    "slideshow": {
     "slide_type": ""
    },
    "tags": []
   },
   "source": [
    "# Install and launch\n",
    "\n",
    "There are two ways to install Jupyter Lab on a local machine.\n",
    "1. with conda - `conda install -c conda-forge jupyterlab`\n",
    "2. with pip - `pip install jupyterlab`\n",
    "\n",
    "Once installed, we can run `jupyter lab` from the terminal to start a jupyter server. By default, a new tab should open on the machine's default web browser, but if that is not the case then use one of the links provided in the command output in the terminal."
   ]
  },
  {
   "cell_type": "markdown",
   "id": "c7b71120-73cf-49ac-bca4-4f3d634559b2",
   "metadata": {
    "editable": true,
    "id": "c7b71120-73cf-49ac-bca4-4f3d634559b2",
    "slideshow": {
     "slide_type": ""
    },
    "tags": []
   },
   "source": [
    "# The Interface\n",
    "\n",
    "\n",
    "1. Menu - general UI and engine control\n",
    "2. New items - launcher, new directory, upload files, sync files with disk.\n",
    "3. Directory navigation\n",
    "4. File browser\n",
    "5. Open tabs bar\n",
    "6. Launcher tab - new notebook, code file, text file, terminal, console, ...\n",
    "7. Notebook cell settings - used for creating [reveal.js](https://revealjs.com/) presentations out of notebooks\n",
    "8. Debugging tools"
   ]
  },
  {
   "cell_type": "markdown",
   "id": "39554af0-ef08-48b2-a413-dbb0c1643cbc",
   "metadata": {
    "editable": true,
    "id": "39554af0-ef08-48b2-a413-dbb0c1643cbc",
    "slideshow": {
     "slide_type": ""
    },
    "tags": []
   },
   "source": [
    "# Notebooks\n",
    "\n",
    "Files with extension `.ipynb` are treated as jupyter notebooks. These notebooks are divided into cells containing either code or text. The cell manipulation toolbar is located directly under the open tabs bar, where one can save all changes, add new cells, cut existing cells, copy/paste cells, and run/stop code cells. Jupyter notebooks support two kinds of cells: Code, Markdown, and Raw. We can select the cell type by selecting the cell we wish to edit and choosing the correct type from the drop-down menu in the cell manipulation bar."
   ]
  },
  {
   "cell_type": "markdown",
   "id": "bf6542b2-b1d1-484e-83ff-3296b26d8092",
   "metadata": {
    "editable": true,
    "id": "bf6542b2-b1d1-484e-83ff-3296b26d8092",
    "slideshow": {
     "slide_type": ""
    },
    "tags": []
   },
   "source": [
    "## Text\n",
    "We can write rich text representations with [markdown](https://www.markdownguide.org/) (Markdown cell type) or raw utf-8 text (Raw cell type). Raw types are simply raw text without any special formatting that can be rendered by running the current cell by pressing the triangular button in the cell manipulation bar. Markdown is a common convention for formatted text written in plain text. For example, the following text will be rendered as a link:  \n",
    "<code>\\[Google\\](https://www.google.com)</code>  \n",
    "Rendered:  \n",
    "[Google](https://www.google.com)  \n",
    "Markdown is used by a large community of coders offering support via blog and forum posts, and is worth exploring in order to create more aesthetic notebooks.\n",
    "\n",
    "Markdown cells also support [$\\LaTeX$](https://www.latex-project.org/) math  notations by wrapping them with the dollar sign character '\\$'. For example, the following text will be rendered as the quadratic equation:  \n",
    "<code>\\$x_{1,2}=\\frac{-b\\pm\\sqrt{b^2-4ac}}{2a}\\$</code>  \n",
    "Rendered:  \n",
    "$x_{1,2}=\\frac{-b\\pm\\sqrt{b^2-4ac}}{2a}$  \n",
    "For more information on $\\LaTeX$ math notations, checkout [this entry](https://www.overleaf.com/learn/latex/Mathematical_expressions).\n",
    "\n",
    "Mixing rich / mathematical text in between code cells is useful for documentations, demonstrations, presentations, etc. Markdown cells have even more functionality, from displaying images and animated gifs to rendering raw HTML code. Lookup specific markdown cell functionality for find out more."
   ]
  },
  {
   "cell_type": "markdown",
   "id": "abb33c18-98db-4281-b3e2-bf154fdc40be",
   "metadata": {
    "editable": true,
    "id": "abb33c18-98db-4281-b3e2-bf154fdc40be",
    "slideshow": {
     "slide_type": ""
    },
    "tags": []
   },
   "source": [
    "## Running Code\n",
    "\n",
    "Jupyter notebooks run using a background console called a kernel. This kernel keeps the program's memory in tact until it is restarted, shut down, or crashes -- similarly to the python console. The kernel being used for the current notebook can be seen in the top right corner of the notebook. The default kernel is based on the python version in which we installed jupyter (with pip / conda). We can write code in \"Code\" type cells to get syntax highlighting and automatic code completion. Code cells can be run using the notebook's live kernel and its current memory state by pressing the triangular button in the cell manipulation bar.\n",
    "\n",
    "Whenever a cell is run, the last exression in the cell is printed to the console. Anything we wish to print beforehand must be printed using the `print` function."
   ]
  },
  {
   "cell_type": "code",
   "execution_count": null,
   "id": "ce816dc9-5f0a-456d-bff2-048fddb0f7d9",
   "metadata": {
    "colab": {
     "base_uri": "https://localhost:8080/",
     "height": 88
    },
    "editable": true,
    "id": "ce816dc9-5f0a-456d-bff2-048fddb0f7d9",
    "outputId": "1d8e31b4-72a8-4229-f2b8-17f759b3ff74",
    "slideshow": {
     "slide_type": ""
    },
    "tags": []
   },
   "outputs": [],
   "source": [
    "for i in range(3):\n",
    "    print(i)\n",
    "\n",
    "\"hello everyone\""
   ]
  },
  {
   "cell_type": "markdown",
   "id": "9860622c-956f-43f5-893c-a3ccb79defd9",
   "metadata": {
    "editable": true,
    "id": "9860622c-956f-43f5-893c-a3ccb79defd9",
    "slideshow": {
     "slide_type": ""
    },
    "tags": []
   },
   "source": [
    "When a variable is assigned, it remains in memory until the end of the kernel's lifetime. This means that the variable can be used in any cell once it has been initialized. We can even use a variable in a cell preceeding the assignment cell as long as we run the initialization cell first!"
   ]
  },
  {
   "cell_type": "code",
   "execution_count": null,
   "id": "de40d6d5-72d6-4ef1-93b3-d7a2e742e073",
   "metadata": {
    "editable": true,
    "id": "de40d6d5-72d6-4ef1-93b3-d7a2e742e073",
    "slideshow": {
     "slide_type": ""
    },
    "tags": []
   },
   "outputs": [],
   "source": [
    "x = 2"
   ]
  },
  {
   "cell_type": "code",
   "execution_count": null,
   "id": "d2b18970-b1e7-4d0a-93b3-2583ee04489f",
   "metadata": {
    "colab": {
     "base_uri": "https://localhost:8080/"
    },
    "editable": true,
    "id": "d2b18970-b1e7-4d0a-93b3-2583ee04489f",
    "outputId": "a4533753-e9c0-4cd0-b7de-6cd4d04dfd14",
    "slideshow": {
     "slide_type": ""
    },
    "tags": []
   },
   "outputs": [],
   "source": [
    "def f(x):\n",
    "    return 2*x\n",
    "\n",
    "f(x)"
   ]
  },
  {
   "cell_type": "markdown",
   "id": "30c9f278-d508-48b3-9d26-590e419e73ae",
   "metadata": {
    "editable": true,
    "id": "30c9f278-d508-48b3-9d26-590e419e73ae",
    "slideshow": {
     "slide_type": ""
    },
    "tags": []
   },
   "source": [
    "By using the exclamation point character '!' we can run terminal commands. For example, the cell below will output `hello from terminal`."
   ]
  },
  {
   "cell_type": "code",
   "execution_count": null,
   "id": "d75a0c71-0afd-42ec-a451-a1ff2181c0b9",
   "metadata": {
    "colab": {
     "base_uri": "https://localhost:8080/"
    },
    "editable": true,
    "id": "d75a0c71-0afd-42ec-a451-a1ff2181c0b9",
    "outputId": "7bb1f318-69d7-4e28-cec0-2ea978e9c0b4",
    "slideshow": {
     "slide_type": ""
    },
    "tags": []
   },
   "outputs": [],
   "source": [
    "!echo \"hello from terminal\""
   ]
  },
  {
   "cell_type": "markdown",
   "id": "25307af7-e9bd-481f-aef7-ba0eba1a7c5b",
   "metadata": {
    "editable": true,
    "id": "25307af7-e9bd-481f-aef7-ba0eba1a7c5b",
    "slideshow": {
     "slide_type": ""
    },
    "tags": []
   },
   "source": [
    "A common use for this feature is to install external packages via pip like so:  \n",
    "`!pip install numpy`"
   ]
  },
  {
   "cell_type": "markdown",
   "id": "f26bc548-dc68-4c47-8b7f-dc80d2f1ee19",
   "metadata": {
    "id": "f26bc548-dc68-4c47-8b7f-dc80d2f1ee19"
   },
   "source": [
    "Like any other python program, we can import code from built-in / installed / and local python modules. For example, we can use the `os` module to list the current working directory."
   ]
  },
  {
   "cell_type": "code",
   "execution_count": null,
   "id": "478e2052-6770-4551-9f08-aef9e9d6eda9",
   "metadata": {
    "colab": {
     "base_uri": "https://localhost:8080/"
    },
    "id": "478e2052-6770-4551-9f08-aef9e9d6eda9",
    "outputId": "8250fced-1684-4bdd-ebec-df176348c43d",
    "tags": []
   },
   "outputs": [],
   "source": [
    "import os\n",
    "os.listdir('.')"
   ]
  },
  {
   "cell_type": "markdown",
   "id": "d92a7b64-5613-494f-92b5-87236172a123",
   "metadata": {
    "editable": true,
    "id": "d92a7b64-5613-494f-92b5-87236172a123",
    "slideshow": {
     "slide_type": ""
    },
    "tags": []
   },
   "source": [
    "## Magic Functions\n",
    "\n",
    "Magic funcitons control the funcionality of certain libraries integrated with jupyter. We can call these functions using the percent character '%'. Some notable examples include:\n",
    "- `%matplotlib inline` - Shows matplotlib figures inline with the cell output\n",
    "- `%matplotlib notebook` - Live interactive plot\n",
    "- `%load_ext` - Load a jupyter extension, e.g. `%load_ext autoreload`.\n",
    "- `%autoreload 2` - If `autoreload` is loded, setting it to 2 will cause changes in external `.py` files to take effect immediately.\n",
    "- `%run` - Allows you to execute Python code from external .py files and other Jupyter Notebooks directly within your current notebook.\n",
    "- `%load` - Allows you to insert code from an external script into the current cell of your Jupyter Notebook.\n",
    "-\n",
    "\n",
    "\n",
    "\n",
    "Below is an example of using the `timeit` function checks how long it takes some function to run."
   ]
  },
  {
   "cell_type": "markdown",
   "id": "6pKEZdPszvuf",
   "metadata": {
    "id": "6pKEZdPszvuf"
   },
   "source": [
    "To view a list of all available magic commands, simply run the following code in a cell:"
   ]
  },
  {
   "cell_type": "code",
   "execution_count": null,
   "id": "_l6KqPxJz1Yp",
   "metadata": {
    "colab": {
     "base_uri": "https://localhost:8080/",
     "height": 225
    },
    "id": "_l6KqPxJz1Yp",
    "outputId": "37ebf62c-dac6-4e80-cd59-43e7460d2651"
   },
   "outputs": [],
   "source": [
    "%lsmagic"
   ]
  },
  {
   "cell_type": "markdown",
   "id": "kRIj5Ju_0rQG",
   "metadata": {
    "id": "kRIj5Ju_0rQG"
   },
   "source": [
    "Below is an example of using the `timeit` function checks how long it takes some function to run."
   ]
  },
  {
   "cell_type": "markdown",
   "id": "5xA2PDUp0x-E",
   "metadata": {
    "id": "5xA2PDUp0x-E"
   },
   "source": [
    "The `%%time` magic command provides information about a single run of the code in your cell. It measures the time taken to execute the code and displays the result."
   ]
  },
  {
   "cell_type": "code",
   "execution_count": null,
   "id": "utRmT1Rkz7Nl",
   "metadata": {
    "colab": {
     "base_uri": "https://localhost:8080/"
    },
    "id": "utRmT1Rkz7Nl",
    "outputId": "a59edf05-23ca-4052-a5b0-3a292eac8eec"
   },
   "outputs": [],
   "source": [
    "%%time\n",
    "import time\n",
    "for _ in range(1000):\n",
    "    time.sleep(0.01) # sleep for 0.01 seconds"
   ]
  },
  {
   "cell_type": "markdown",
   "id": "ftpFOxFU033W",
   "metadata": {
    "id": "ftpFOxFU033W"
   },
   "source": [
    "the `%timeit` magic command uses the Python timeit module to run a statement multiple times (default is 100,000 times) and provides the mean of the fastest three execution times."
   ]
  },
  {
   "cell_type": "code",
   "execution_count": null,
   "id": "FDoQLxJj1b4D",
   "metadata": {
    "colab": {
     "base_uri": "https://localhost:8080/"
    },
    "id": "FDoQLxJj1b4D",
    "outputId": "de5a985d-729b-4b5c-ab4f-ab96db66f041"
   },
   "outputs": [],
   "source": [
    "import numpy\n",
    "%timeit numpy.random.normal(size=100)"
   ]
  },
  {
   "cell_type": "code",
   "execution_count": null,
   "id": "DF1RnemAvX2y",
   "metadata": {
    "colab": {
     "base_uri": "https://localhost:8080/",
     "height": 39
    },
    "id": "DF1RnemAvX2y",
    "outputId": "68c92b61-741b-4536-8df2-90a4845342d0"
   },
   "outputs": [],
   "source": [
    "%%html\n",
    "<marquee style='width: 30%; color: blue;'><b>Whee!</b></marquee>"
   ]
  },
  {
   "cell_type": "markdown",
   "id": "5Jm7Z5oBvSj8",
   "metadata": {
    "id": "5Jm7Z5oBvSj8"
   },
   "source": [
    "To learn more, see [Jupyter's magics page](http://nbviewer.jupyter.org/github/ipython/ipython/blob/1.x/examples/notebooks/Cell%20Magics.ipynb).\n"
   ]
  },
  {
   "cell_type": "markdown",
   "id": "1a595ea7-ece7-4820-b514-0f11e4b405da",
   "metadata": {
    "id": "1a595ea7-ece7-4820-b514-0f11e4b405da"
   },
   "source": [
    "## Errors\n",
    "\n",
    "Syntax and runtime errors will not cause the kernel to crash, similarly to how a terminal shell will not crash if given a bad command. After the error has occurred, the kernel's memory is still in tact, allowing us to access previously defined variables. For example, the next two cells will yield a syntax error and a runtime error, but the third cell can still run and yields the correct value of `x`."
   ]
  },
  {
   "cell_type": "code",
   "execution_count": null,
   "id": "1f125a23-ed97-4ed3-ae6e-9815ed12a36a",
   "metadata": {
    "colab": {
     "base_uri": "https://localhost:8080/",
     "height": 106
    },
    "id": "1f125a23-ed97-4ed3-ae6e-9815ed12a36a",
    "outputId": "df4ad29c-87cf-4cbf-f050-4dc5cc23b28b"
   },
   "outputs": [],
   "source": [
    "# syntax error\n",
    "x 0"
   ]
  },
  {
   "cell_type": "code",
   "execution_count": null,
   "id": "44268b5c-e0c0-4eff-a55e-ae801d280062",
   "metadata": {
    "colab": {
     "base_uri": "https://localhost:8080/",
     "height": 158
    },
    "id": "44268b5c-e0c0-4eff-a55e-ae801d280062",
    "outputId": "11e08a6a-4321-44d9-cb34-0283b40b7a2a"
   },
   "outputs": [],
   "source": [
    "# runtime error\n",
    "x / 0"
   ]
  },
  {
   "cell_type": "code",
   "execution_count": null,
   "id": "77794ffd-6273-4807-8333-fe9430c3beea",
   "metadata": {
    "colab": {
     "base_uri": "https://localhost:8080/"
    },
    "id": "77794ffd-6273-4807-8333-fe9430c3beea",
    "outputId": "8a9bb2be-478f-4c38-a116-be1273475314"
   },
   "outputs": [],
   "source": [
    "# x still exists in memory\n",
    "x"
   ]
  },
  {
   "cell_type": "markdown",
   "id": "9c9e6ae9-11cd-4303-8df2-0f80ffa33587",
   "metadata": {
    "id": "9c9e6ae9-11cd-4303-8df2-0f80ffa33587"
   },
   "source": [
    "## Exporting\n",
    "\n",
    "We can export a jupyter notebook into a large number of sharable formats out of the box. To do this, navigate via the menu to:  \n",
    "File --> Save and export notebook as --> \\<format\\>  \n",
    "Available formats include:\n",
    "* HTML\n",
    "* LaTeX\n",
    "* PDF (requires an installation of `tex` on your local machine)\n",
    "* rst\n",
    "* python script\n",
    "* reveal.js"
   ]
  },
  {
   "cell_type": "markdown",
   "id": "NDH2_J2SpaLI",
   "metadata": {
    "editable": true,
    "id": "NDH2_J2SpaLI",
    "slideshow": {
     "slide_type": ""
    },
    "tags": []
   },
   "source": [
    "<p><img alt=\"Colaboratory logo\" height=\"45px\" src=\"https://www.dataquest.io/wp-content/uploads/2023/06/Google_Colaboratory_SVG_Logo.svg\" align=\"left\" hspace=\"10px\" vspace=\"0px\"></p>\n",
    "\n",
    "## Google Colab\n",
    "\n",
    "\n",
    "Colab is a free Jupyter notebook environment that requires no setup and runs entirely in the cloud.\n",
    "\n",
    "With Colaboratory you can write and execute code, save and share your analyses, and access powerful computing resources, all for free from your browser."
   ]
  },
  {
   "cell_type": "code",
   "execution_count": null,
   "id": "oHTd7xQrt-BW",
   "metadata": {
    "colab": {
     "base_uri": "https://localhost:8080/",
     "height": 422
    },
    "id": "oHTd7xQrt-BW",
    "outputId": "4046a62d-c52c-4507-d56c-4391f0be9044"
   },
   "outputs": [],
   "source": [
    "#@title Introducing Colab { display-mode: \"form\" }\n",
    "#@markdown This 3-minute video gives an overview of the key features of Colab:\n",
    "from IPython.display import YouTubeVideo\n",
    "YouTubeVideo('inN8seMm7UI', width=600, height=400)"
   ]
  },
  {
   "cell_type": "markdown",
   "id": "waxFmVzbwdGv",
   "metadata": {
    "editable": true,
    "id": "waxFmVzbwdGv",
    "slideshow": {
     "slide_type": ""
    },
    "tags": []
   },
   "source": [
    "# Charting in Colab\n",
    "\n",
    "A common use for notebooks is data visualization using charts. Colab makes this easy with several charting tools available as Python imports."
   ]
  },
  {
   "cell_type": "markdown",
   "id": "HYk0s1hAwdGv",
   "metadata": {
    "editable": true,
    "id": "HYk0s1hAwdGv",
    "slideshow": {
     "slide_type": ""
    },
    "tags": []
   },
   "source": [
    "## Matplotlib\n",
    "\n",
    "[Matplotlib](http://matplotlib.org/) is the most common charting package, see its [documentation](http://matplotlib.org/api/pyplot_api.html) for details, and its [examples](http://matplotlib.org/gallery.html#statistics) for inspiration."
   ]
  },
  {
   "cell_type": "code",
   "execution_count": null,
   "id": "jTVlbBMMwdGv",
   "metadata": {
    "colab": {
     "base_uri": "https://localhost:8080/",
     "height": 472
    },
    "editable": true,
    "id": "jTVlbBMMwdGv",
    "outputId": "799c80df-ecdc-4a21-8b52-186f78bdd332",
    "slideshow": {
     "slide_type": ""
    },
    "tags": []
   },
   "outputs": [],
   "source": [
    "import matplotlib.pyplot as plt\n",
    "\n",
    "x  = [1, 2, 3, 4, 5, 6, 7, 8, 9]\n",
    "y1 = [1, 3, 5, 3, 1, 3, 5, 3, 1]\n",
    "y2 = [2, 4, 6, 4, 2, 4, 6, 4, 2]\n",
    "plt.plot(x, y1, label=\"line L\")\n",
    "plt.plot(x, y2, label=\"line H\")\n",
    "plt.plot()\n",
    "\n",
    "plt.xlabel(\"x axis\")\n",
    "plt.ylabel(\"y axis\")\n",
    "plt.title(\"Line Graph Example\")\n",
    "plt.legend()\n",
    "plt.show()"
   ]
  },
  {
   "cell_type": "markdown",
   "id": "y51C5A1NwdGv",
   "metadata": {
    "id": "y51C5A1NwdGv"
   },
   "source": [
    "## Altair\n",
    "[Altair](http://altair-viz.github.io) is a declarative visualization library for creating interactive visualizations in Python, and is installed and enabled in Colab by default.\n",
    "\n",
    "For example, here is an interactive scatter plot:"
   ]
  },
  {
   "cell_type": "code",
   "execution_count": null,
   "id": "4-yZ9G7NwdGv",
   "metadata": {
    "colab": {
     "base_uri": "https://localhost:8080/",
     "height": 369
    },
    "editable": true,
    "id": "4-yZ9G7NwdGv",
    "outputId": "df2a3fbb-661a-4000-9abd-abb443663552",
    "slideshow": {
     "slide_type": ""
    },
    "tags": []
   },
   "outputs": [],
   "source": [
    "import altair as alt\n",
    "from vega_datasets import data\n",
    "cars = data.cars()\n",
    "\n",
    "alt.Chart(cars).mark_point().encode(\n",
    "    x='Horsepower',\n",
    "    y='Miles_per_Gallon',\n",
    "    color='Origin',\n",
    ").interactive()"
   ]
  },
  {
   "cell_type": "markdown",
   "id": "b8u9wbYDwdGv",
   "metadata": {
    "id": "b8u9wbYDwdGv"
   },
   "source": [
    "For more examples of Altair plots, see the [Altair snippets notebook](/notebooks/snippets/altair.ipynb) or the external [Altair Example Gallery](https://altair-viz.github.io/gallery/)."
   ]
  },
  {
   "cell_type": "markdown",
   "id": "5FmXWIMVcfUt",
   "metadata": {
    "editable": true,
    "id": "5FmXWIMVcfUt",
    "slideshow": {
     "slide_type": ""
    },
    "tags": []
   },
   "source": [
    "# Virtual Machine\n",
    "The most powerful feature of google colab is the ability to use cloud GPU for free. Like the other desktop environment you can also access most of the bash command with a `!` added in the front of the command.\n",
    "\n",
    "At first turn on the GPU from `Runtime`->`Change Runtime Type`->`Hardware Acceleration`\n",
    "\n",
    "The entire colab runs in a cloud VM. Let's investigate the VM. You will see that the current colab notebook is running on top of `Ubuntu 18.04.3 LTS` (at the time of this writing.)"
   ]
  },
  {
   "cell_type": "code",
   "execution_count": null,
   "id": "PDqnY7fNbzbN",
   "metadata": {
    "colab": {
     "base_uri": "https://localhost:8080/"
    },
    "id": "PDqnY7fNbzbN",
    "outputId": "d2be4557-55ff-4825-b7e0-7a00f2430d9b"
   },
   "outputs": [],
   "source": [
    "!ls -l\n",
    "!pwd "
   ]
  },
  {
   "cell_type": "code",
   "execution_count": null,
   "id": "rythfaRYdyFy",
   "metadata": {
    "colab": {
     "base_uri": "https://localhost:8080/"
    },
    "id": "rythfaRYdyFy",
    "outputId": "0e7e389e-5ed7-4bda-eb7a-88b0416db7d4"
   },
   "outputs": [],
   "source": [
    "!ls -l /\n"
   ]
  },
  {
   "cell_type": "code",
   "execution_count": null,
   "id": "zydmUtFqd1-t",
   "metadata": {
    "colab": {
     "base_uri": "https://localhost:8080/"
    },
    "id": "zydmUtFqd1-t",
    "outputId": "43b179cd-07c4-485c-8a39-2fb8e75c982f"
   },
   "outputs": [],
   "source": [
    "!cat /etc/*release"
   ]
  },
  {
   "cell_type": "markdown",
   "id": "XKhoD7iT5z8J",
   "metadata": {
    "id": "XKhoD7iT5z8J"
   },
   "source": [
    "# GPU Details\n",
    "\n"
   ]
  },
  {
   "cell_type": "markdown",
   "id": "c0b860b1",
   "metadata": {},
   "source": [
    "\n",
    "###  Getting a GPU\n",
    "\n",
    "You may already know what's going on when I say GPU. But if not, there are a few ways to get access to one.\n",
    "\n",
    "| **Method** | **Difficulty to setup** | **Pros** | **Cons** | **How to setup** |\n",
    "| ----- | ----- | ----- | ----- | ----- |\n",
    "| Google Colab | Easy | Free to use, almost zero setup required, can share work with others as easy as a link | Doesn't save your data outputs, limited compute, subject to timeouts | [Follow the Google Colab Guide](https://colab.research.google.com/notebooks/gpu.ipynb) |\n",
    "| Use your own | Medium | Run everything locally on your own machine | GPUs aren't free, require upfront cost | Follow the [PyTorch installation guidelines](https://pytorch.org/get-started/locally/) |\n",
    "| Cloud computing (AWS, GCP, Azure) | Medium-Hard | Small upfront cost, access to almost infinite compute | Can get expensive if running continually, takes some time to setup right | Follow the [PyTorch installation guidelines](https://pytorch.org/get-started/cloud-partners/) |\n",
    "\n",
    "There are more options for using GPUs but the above three will suffice for now.\n",
    "\n",
    "Personally, I use a combination of Google Colab and my own personal computer for small scale experiments (and creating this course) and go to cloud resources when I need more compute power.\n",
    "\n",
    "> **Resource:** If you're looking to purchase a GPU of your own but not sure what to get, [Tim Dettmers has an excellent guide](https://timdettmers.com/2020/09/07/which-gpu-for-deep-learning/).\n",
    "\n",
    "To check if you've got access to a Nvidia GPU, you can run `!nvidia-smi`\n",
    "\n"
   ]
  },
  {
   "cell_type": "code",
   "execution_count": null,
   "id": "rZIfeoVWgLjc",
   "metadata": {
    "colab": {
     "base_uri": "https://localhost:8080/"
    },
    "editable": true,
    "id": "rZIfeoVWgLjc",
    "outputId": "a9406591-cc89-4d10-90cf-31ab4b14ed42",
    "slideshow": {
     "slide_type": ""
    },
    "tags": []
   },
   "outputs": [],
   "source": [
    "!nvidia-smi"
   ]
  },
  {
   "cell_type": "markdown",
   "id": "c593b87d",
   "metadata": {},
   "source": [
    "If you don't have a Nvidia GPU accessible, the above will output something like:\n",
    "\n",
    "```\n",
    "NVIDIA-SMI has failed because it couldn't communicate with the NVIDIA driver. Make sure that the latest NVIDIA driver is installed and running.\n",
    "```\n",
    "\n",
    "In that case, go back up and follow the install steps.\n",
    "\n",
    "If you do have a GPU, the line above will output something like:\n",
    "\n",
    "```\n",
    "Wed Jan 19 22:09:08 2022       \n",
    "+-----------------------------------------------------------------------------+\n",
    "| NVIDIA-SMI 495.46       Driver Version: 460.32.03    CUDA Version: 11.2     |\n",
    "|-------------------------------+----------------------+----------------------+\n",
    "| GPU  Name        Persistence-M| Bus-Id        Disp.A | Volatile Uncorr. ECC |\n",
    "| Fan  Temp  Perf  Pwr:Usage/Cap|         Memory-Usage | GPU-Util  Compute M. |\n",
    "|                               |                      |               MIG M. |\n",
    "|===============================+======================+======================|\n",
    "|   0  Tesla P100-PCIE...  Off  | 00000000:00:04.0 Off |                    0 |\n",
    "| N/A   35C    P0    27W / 250W |      0MiB / 16280MiB |      0%      Default |\n",
    "|                               |                      |                  N/A |\n",
    "+-------------------------------+----------------------+----------------------+\n",
    "                                                                               \n",
    "+-----------------------------------------------------------------------------+\n",
    "| Processes:                                                                  |\n",
    "|  GPU   GI   CI        PID   Type   Process name                  GPU Memory |\n",
    "|        ID   ID                                                   Usage      |\n",
    "|=============================================================================|\n",
    "|  No running processes found                                                 |\n",
    "+-----------------------------------------------------------------------------+\n",
    "```"
   ]
  },
  {
   "cell_type": "markdown",
   "id": "z5FZ_n_ieQfV",
   "metadata": {
    "id": "z5FZ_n_ieQfV"
   },
   "source": [
    "# Ubuntu 18.04.3 LTS and drivers\n",
    "\n",
    "Now that, as you are using ubuntu, you can use any command that you use from GNU terminal. This makes life very simple.\n",
    "\n",
    "However, for your project you have have to find a way to transfer/download your data files here in this VM. The easiest way is to mound your google drive here in this VM and use git for version control of your codes.\n",
    "\n",
    "Another easiest way is to get your file is to use `wget` from a file server or dropbox.\n",
    "\n"
   ]
  },
  {
   "cell_type": "markdown",
   "id": "l37pADFurT60",
   "metadata": {
    "id": "l37pADFurT60"
   },
   "source": [
    "To install a python package with pip use following.\n",
    "You can also use `apt-get` to install any package in ubuntu."
   ]
  },
  {
   "cell_type": "code",
   "execution_count": null,
   "id": "_BVV-cvYfTi8",
   "metadata": {
    "colab": {
     "base_uri": "https://localhost:8080/"
    },
    "collapsed": true,
    "id": "_BVV-cvYfTi8",
    "jupyter": {
     "outputs_hidden": true
    },
    "outputId": "82aa9f70-dc43-4b62-800d-413ff627f296"
   },
   "outputs": [],
   "source": [
    "%%capture\n",
    "!pip install gpustat\n",
    "!pip install fairseq\n",
    "!apt-get install build-essential"
   ]
  },
  {
   "cell_type": "code",
   "execution_count": null,
   "id": "eOjNVCFy6F6T",
   "metadata": {
    "colab": {
     "base_uri": "https://localhost:8080/"
    },
    "id": "eOjNVCFy6F6T",
    "outputId": "459083a6-703b-4ace-cf62-4a43eccdeadd"
   },
   "outputs": [],
   "source": [
    "!gpustat"
   ]
  },
  {
   "cell_type": "markdown",
   "id": "rL3vV06CsTbU",
   "metadata": {
    "id": "rL3vV06CsTbU"
   },
   "source": [
    "\n",
    "Please check the nvidia driver version (see the output of `!nvidia-smi` above), cuda version in current OS. Because not all version support the latest cuda, cudnn etc. Deep learning libraries are changing at a rapid pace. So make sure that you can install your preferred deep learning library with the current nvidia-driver, cuda and cudnn."
   ]
  },
  {
   "cell_type": "code",
   "execution_count": null,
   "id": "BRqElCWbsSVj",
   "metadata": {
    "colab": {
     "base_uri": "https://localhost:8080/"
    },
    "id": "BRqElCWbsSVj",
    "outputId": "a31bf139-9930-48c6-f71a-c3d587795efa"
   },
   "outputs": [],
   "source": [
    "from platform import python_version\n",
    "import torch\n",
    "print(\"Python version\", python_version())\n",
    "print(\"Pytorch - version\", torch.__version__)\n",
    "print(\"Pytorch - cuDNN version :\", torch.backends.cudnn.version())"
   ]
  },
  {
   "cell_type": "markdown",
   "id": "eikfzi8ZT_rW",
   "metadata": {
    "id": "eikfzi8ZT_rW"
   },
   "source": [
    "# Local file system"
   ]
  },
  {
   "cell_type": "markdown",
   "id": "BaCkyg5CV5jF",
   "metadata": {
    "id": "BaCkyg5CV5jF"
   },
   "source": [
    "## Uploading files from your local file system\n",
    "\n",
    "`files.upload` returns a dictionary of the files which were uploaded.\n",
    "The dictionary is keyed by the file name and values are the data which were uploaded."
   ]
  },
  {
   "cell_type": "code",
   "execution_count": null,
   "id": "vz-jH8T_Uk2c",
   "metadata": {
    "colab": {
     "base_uri": "https://localhost:8080/",
     "height": 90
    },
    "id": "vz-jH8T_Uk2c",
    "outputId": "c8424970-018e-4453-ea0e-99c5a2273ab4"
   },
   "outputs": [],
   "source": [
    "from google.colab import files\n",
    "\n",
    "uploaded = files.upload()\n",
    "\n",
    "for fn in uploaded.keys():\n",
    "  print('User uploaded file \"{name}\" with length {length} bytes'.format(\n",
    "      name=fn, length=len(uploaded[fn])))"
   ]
  },
  {
   "cell_type": "markdown",
   "id": "hauvGV4hV-Mh",
   "metadata": {
    "id": "hauvGV4hV-Mh"
   },
   "source": [
    "## Downloading files to your local file system\n",
    "\n",
    "`files.download` will invoke a browser download of the file to your local computer.\n"
   ]
  },
  {
   "cell_type": "code",
   "execution_count": null,
   "id": "p2E4EKhCWEC5",
   "metadata": {
    "colab": {
     "base_uri": "https://localhost:8080/",
     "height": 17
    },
    "id": "p2E4EKhCWEC5",
    "outputId": "e86080ae-53be-48dc-968a-c6a11d8e9679"
   },
   "outputs": [],
   "source": [
    "from google.colab import files\n",
    "\n",
    "with open('example.txt', 'w') as f:\n",
    "  f.write('some content')\n",
    "\n",
    "files.download('example.txt')"
   ]
  },
  {
   "cell_type": "markdown",
   "id": "u22w3BFiOveA",
   "metadata": {
    "id": "u22w3BFiOveA"
   },
   "source": [
    "## Mounting Google Drive locally\n",
    "\n",
    "The example below shows how to mount your Google Drive on your runtime using an authorization code, and how to write and read files there. Once executed, you will be able to see the new file (`foo.txt`) at [https://drive.google.com/](https://drive.google.com/).\n",
    "\n",
    "This only supports reading, writing, and moving files; to programmatically modify sharing settings or other metadata, use one of the other options below.\n",
    "\n",
    "**Note:** When using the 'Mount Drive' button in the file browser, no authentication codes are necessary for notebooks that have only been edited by the current user."
   ]
  },
  {
   "cell_type": "code",
   "execution_count": null,
   "id": "RWSJpsyKqHjH",
   "metadata": {
    "colab": {
     "base_uri": "https://localhost:8080/"
    },
    "id": "RWSJpsyKqHjH",
    "outputId": "1b05f871-e140-4524-9a2e-ea3fa094312e"
   },
   "outputs": [],
   "source": [
    "from google.colab import drive\n",
    "drive.mount('/content/drive')"
   ]
  },
  {
   "cell_type": "code",
   "execution_count": null,
   "id": "XDg9OBaYqRMd",
   "metadata": {
    "colab": {
     "base_uri": "https://localhost:8080/"
    },
    "id": "XDg9OBaYqRMd",
    "outputId": "a4421966-c1f5-4d92-b577-6941bcf5ea5d"
   },
   "outputs": [],
   "source": [
    "with open('/content/drive/My Drive/foo.txt', 'w') as f:\n",
    "  f.write('Hello Google Drive!')\n",
    "!cat /content/drive/My\\ Drive/foo.txt"
   ]
  },
  {
   "cell_type": "code",
   "execution_count": null,
   "id": "D78AM1fFt2ty",
   "metadata": {
    "colab": {
     "base_uri": "https://localhost:8080/"
    },
    "id": "D78AM1fFt2ty",
    "outputId": "01671599-1e79-4962-c4c8-5384571dfc0a"
   },
   "outputs": [],
   "source": [
    "drive.flush_and_unmount()\n",
    "print('All changes made in this colab session should now be visible in Drive.')"
   ]
  },
  {
   "cell_type": "markdown",
   "id": "a52df1a3-1ae9-4d7f-8ff9-b60bb5b5dd04",
   "metadata": {
    "id": "a52df1a3-1ae9-4d7f-8ff9-b60bb5b5dd04"
   },
   "source": [
    "# Conclusion\n",
    "\n",
    "Jupyter Lab is a useful tool for scientific programming that contains a wide range of tools that let us create tidy and versatile documents that incorporate live code. It has many more features that were not covered in this notebook, not including the large number of extensions available. This notebook can be exported to a variety of common formats and shared with others. Jupyter notebooks have become a staple in the Python community, and Jupyter Lab is the next generation of notebook processing. It's worth noting the distinction between using it locally and utilizing platforms like Google Colab. While both offer similar functionalities, Colab provides the advantage of cloud-based computing resources, allowing for collaborative work and access to powerful hardware without the need for local installation. On the other hand, working locally with Jupyter Lab offers greater control over the environment and data privacy, albeit with potential limitations in computational resources compared to cloud-based platforms."
   ]
  },
  {
   "cell_type": "markdown",
   "id": "u1wdmFKqylSI",
   "metadata": {
    "id": "u1wdmFKqylSI"
   },
   "source": [
    "# Important Resources\n",
    "\n",
    "Learn how to make the most of Python, Jupyter, Colaboratory, and related tools with these resources:\n",
    "\n",
    "### Working with Notebooks in Colaboratory\n",
    "- [Overview of Colaboratory](/notebooks/basic_features_overview.ipynb)  \n",
    "- [Guide to Markdown](/notebooks/markdown_guide.ipynb)\n",
    "- [Importing libraries and installing dependencies](/notebooks/snippets/importing_libraries.ipynb)\n",
    "- [Saving and loading notebooks in GitHub](https://colab.research.google.com/github/googlecolab/colabtools/blob/master/notebooks/colab-github-demo.ipynb)\n",
    "\n",
    "### Additional Content\n",
    "- [Interactive forms](/notebooks/forms.ipynb)\n",
    "- [Interactive widgets](/notebooks/widgets.ipynb)\n",
    "\n",
    "\n",
    "### Working with Data\n",
    "- [Loading data: Drive, Sheets, and Google Cloud Storage](/notebooks/io.ipynb)\n",
    "- [Charts: visualizing data](/notebooks/charts.ipynb)\n"
   ]
  }
 ],
 "metadata": {
  "accelerator": "GPU",
  "colab": {
   "gpuType": "T4",
   "provenance": []
  },
  "kernelspec": {
   "display_name": "Python 3 (ipykernel)",
   "language": "python",
   "name": "python3"
  },
  "language_info": {
   "codemirror_mode": {
    "name": "ipython",
    "version": 3
   },
   "file_extension": ".py",
   "mimetype": "text/x-python",
   "name": "python",
   "nbconvert_exporter": "python",
   "pygments_lexer": "ipython3",
   "version": "3.12.3"
  },
  "toc-autonumbering": false,
  "toc-showcode": false
 },
 "nbformat": 4,
 "nbformat_minor": 5
}
