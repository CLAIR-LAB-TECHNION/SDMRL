{
  "cells": [
    {
      "cell_type": "markdown",
      "id": "9a7aaea8-bcbb-45ee-aea6-ca25217c48fe",
      "metadata": {
        "id": "9a7aaea8-bcbb-45ee-aea6-ca25217c48fe"
      },
      "source": [
        "# PettingZoo Speaker-Listener Environment Demonstration\n",
        "\n",
        "## Introduction\n",
        "\n",
        "[PettingZoo](https://pettingzoo.farama.org/) is a Python library for conducting research in multi-agent reinforcement learning, akin to a multi-agent version of [Gym](https://github.com/openai/gym). It implements a variety of environments, including:\n",
        "- [Atari](https://pettingzoo.farama.org/environments/atari/): Multi-player Atari 2600 games (cooperative, competitive and mixed sum)\n",
        "- [Butterfly](https://pettingzoo.farama.org/environments/butterfly/): Cooperative graphical games developed by us, requiring a high degree of coordination\n",
        "- [Classic](https://pettingzoo.farama.org/environments/classic/): Classical games including card games, board games, etc.\n",
        "- [MAgent](https://www.pettingzoo.ml/magent): Configurable environments with massive numbers of particle agents, originally from https://github.com/geek-ai/MAgent\n",
        "- [MPE](https://pettingzoo.farama.org/environments/mpe/): A set of simple nongraphical communication tasks, originally from https://github.com/openai/multiagent-particle-envs\n",
        "- [SISL](https://pettingzoo.farama.org/environments/sisl/): 3 cooperative environments, originally from https://github.com/sisl/MADRL\n",
        "\n",
        "<img src=\"https://raw.githubusercontent.com/Farama-Foundation/PettingZoo/master/pettingzoo-text.png\" width=\"500\" align=\"center\"/>\n",
        "\n",
        "The [Simple Speaker Listener Environment](https://pettingzoo.farama.org/environments/mpe/simple_speaker_listener/) is implemented in the MPE library. It is a 2-agent environment in which one agent, the \"speaker\", has information about the goal and has a limmited mode of communication with the second agent, the \"listener\", which must use the speaker's communications and its limitted observations to navigate a 2D space toward the goal. The speaker agent cannot navigate, and the listener object cannot communicate.\n",
        "\n",
        "<img src=\"https://pettingzoo.farama.org/_images/mpe_simple_speaker_listener.gif\" width=\"500\" align=\"center\"/>"
      ]
    },
    {
      "cell_type": "code",
      "execution_count": 23,
      "id": "26db1ca7-314b-4d99-8837-67296eda297f",
      "metadata": {
        "id": "26db1ca7-314b-4d99-8837-67296eda297f"
      },
      "outputs": [],
      "source": [
        "%%capture\n",
        "!pip install 'pettingzoo[mpe]==1.14.0'"
      ]
    },
    {
      "cell_type": "markdown",
      "id": "3ac223ec-ee40-4223-bfb0-4bad186323b0",
      "metadata": {
        "id": "3ac223ec-ee40-4223-bfb0-4bad186323b0"
      },
      "source": [
        "## Environment Description\n",
        " We can create an environment instance using the `env` function which accepts two parameters:\n",
        "1. `max_cycles` - the number of actions each agent can perform before the end of the episode. _default=25_\n",
        "2. `continuous_actions` - if `True`, both the speaker and the listener have a continuous action space. otherwise they are discrete, finite spaces. _default=False_\n",
        "\n",
        "The environment object implements many usful tools to help understand and properly utilize the environment. Below we use the `agents` attribute to iterate over the agent names, and the `observation_space` and `action_space` functions to show the [gym spaces](https://gym.openai.com/docs/#spaces) for the agents observation and action spaces."
      ]
    },
    {
      "cell_type": "code",
      "execution_count": 24,
      "id": "063ae7f1-49fa-46fe-b475-a67ad8fb99c5",
      "metadata": {
        "colab": {
          "base_uri": "https://localhost:8080/"
        },
        "id": "063ae7f1-49fa-46fe-b475-a67ad8fb99c5",
        "outputId": "f142db15-7ca3-472b-95d2-d772e55abb11"
      },
      "outputs": [
        {
          "output_type": "stream",
          "name": "stdout",
          "text": [
            "discrete actions:\n",
            "- agent 1: speaker_0\n",
            "\t- observation space: Box(-inf, inf, (3,), float32)\n",
            "\t- action space: Discrete(3)\n",
            "- agent 2: listener_0\n",
            "\t- observation space: Box(-inf, inf, (11,), float32)\n",
            "\t- action space: Discrete(5)\n",
            "\n",
            "continuous actions:\n",
            "- agent 1: speaker_0\n",
            "\t- observation space: Box(-inf, inf, (3,), float32)\n",
            "\t- action space: Box(0.0, 1.0, (3,), float32)\n",
            "- agent 2: listener_0\n",
            "\t- observation space: Box(-inf, inf, (11,), float32)\n",
            "\t- action space: Box(0.0, 1.0, (5,), float32)\n"
          ]
        }
      ],
      "source": [
        "from pettingzoo.mpe import simple_speaker_listener_v3\n",
        "import numpy as np\n",
        "\n",
        "\n",
        "def print_env_info(continuous_actions):\n",
        "    env = simple_speaker_listener_v3.env(continuous_actions=continuous_actions)\n",
        "    env.reset()\n",
        "\n",
        "    print('continuous actions:' if continuous_actions else 'discrete actions:')\n",
        "\n",
        "    for i, agent in enumerate(env.agents, 1):\n",
        "        print(f'- agent {i}: {agent}')\n",
        "        print(f'\\t- observation space: {env.observation_space(agent)}')\n",
        "        print(f'\\t- action space: {env.action_space(agent)}')\n",
        "\n",
        "\n",
        "print_env_info(continuous_actions=False)\n",
        "print()\n",
        "print_env_info(continuous_actions=True)"
      ]
    },
    {
      "cell_type": "markdown",
      "id": "2a0adb1a-678e-4084-9a8b-652c6b8605b8",
      "metadata": {
        "id": "2a0adb1a-678e-4084-9a8b-652c6b8605b8"
      },
      "source": [
        "### Observation Spaces\n",
        "\n",
        "The `Box(low, high, shape, dtype)` space contains any vector of shape `shape` that contains only values within the closed interval between `low` and `high` represented as type `dtype`. Both the speaker and the listener receive one dimensional `Box` observations of different sizes with any 32-bit floating point value. Note that the observation spaces remain the same regardless of the action space type (continuous / discrete). We can get the next acting agent's observation using the environment's `last` function, which returns the previous observation, reward, \"done\" flag, info dictionary. The current acting agent is chosen sequentially according to the agents' order in the `agents` attribute. The next agent is chosen when calling the `step` function which is sets the agent's action.\n",
        "\n",
        "#### Speaker\n",
        "The speaker observation is of type `Box(-inf, inf, (3,), float32)`, which is any vector of 3 dimensions. The values represent the RGB color of the goal to which the listener must navigate to maximize rewards.\n",
        "\n",
        "#### Listener\n",
        "The speaker observation is of type `Box(-inf, inf, (11,), float32)`, which is any vector of 11 dimensions. The first two values are the agent's velocity in 2D space. The next six values are the red, blue, and green landmarks' positions relative to the listener. The last three values correspond to communication received from the speaker. Below is a precise ordering of the values in the observation vector:\n",
        "1. listener agent velocity X\n",
        "2. listener agent velocity Y\n",
        "3. red landmark X pos - listener agent X pos\n",
        "4. red landmark Y pos - listener agent Y pos\n",
        "5. blue landmark X pos - listener agent X pos\n",
        "6. blue landmark Y pos - listener agent Y pos\n",
        "7. green landmark X pos - listener agent X pos\n",
        "8. green landmark Y pos - listener agent Y pos\n",
        "9. communication channel 1\n",
        "10. communication channel 2\n",
        "11. communication channel 3\n",
        "\n",
        "Note that the communication observation (values 9, 10, and 11) will always be 0 in the first round since no communication has yet been received from the speaker"
      ]
    },
    {
      "cell_type": "code",
      "execution_count": 25,
      "id": "c5cd7be0-def6-4917-ace2-3433e6d32aaa",
      "metadata": {
        "colab": {
          "base_uri": "https://localhost:8080/"
        },
        "id": "c5cd7be0-def6-4917-ace2-3433e6d32aaa",
        "outputId": "698b2cda-30e9-4869-89b6-e70a33945e1a"
      },
      "outputs": [
        {
          "output_type": "stream",
          "name": "stdout",
          "text": [
            "agnet: speaker_0\n",
            "observation: [0.15 0.15 0.65]\n",
            "\n",
            "agnet: listener_0\n",
            "observation: [0.         0.         0.5130136  1.1490064  1.134855   0.71397334\n",
            " 0.3497692  0.18007712 0.         0.         0.        ]\n",
            "\n",
            "agnet: speaker_0\n",
            "observation: [0.15 0.15 0.65]\n",
            "\n",
            "agnet: listener_0\n",
            "observation: [-0.5         0.          0.5630136   1.1490064   1.1848551   0.71397334\n",
            "  0.39976922  0.18007712  1.          0.          0.        ]\n",
            "\n"
          ]
        }
      ],
      "source": [
        "env = simple_speaker_listener_v3.env()\n",
        "env.reset()  # reset the environment, selected agent is \"speaker_0\"\n",
        "\n",
        "# run twice to show the chnage in the communication vector\n",
        "for i in range(2):\n",
        "    #speaker obs\n",
        "    obs, _, _, _ = env.last()  # get speaker observation vector\n",
        "    print(f'agnet: {env.agents[0]}')\n",
        "    print(f'observation: {obs}')\n",
        "    print()\n",
        "    env.step(0)  # send discrete message \"A\". next agent is selected (listener_0)\n",
        "\n",
        "    obs, _, _, _ = env.last()  # get listener observation vector\n",
        "    print(f'agnet: {env.agents[1]}')\n",
        "    print(f'observation: {obs}')\n",
        "    print()\n",
        "    env.step(1)  # perform the \"go left\" action"
      ]
    },
    {
      "cell_type": "markdown",
      "id": "964817d1-264a-4c0f-b571-1a8f3dd65653",
      "metadata": {
        "id": "964817d1-264a-4c0f-b571-1a8f3dd65653"
      },
      "source": [
        "### Action Spaces\n",
        "\n",
        "The action agents' action spaces can be either discrete or continuous, depending on the `continuous_actions` parameter. If discrete, the action spaces are of type `Discrete(n)`, which contains the integer values 0 to n-1. Otherwise, the action spaces are of type `Box` (like the observation spaces), but with values constrained between 0 and 1. Actions are given sequentially by agent order according the `agents` attribute by using the `step` function. The given action must be one from the corresponding agent's action space.\n",
        "\n",
        "#### Discrete Actions\n",
        "\n",
        "##### Speaker\n",
        "The action space is `Discrete(3)` containing the values 0, 1, 2. Each value corresponds to a possible message. Value 0 corresponds to message A, which can be seen in the communication vector of the listener's observation as \\[1, 0, 0\\]. Similarly, values 1 and 2 correspond to messages B and C and appear as \\[0, 1, 0\\] and \\[0, 0, 1\\] in the listener's observation respectively.\n",
        "\n",
        "##### Listener\n",
        "Discrete:  \n",
        "The action space is `Discrete(5)` containing the values 0 - 4. Each value applies force on the agent, increasing its velocity to some direction. The velocity will slowly deteriorate until the agent stops, unless constant force is applied. The values' meanings are as follows:\n",
        "* 0 - do nothing\n",
        "* 1 - push left (add velocity in negative x-axis direction)\n",
        "* 2 - push right (add velocity in positive x-axis direction)\n",
        "* 3 - push down (add velocity in negative y-axis direction)\n",
        "* 4 - push up (add velocity in positive t-axis direction)"
      ]
    },
    {
      "cell_type": "code",
      "execution_count": 26,
      "id": "37f69779-5ff1-4f1e-96d6-c1851dcc3fd4",
      "metadata": {
        "colab": {
          "base_uri": "https://localhost:8080/"
        },
        "id": "37f69779-5ff1-4f1e-96d6-c1851dcc3fd4",
        "outputId": "be65ffd0-de12-4ec4-8b51-eff8afd02203"
      },
      "outputs": [
        {
          "output_type": "stream",
          "name": "stdout",
          "text": [
            "agnet: speaker_0\n",
            "observation: [0.15 0.15 0.65]\n",
            "\n",
            "agnet: listener_0\n",
            "observation: [ 0.          0.         -0.26894867  0.29978818 -1.4671612   1.1123224\n",
            " -0.12062708  0.67701155  0.          0.          0.        ]\n",
            "\n",
            "agnet: speaker_0\n",
            "observation: [0.15 0.15 0.65]\n",
            "\n",
            "agnet: listener_0\n",
            "observation: [-0.5         0.         -0.21894868  0.29978818 -1.4171612   1.1123224\n",
            " -0.07062708  0.67701155  1.          0.          0.        ]\n",
            "\n"
          ]
        }
      ],
      "source": [
        "# speaker action-to-index dict\n",
        "SPEAKER_DISCRETE_ACTIONS = {\n",
        "    'A': 0,\n",
        "    'B': 1,\n",
        "    'C': 2\n",
        "}\n",
        "\n",
        "# listener action-to-index dict\n",
        "LISTENER_DISCRETE_ACTIONS = {\n",
        "    'nothing': 0,\n",
        "    'left':    1,\n",
        "    'right':   2,\n",
        "    'down':    3,\n",
        "    'up':      4\n",
        "}\n",
        "\n",
        "env = simple_speaker_listener_v3.env(continuous_actions=False)  # discrete actions env\n",
        "env.reset()\n",
        "\n",
        "# CHANGE ACTION ACCORDING TO THE SPEADER TABLE AND SEE THE LISTENER'S COMMUNICATION OBSERVATIONS CHANGE\n",
        "chosen_speaker_action = SPEAKER_DISCRETE_ACTIONS['A']\n",
        "\n",
        "# CHANGE ACTION ACCORDING TO THE LISTENER TABLE AND SEE THE VELOCITY OBSERVATIONS CHANGE\n",
        "chosen_listener_action = LISTENER_DISCRETE_ACTIONS['left']\n",
        "\n",
        "# run twice to show the chnage in the communication vector\n",
        "for i in range(2):\n",
        "    #speaker action\n",
        "    obs, _, _, _ = env.last()\n",
        "    print(f'agnet: {env.agents[0]}')\n",
        "    print(f'observation: {obs}')\n",
        "    print()\n",
        "    env.step(chosen_speaker_action)\n",
        "\n",
        "    # listener action\n",
        "    obs, _, _, _ = env.last()\n",
        "    print(f'agnet: {env.agents[1]}')\n",
        "    print(f'observation: {obs}')\n",
        "    print()\n",
        "    env.step(chosen_listener_action)"
      ]
    },
    {
      "cell_type": "markdown",
      "id": "2f9486a6-7673-46fc-98a6-be75c04bcd00",
      "metadata": {
        "id": "2f9486a6-7673-46fc-98a6-be75c04bcd00"
      },
      "source": [
        "#### Continuous Actions\n",
        "\n",
        "##### Speaker\n",
        "The action space is `Box(0.0, 1.0, (3,), float32)` containing 3D vectors of values in \\[0, 1\\]. The values have no specific meaning, and are given, as is, as the listener observation's communication vector.\n",
        "\n",
        "##### Listener\n",
        "The action space is `Box(0.0, 1.0, (5,), float32)` containing 3D vectors of values in \\[0, 1\\]. Each value describes the amount of force applied in each direction (left, right, up, and down). Below is a precise ordering of the values in the action vector:\n",
        "1. No force (useful for some implementations)\n",
        "2. Force right (positive in x-axis)\n",
        "3. Force left (negative in x-axis)\n",
        "4. Force up (positive in y-axis)\n",
        "5. Force down (negative in y-axis)"
      ]
    },
    {
      "cell_type": "code",
      "execution_count": 27,
      "id": "6337af45-51fe-437d-8cac-323a7106997c",
      "metadata": {
        "colab": {
          "base_uri": "https://localhost:8080/"
        },
        "id": "6337af45-51fe-437d-8cac-323a7106997c",
        "outputId": "78541dd1-de3f-4af0-a33d-a8bb26b65da4"
      },
      "outputs": [
        {
          "output_type": "stream",
          "name": "stdout",
          "text": [
            "agnet: speaker_0\n",
            "observation: [0.15 0.15 0.65]\n",
            "\n",
            "agnet: listener_0\n",
            "observation: [ 0.          0.          0.72536874 -0.56383175  0.35976267  0.84839094\n",
            "  0.2632999  -0.17492563  0.          0.          0.        ]\n",
            "\n",
            "agnet: speaker_0\n",
            "observation: [0.15 0.15 0.65]\n",
            "\n",
            "agnet: listener_0\n",
            "observation: [ 0.         -0.09999999  0.72536874 -0.5538317   0.35976267  0.8583909\n",
            "  0.2632999  -0.16492563  0.5         1.          0.2       ]\n",
            "\n"
          ]
        }
      ],
      "source": [
        "# speaker continuous action function\n",
        "def speaker_continuous_action(v1, v2, v3):\n",
        "    return np.array([v1, v2, v3], dtype=np.float32)\n",
        "\n",
        "# listener continuous action function\n",
        "def listener_continuous_action(right, left, up, down):\n",
        "    return np.array([0, right, left, up, down], dtype=np.float32)\n",
        "\n",
        "env = simple_speaker_listener_v3.env(continuous_actions=True)  # continuous actions env\n",
        "env.reset()\n",
        "\n",
        "# CHANGE ACTION AS NEEDED\n",
        "chosen_speaker_action = speaker_continuous_action(v1=0.5, v2=1.0, v3=0.2)\n",
        "\n",
        "# CHANGE ACTION AS NEEDED\n",
        "chosen_listener_action = listener_continuous_action(right=0.8, left=0.8, up=0.5, down=0.7)\n",
        "\n",
        "# run twice to show the chnage in the communication vector\n",
        "for i in range(2):\n",
        "    #speaker action\n",
        "    obs, _, _, _ = env.last()\n",
        "    print(f'agnet: {env.agents[0]}')\n",
        "    print(f'observation: {obs}')\n",
        "    print()\n",
        "    env.step(chosen_speaker_action)\n",
        "\n",
        "    # listener action\n",
        "    obs, _, _, _ = env.last()\n",
        "    print(f'agnet: {env.agents[1]}')\n",
        "    print(f'observation: {obs}')\n",
        "    print()\n",
        "    env.step(chosen_listener_action)"
      ]
    },
    {
      "cell_type": "markdown",
      "id": "eae4ed6b-ff44-4f51-b4a0-6a9283ab965a",
      "metadata": {
        "id": "eae4ed6b-ff44-4f51-b4a0-6a9283ab965a"
      },
      "source": [
        "## Running the Environment\n",
        "\n",
        "We can run a game simulation by resetting an environment and playing out the episode. This is done by iterating over the agents repeatedly, providing an action for each agent at every iteration, until we wish to stop or until the `max_cycles` limit has been reached. In the example below, we define a policy function to generate random actions within each agent's action space.\n",
        "\n",
        "### Policies\n",
        "\n",
        "We implement a policy as a function that, given the current observation, returns an action to perform. Below we define a policy class that supports both `Discrete` and `Box` type action spaces that completely ignores the observation and samples a random valid action from the given action space."
      ]
    },
    {
      "cell_type": "code",
      "execution_count": 28,
      "id": "77711b6a-8570-46e5-bc5e-88edac9aa21d",
      "metadata": {
        "id": "77711b6a-8570-46e5-bc5e-88edac9aa21d"
      },
      "outputs": [],
      "source": [
        "from gym.spaces import Discrete, Box\n",
        "\n",
        "# define a random policy for continuous action agents.\n",
        "# the policy returns a numpy array of the action space shape with random values between 0 and 1.\n",
        "class RandomPolicy:\n",
        "    def __init__(self, action_space):\n",
        "        # choose a policy function for this action space type\n",
        "        if isinstance(action_space, Discrete):  # discrete action policy\n",
        "            self.policy_fn = self.__discrete_policy\n",
        "        elif isinstance(action_space, Box):  # continuous action policy\n",
        "            self.policy_fn = self.__continuous_policy\n",
        "        else:  # other types are not supported\n",
        "            raise TypeError(f'action_space must be of type Box or Discrete. got {type(action_space).__name__}')\n",
        "\n",
        "        self.action_space = action_space\n",
        "\n",
        "    def __call__(self, observation):\n",
        "        # we completely ignore the observation and create a random valid action.\n",
        "        return self.policy_fn()\n",
        "\n",
        "    def __discrete_policy(self):\n",
        "        # a random number within the discrete action range\n",
        "        return np.random.randint(self.action_space.n)\n",
        "\n",
        "    def __continuous_policy(self):\n",
        "        # a random vector within the continuous range of the appropriate dimensionality\n",
        "        # convert to the right dtype to avoid clipping warnings (e.g. float64 to float32)\n",
        "        return np.random.uniform(self.action_space.low, self.action_space.high, self.action_space.shape).astype(self.action_space.dtype)"
      ]
    },
    {
      "cell_type": "markdown",
      "id": "eeed1034-f3a8-45db-ae98-e023993fb294",
      "metadata": {
        "id": "eeed1034-f3a8-45db-ae98-e023993fb294"
      },
      "source": [
        "### Simulation\n",
        "\n",
        "We now define an environment with either a discrete or continuous action space that limits to a small number of steps, for the purposes of this demonstration, using the `max_cycles` parameter. We then create a policy for each agent and start iterating over them repeatedly. For this, the environment implements the `agent_iter` function. This function simply iterates over the list of agents `max_cycles` times, allowing us to perform `max_cycles` steps for each agent. An added bonus of using `agent_iter` is that it raises an error if there was no `step` call within the iteration (which can prevent horrible bugs). After the episode has ended, the agents' \"done\" status will be true, and . In this case the episode is complete and the environment must be reset if we wish to run it again."
      ]
    },
    {
      "cell_type": "code",
      "execution_count": 29,
      "id": "2b9ff00b-0939-47f9-acf8-eb3a7de90e82",
      "metadata": {
        "colab": {
          "base_uri": "https://localhost:8080/"
        },
        "id": "2b9ff00b-0939-47f9-acf8-eb3a7de90e82",
        "outputId": "00c65493-a660-4629-be71-09430ea6daef"
      },
      "outputs": [
        {
          "output_type": "stream",
          "name": "stdout",
          "text": [
            "speaker_0 reward:      0.0\n",
            "speaker_0 observation: [0.15 0.65 0.15]\n",
            "speaker_0 action:      [0.37597445 0.4504026  0.8208972 ]\n",
            "\n",
            "listener_0 reward:      0.0\n",
            "listener_0 observation: [ 0.          0.          1.6104777   1.4753605   0.73651475 -0.01967757\n",
            "  1.1549629   1.6609801   0.          0.          0.        ]\n",
            "listener_0 action:      [0.7670176  0.05591581 0.71191186 0.9831569  0.77135575]\n",
            "\n",
            "speaker_0 reward:      -0.592760973316971\n",
            "speaker_0 observation: [0.15 0.65 0.15]\n",
            "speaker_0 action:      [0.6939973  0.10851211 0.07447959]\n",
            "\n",
            "listener_0 reward:      -0.592760973316971\n",
            "listener_0 observation: [-0.327998    0.10590059  1.6432774   1.4647704   0.7693145  -0.03026762\n",
            "  1.1877626   1.6503901   0.37597445  0.4504026   0.8208972 ]\n",
            "listener_0 action:      [0.39980936 0.88120455 0.13975859 0.14662561 0.43021572]\n",
            "\n",
            "speaker_0 reward:      -0.5733874095315439\n",
            "speaker_0 observation: [0.15 0.65 0.15]\n",
            "speaker_0 action:      [0.44877484 0.73215556 0.84667075]\n",
            "\n",
            "listener_0 reward:      -0.5733874095315439\n",
            "listener_0 observation: [ 0.12472447 -0.06236961  1.630805    1.4710073   0.7568421  -0.02403066\n",
            "  1.1752902   1.656627    0.6939973   0.10851211  0.07447959]\n",
            "listener_0 action:      [0.7359921  0.9721535  0.9243189  0.3497584  0.40518218]\n",
            "\n",
            "speaker_0 reward:      -0.555443030197842\n",
            "speaker_0 observation: [0.15 0.65 0.15]\n",
            "speaker_0 action:      [0.7820241 0.6471298 0.9124823]\n",
            "\n",
            "listener_0 reward:      -0.555443030197842\n",
            "listener_0 observation: [ 0.11746064 -0.07448911  1.619059    1.4784563   0.745096   -0.01658175\n",
            "  1.1635442   1.664076    0.44877484  0.73215556  0.84667075]\n",
            "listener_0 action:      [0.20402229 0.46231893 0.8001974  0.01175226 0.9612983 ]\n",
            "\n",
            "speaker_0 reward:      -0.5686116599768726\n",
            "speaker_0 observation: [0.15 0.65 0.15]\n",
            "speaker_0 action:      [0.88154    0.6653361  0.97116053]\n",
            "\n",
            "listener_0 reward:      -0.5686116599768726\n",
            "listener_0 observation: [-0.08084377 -0.5306398   1.6271433   1.5315202   0.7531804   0.03648223\n",
            "  1.1716285   1.71714     0.7820241   0.6471298   0.9124823 ]\n",
            "listener_0 action:      [0.7980495  0.71711785 0.7707287  0.28185615 0.95577365]\n",
            "\n"
          ]
        }
      ],
      "source": [
        "# CHOOSE MAX CYCLES AND DISCRETE OR CONTINUOUS ACTION SPACE\n",
        "env = simple_speaker_listener_v3.env(max_cycles=5, continuous_actions=True)\n",
        "env.reset()\n",
        "\n",
        "# create a random policy for both agents' action spaces.\n",
        "policies = {\n",
        "    env.agents[0]: RandomPolicy(env.action_space(env.agents[0])),\n",
        "    env.agents[1]: RandomPolicy(env.action_space(env.agents[1]))\n",
        "}\n",
        "\n",
        "# iterate over agents until the episode is complete\n",
        "for agent in env.agent_iter():\n",
        "    observation, reward, done, info = env.last()\n",
        "\n",
        "    # if done, the episode is complete. no more actions can be taken\n",
        "    if done:\n",
        "        break\n",
        "\n",
        "    # choose an action and execute\n",
        "    action = policies[agent](observation)\n",
        "    env.step(action)\n",
        "\n",
        "    # log everything\n",
        "    print(f'{agent} reward:      {reward}')\n",
        "    print(f'{agent} observation: {observation}')\n",
        "    print(f'{agent} action:      {action}')\n",
        "    print()"
      ]
    },
    {
      "cell_type": "markdown",
      "id": "28d1477e-81d8-4ac3-9bf8-2923060dfd6d",
      "metadata": {
        "id": "28d1477e-81d8-4ac3-9bf8-2923060dfd6d"
      },
      "source": [
        "## Advanced Tools\n",
        "\n",
        "### World Model\n",
        "\n",
        "All MPE environments define a world with customizable physical properties that make up the world model. The `pettingzoo.mpe._mpe_utils.core.World` object is the template for such a world. It contains a collection of `Entity` objects, divided into agents and landmarks. Both the world object and the different entities have physical attributes that affect transitions within the environment.\n",
        "\n",
        "Let us explore the Simple Speaker Listener environment's world attributes."
      ]
    },
    {
      "cell_type": "code",
      "execution_count": 30,
      "id": "204cc623-b088-4f06-b2ab-7388c0c59ddd",
      "metadata": {
        "colab": {
          "base_uri": "https://localhost:8080/"
        },
        "id": "204cc623-b088-4f06-b2ab-7388c0c59ddd",
        "outputId": "552270c3-bf13-436d-e304-0c439fdd3732"
      },
      "outputs": [
        {
          "output_type": "execute_result",
          "data": {
            "text/plain": [
              "{'agents': [<pettingzoo.mpe._mpe_utils.core.Agent at 0x7e935c79b430>,\n",
              "  <pettingzoo.mpe._mpe_utils.core.Agent at 0x7e935c79a0b0>],\n",
              " 'landmarks': [<pettingzoo.mpe._mpe_utils.core.Landmark at 0x7e935c799570>,\n",
              "  <pettingzoo.mpe._mpe_utils.core.Landmark at 0x7e935c79b0a0>,\n",
              "  <pettingzoo.mpe._mpe_utils.core.Landmark at 0x7e935c79b4c0>],\n",
              " 'dim_c': 3,\n",
              " 'dim_p': 2,\n",
              " 'dim_color': 3,\n",
              " 'dt': 0.1,\n",
              " 'damping': 0.25,\n",
              " 'contact_force': 100.0,\n",
              " 'contact_margin': 0.001,\n",
              " 'collaborative': True}"
            ]
          },
          "metadata": {},
          "execution_count": 30
        }
      ],
      "source": [
        "env = simple_speaker_listener_v3.env(continuous_actions=True)\n",
        "env.reset()\n",
        "\n",
        "# list environment \"world\" attributes\n",
        "vars(env.unwrapped.world)"
      ]
    },
    {
      "cell_type": "markdown",
      "id": "b32545a0-1982-42be-8fcf-c5126db00ba7",
      "metadata": {
        "id": "b32545a0-1982-42be-8fcf-c5126db00ba7"
      },
      "source": [
        "`agents` and `landmarks` are the world entities. The `dim_X` attributes define the dimensions of values in the environment, e.g., `dim_p` defines the world position dimensions (the default is a 2d world). The rest are physical properties that affect transitions:\n",
        "- `dt` - time units per step\n",
        "- `damping` - applies a multiplicative drag on moving agents.\n",
        "- `contact_force` and `contact_margin` - used to calculate collision force\n",
        "\n",
        "To complete our view of the world, let us explore an entity. Specifically, below are the attributes of the listener agent."
      ]
    },
    {
      "cell_type": "code",
      "execution_count": 31,
      "id": "7df31c8f-7ba9-423b-993b-065afb6ba988",
      "metadata": {
        "colab": {
          "base_uri": "https://localhost:8080/"
        },
        "id": "7df31c8f-7ba9-423b-993b-065afb6ba988",
        "outputId": "1947e1b9-f985-4adf-b483-2d95701a1214"
      },
      "outputs": [
        {
          "output_type": "execute_result",
          "data": {
            "text/plain": [
              "{'name': 'listener_0',\n",
              " 'size': 0.075,\n",
              " 'movable': True,\n",
              " 'collide': False,\n",
              " 'density': 25.0,\n",
              " 'color': array([0.6, 1.1, 0.6]),\n",
              " 'max_speed': None,\n",
              " 'accel': None,\n",
              " 'state': <pettingzoo.mpe._mpe_utils.core.AgentState at 0x7e935c79a770>,\n",
              " 'initial_mass': 1.0,\n",
              " 'silent': True,\n",
              " 'blind': False,\n",
              " 'u_noise': None,\n",
              " 'c_noise': None,\n",
              " 'u_range': 1.0,\n",
              " 'action': <pettingzoo.mpe._mpe_utils.core.Action at 0x7e935c79bcd0>,\n",
              " 'action_callback': None,\n",
              " 'goal_a': None,\n",
              " 'goal_b': None}"
            ]
          },
          "metadata": {},
          "execution_count": 31
        }
      ],
      "source": [
        "# list \"listener\" agent entity attributes\n",
        "vars(env.unwrapped.world.agents[1])"
      ]
    },
    {
      "cell_type": "markdown",
      "id": "de3e7274-09d5-47fa-8bec-9beebe5a1ce2",
      "metadata": {
        "id": "de3e7274-09d5-47fa-8bec-9beebe5a1ce2"
      },
      "source": [
        "Some interesting attributes:\n",
        "\n",
        "- `movable` - if `True`, the entity can change position via actions / collisions.\n",
        "- `collide` - if `True`, the entity can collide with other entities with `collide=True`\n",
        "- `max_speed` - a maximal limit on the velocity norm. if `None`, the speed is not bounded.\n",
        "- `accel` - a constant value that scales the force acceleration. The default is `None` which defaults to `5`.\n",
        "- `state` - contains the position, velocity, and communications vector of the entity.\n",
        "- `initial_mass` - the entity's mass\n",
        "- `u_noise` and `c_noise` - the standard deviation for additive, zero-mean Gaussian noise for the action force and communications respectively. `None` is equivalent to 0.\n",
        "- `u_range` - The maximal force that can be applied to the agent in any axis.\n",
        "\n",
        "As we can see, this environment has one movable agent that cannot collide with other entities, and whos actions are deterministic (i.e., no noise). In this scenario, when the listener performs its action `[x, right, left, up, down]` at time step $t$, the velocity and position of the agent is calculated as follows:\n",
        "$$u_{t} = [\\text{right} - \\text{left}, \\text{up} - \\text{down}]$$\n",
        "$$v_{t + 1} = v_{t}\\cdot (1 - \\text{damping}) + \\frac{u_{t} \\cdot\\text{accel}}{\\text{mass}}\\cdot \\text{dt}$$\n",
        "$$x_{t + 1} = x_{t} + v_{t + 1}\\cdot \\text{dt}$$\n",
        "\n",
        "The example below demonstrates how to extract use the world's physical attributes to determine the next velocity and position of the listener, and compares them to the actual environment update. We also show that it is possible to customize the environment by directly changing the `damping` value."
      ]
    },
    {
      "cell_type": "code",
      "execution_count": 32,
      "id": "dac11d40-96b9-46f6-8758-108658b0da77",
      "metadata": {
        "colab": {
          "base_uri": "https://localhost:8080/"
        },
        "id": "dac11d40-96b9-46f6-8758-108658b0da77",
        "outputId": "7b66feda-8b1b-4286-85d2-152f6c8b8d78"
      },
      "outputs": [
        {
          "output_type": "stream",
          "name": "stdout",
          "text": [
            "expected next v: [0.25 0.  ]\n",
            "actual next v:   [0.25 0.  ]\n",
            "\n",
            "expected next x: [-0.53517221 -0.89954053]\n",
            "actual next x:   [-0.53517221 -0.89954053]\n"
          ]
        }
      ],
      "source": [
        "# get world and listener agent instances\n",
        "world = env.unwrapped.world\n",
        "listener = world.agents[1]\n",
        "\n",
        "# change world damping\n",
        "world.damping = 0.05\n",
        "\n",
        "# get constants\n",
        "dt = world.dt\n",
        "damping = world.damping\n",
        "accel = listener.accel or 5  # defaults to 5 if None\n",
        "mass = listener.mass\n",
        "v_prev = listener.state.p_vel\n",
        "x_prev = listener.state.p_pos\n",
        "\n",
        "# SET ACTION\n",
        "# values must be within [0, u_range]\n",
        "# x - nothing\n",
        "# r - right\n",
        "# l - left\n",
        "# u - up\n",
        "# d - down        [x, r,   l,    u,    d]\n",
        "ACTION = np.array([0, 1, 0.5, 0.75, 0.75], dtype=np.float32)\n",
        "\n",
        "# calculate the applied force\n",
        "# [right - left, up - down]\n",
        "u = ACTION[1::2] - ACTION[2::2]\n",
        "\n",
        "# calculate v_{t+1} and x_{t+1}\n",
        "expected_next_v = v_prev * (1 - damping) + ((u * accel) / mass) * dt\n",
        "expected_next_x = x_prev + expected_next_v * dt\n",
        "\n",
        "# do speaker step (ignoring this value in comunication)\n",
        "env.step(np.array([0, 0, 1], dtype=np.float32))\n",
        "\n",
        "# do listener step\n",
        "env.step(ACTION)\n",
        "\n",
        "actual_next_v = listener.state.p_vel\n",
        "actual_next_x = listener.state.p_pos\n",
        "\n",
        "print(f'expected next v: {expected_next_v}')\n",
        "print(f'actual next v:   {actual_next_v}')\n",
        "print()\n",
        "print(f'expected next x: {expected_next_x}')\n",
        "print(f'actual next x:   {actual_next_x}')"
      ]
    },
    {
      "cell_type": "markdown",
      "id": "08764396-5bc7-44e7-a8b4-e4d1266cb540",
      "metadata": {
        "id": "08764396-5bc7-44e7-a8b4-e4d1266cb540"
      },
      "source": [
        "Only by understanding the environment model can we hope to implement model-based algorithms, e.g., planning (BFS, DFS, A*, etc.). The above example showcases only the listener agent of a single environment using one configuration. To better understand the effect of different configurations (and in different MPE environments), e.g., introducing collisions between the speaker and listener agents, one must dive into the [MPE code](https://github.com/Farama-Foundation/PettingZoo/tree/master/pettingzoo/mpe). <span style=\"color:yellow\">Be warned</span> that this code is not fully documented."
      ]
    },
    {
      "cell_type": "markdown",
      "id": "ded75bf7-9524-4bf1-be5b-5197aaaa9109",
      "metadata": {
        "id": "ded75bf7-9524-4bf1-be5b-5197aaaa9109"
      },
      "source": [
        "### Wrappers\n",
        "\n",
        "PettingZoo provides utilities called wrappers. They are used to alter the behavior of the environment with minimal effort wihtout changing the general environment API. In fact, the Simple Speaker Listener environment already wrapped upon creation. In the below demonstration, we can see that the environment type is actually a wrapper called `OrderEnforcingWrapper`. This class works like the original environment and adds checks that enforce the agent order, and adds extra functionality, e.g. the `agent_iter` function is implemented in this wrapper (and is not available in the raw environment). The underlying environment, revealed using the environment's `env` attribute, is actually wrapped by another wrapper called `AssertOutOfBoundsWrapper`, which checks that given actions are compatible with the agents' discrete action space (similarly, the continuous action space uses another wrapper called `ClipOutOfBoundsWrapper`). Only under this wrapper do we find the raw environment object. However, we can jump directly to the raw environment by using the `unwrapped` property."
      ]
    },
    {
      "cell_type": "code",
      "execution_count": 33,
      "id": "d0496a79-fd0e-43dc-90af-6eb987ecc886",
      "metadata": {
        "colab": {
          "base_uri": "https://localhost:8080/"
        },
        "id": "d0496a79-fd0e-43dc-90af-6eb987ecc886",
        "outputId": "4eaa27e1-b75d-472f-f1e0-f62ae8a9abf1"
      },
      "outputs": [
        {
          "output_type": "stream",
          "name": "stdout",
          "text": [
            "external wrapper:      <class 'pettingzoo.utils.wrappers.order_enforcing.OrderEnforcingWrapper'>\n",
            "inner wrapper:         <class 'pettingzoo.utils.wrappers.assert_out_of_bounds.AssertOutOfBoundsWrapper'>\n",
            "raw environment:       <class 'pettingzoo.mpe.simple_speaker_listener_v3.raw_env'>\n",
            "environment unwrapped: <class 'pettingzoo.mpe.simple_speaker_listener_v3.raw_env'>\n"
          ]
        }
      ],
      "source": [
        "env = simple_speaker_listener_v3.env()\n",
        "print(f'external wrapper:      {type(env)}')\n",
        "print(f'inner wrapper:         {type(env.env)}')\n",
        "print(f'raw environment:       {type(env.env.env)}')\n",
        "print(f'environment unwrapped: {type(env.unwrapped)}')"
      ]
    },
    {
      "cell_type": "markdown",
      "id": "2be00eb9-eb5c-4301-983e-b13c5ad918ab",
      "metadata": {
        "id": "2be00eb9-eb5c-4301-983e-b13c5ad918ab"
      },
      "source": [
        "#### Custom Wrappers\n",
        "\n",
        "Using the `BaseWrapper` abstraction, we can create our own wrappers. We demonstrate this below with a custom wrapper that turns this environment into a single-agent environment. This is done by skipping the speaker's step before the user has a chance to do so. The action will be the goal color if continuous or some constant message for each color if discrete. We the user to  "
      ]
    },
    {
      "cell_type": "code",
      "execution_count": 34,
      "id": "193718b3-71e3-47dd-b4ce-e3a74c52405e",
      "metadata": {
        "id": "193718b3-71e3-47dd-b4ce-e3a74c52405e"
      },
      "outputs": [],
      "source": [
        "from pettingzoo.utils import wrappers\n",
        "import numpy as np\n",
        "\n",
        "class ListenerOnlyWrapper(wrappers.BaseWrapper):\n",
        "\n",
        "    def __init__(self, env):\n",
        "        super().__init__(env)\n",
        "\n",
        "        # reset to skip speaker before new game\n",
        "        self.reset()\n",
        "\n",
        "        # set single agent list\n",
        "        self.agents = self.agents[1:]\n",
        "\n",
        "    def reset(self):\n",
        "        super().reset()\n",
        "\n",
        "        # skip speaker action\n",
        "        self.__step_speaker()\n",
        "\n",
        "    def step(self, action):\n",
        "        super().step(action)  # do listener action\n",
        "\n",
        "        # skip speaker action\n",
        "        self.__step_speaker()\n",
        "\n",
        "    def __step_speaker(self):\n",
        "        _, _, done, _ = self.env.last()\n",
        "        goal_color, _, done, _ = self.env.last()\n",
        "\n",
        "        # speaker is done before the listener.\n",
        "        if done:\n",
        "            return\n",
        "\n",
        "        # step with the correct action type\n",
        "        if self.env.unwrapped.continuous_actions:\n",
        "            super().step(goal_color)\n",
        "        else:\n",
        "            super().step(np.argmax(goal_color))"
      ]
    },
    {
      "cell_type": "markdown",
      "id": "adfc89c6-9834-4b7c-a1ad-5c5f821ab51f",
      "metadata": {
        "id": "adfc89c6-9834-4b7c-a1ad-5c5f821ab51f"
      },
      "source": [
        "We can add wrap a new environment by creating a new wrapper instance initialized with the wrapped environment."
      ]
    },
    {
      "cell_type": "code",
      "execution_count": 35,
      "id": "19732f47-9b7b-4666-b056-59395338bfa6",
      "metadata": {
        "colab": {
          "base_uri": "https://localhost:8080/"
        },
        "id": "19732f47-9b7b-4666-b056-59395338bfa6",
        "outputId": "46b63a51-88f2-4ea8-8ae3-90dec928bdb5"
      },
      "outputs": [
        {
          "output_type": "stream",
          "name": "stdout",
          "text": [
            "custom wrapped environment: ListenerOnlyWrapper<simple_speaker_listener_v3>\n",
            "list of agents:             ['listener_0']\n"
          ]
        }
      ],
      "source": [
        "env = simple_speaker_listener_v3.env(max_cycles=5, continuous_actions=True)\n",
        "env = ListenerOnlyWrapper(env)\n",
        "print(f'custom wrapped environment: {env}')\n",
        "print(f'list of agents:             {env.agents}')"
      ]
    },
    {
      "cell_type": "markdown",
      "id": "94da8c5f-9b21-426e-943f-80de0396c683",
      "metadata": {
        "id": "94da8c5f-9b21-426e-943f-80de0396c683"
      },
      "source": [
        "Like before, we can simulate an episode with `agent_iter` which will now always select the listener. Note that the initial observation contains a communication vector of 0 because no communication is received before the first step. We can see the listener's observation in the following observations until the end of the episode"
      ]
    },
    {
      "cell_type": "code",
      "execution_count": 36,
      "id": "cc154024-5e7c-4008-8e9b-ab32e39dab19",
      "metadata": {
        "colab": {
          "base_uri": "https://localhost:8080/"
        },
        "id": "cc154024-5e7c-4008-8e9b-ab32e39dab19",
        "outputId": "9c397c11-14f3-42b8-eb90-1994144a2e50"
      },
      "outputs": [
        {
          "output_type": "stream",
          "name": "stdout",
          "text": [
            "listener_0 reward:      0.0\n",
            "listener_0 observation: [ 0.          0.         -0.8334555  -0.32520047  0.8191933   0.02837438\n",
            "  0.39991397  0.35232076  0.          0.          0.        ]\n",
            "listener_0 action:      [0.46326035 0.8055809  0.7053312  0.34477964 0.67475295]\n",
            "\n",
            "listener_0 reward:      -0.291974959865805\n",
            "listener_0 observation: [ 0.05012485 -0.16498666 -0.838468   -0.3087018   0.81418085  0.04487304\n",
            "  0.39490148  0.36881945  0.15        0.15        0.65      ]\n",
            "listener_0 action:      [0.8642665  0.92338705 0.74738014 0.81880265 0.72476083]\n",
            "\n",
            "listener_0 reward:      -0.2879309656359046\n",
            "listener_0 observation: [ 0.12559709 -0.07671908 -0.8510277  -0.3010299   0.80162114  0.05254495\n",
            "  0.38234177  0.37649134  0.15        0.15        0.65      ]\n",
            "listener_0 action:      [0.1658173  0.8036259  0.11788492 0.6751527  0.17336524]\n",
            "\n",
            "listener_0 reward:      -0.24223396398681285\n",
            "listener_0 observation: [ 0.43706828  0.19335443 -0.89473456 -0.32036534  0.7579143   0.03320951\n",
            "  0.33863494  0.3571559   0.15        0.15        0.65      ]\n",
            "listener_0 action:      [0.3417885  0.647322   0.3924273  0.24948104 0.3483982 ]\n",
            "\n",
            "listener_0 reward:      -0.20673940656098025\n",
            "listener_0 observation: [ 0.45524856  0.09555724 -0.9402594  -0.32992107  0.71238947  0.02365378\n",
            "  0.2931101   0.34760016  0.15        0.15        0.65      ]\n",
            "listener_0 action:      [0.6872611  0.89961916 0.13696598 0.37468222 0.8318458 ]\n",
            "\n"
          ]
        }
      ],
      "source": [
        "policy = RandomPolicy(env.action_space(env.agents[0]))\n",
        "for agent in env.agent_iter():\n",
        "    observation, reward, done, info = env.last()\n",
        "\n",
        "    # stop if done\n",
        "    if done:\n",
        "        break\n",
        "\n",
        "    # choose and execute action\n",
        "    action = policy(observation)\n",
        "    env.step(action)\n",
        "\n",
        "    # log everything\n",
        "    print(f'{agent} reward:      {reward}')\n",
        "    print(f'{agent} observation: {observation}')\n",
        "    print(f'{agent} action:      {action}')\n",
        "    print()"
      ]
    },
    {
      "cell_type": "markdown",
      "id": "547b7dee-de48-4ea8-8591-e5fba0316e9d",
      "metadata": {
        "id": "547b7dee-de48-4ea8-8591-e5fba0316e9d"
      },
      "source": [
        "### Parallel Environments\n",
        "\n",
        "Up until now we were able to view each agent's observations and act individually, even though the actions were only applied after a full cycle through all the agents. Many PettingZoo environments support acting in parallel using yet another wrapper, including Simple Speaker Listener. This is important for implementing algorithms that consider joint actions, e.g., centralized control. We can create a parallel environment by invoking the `parallel_env` function."
      ]
    },
    {
      "cell_type": "code",
      "execution_count": 37,
      "id": "16ebf152-3750-42ef-bb15-6585074e72bc",
      "metadata": {
        "id": "16ebf152-3750-42ef-bb15-6585074e72bc"
      },
      "outputs": [],
      "source": [
        "env = simple_speaker_listener_v3.parallel_env()"
      ]
    },
    {
      "cell_type": "markdown",
      "id": "4214b307-5b96-49a3-8051-399da21d987b",
      "metadata": {
        "id": "4214b307-5b96-49a3-8051-399da21d987b"
      },
      "source": [
        "In this environment, both the observations of the speaker and listener agents are bundled together in a dictionary. The initial environment observations is returned from the `reset` function."
      ]
    },
    {
      "cell_type": "code",
      "execution_count": 38,
      "id": "063cdeba-ad2c-41d4-99d9-c187bde4cb96",
      "metadata": {
        "colab": {
          "base_uri": "https://localhost:8080/"
        },
        "id": "063cdeba-ad2c-41d4-99d9-c187bde4cb96",
        "outputId": "8dc7c7f8-285d-4811-92c9-b24fc3a38be5"
      },
      "outputs": [
        {
          "output_type": "execute_result",
          "data": {
            "text/plain": [
              "{'speaker_0': array([0.65, 0.15, 0.15], dtype=float32),\n",
              " 'listener_0': array([ 0.        ,  0.        ,  0.6847264 , -1.081905  ,  0.8446181 ,\n",
              "         0.5371807 ,  0.4504421 ,  0.38624153,  0.        ,  0.        ,\n",
              "         0.        ], dtype=float32)}"
            ]
          },
          "metadata": {},
          "execution_count": 38
        }
      ],
      "source": [
        "observations = env.reset()\n",
        "observations"
      ]
    },
    {
      "cell_type": "markdown",
      "id": "b6d8e41f-9bb7-417a-99fe-3aec12d20a68",
      "metadata": {
        "id": "b6d8e41f-9bb7-417a-99fe-3aec12d20a68"
      },
      "source": [
        "Actions are performed jointly using the `step` function. This will return the next observation bundle together with separate dictionaries for the reward and \"done\" status for each agent."
      ]
    },
    {
      "cell_type": "code",
      "execution_count": 39,
      "id": "7b6d600f-c229-48fa-b970-861bd03d0d61",
      "metadata": {
        "colab": {
          "base_uri": "https://localhost:8080/"
        },
        "id": "7b6d600f-c229-48fa-b970-861bd03d0d61",
        "outputId": "7428e46e-0f06-4983-b561-9d3b635f104d"
      },
      "outputs": [
        {
          "output_type": "stream",
          "name": "stdout",
          "text": [
            "new observations:\n",
            "{'speaker_0': array([0.65, 0.15, 0.15], dtype=float32), 'listener_0': array([ 0.5       ,  0.        ,  0.6347264 , -1.081905  ,  0.7946181 ,\n",
            "        0.5371807 ,  0.4004421 ,  0.38624153,  0.        ,  1.        ,\n",
            "        0.        ], dtype=float32)}\n",
            "step rewards:\n",
            "defaultdict(<class 'int'>, {'speaker_0': -1.5733959615521051, 'listener_0': -1.5733959615521051})\n",
            "done status:\n",
            "{'speaker_0': False, 'listener_0': False}\n"
          ]
        }
      ],
      "source": [
        "joint_action = {'speaker_0': 1, 'listener_0': 2}\n",
        "observations, rewards, done, info = env.step(joint_action)\n",
        "\n",
        "print('new observations:')\n",
        "print(observations)\n",
        "print('step rewards:')\n",
        "print(rewards)\n",
        "print('done status:')\n",
        "print(done)"
      ]
    },
    {
      "cell_type": "markdown",
      "id": "a4b8f35c-e50f-4a8b-bb75-d18bb384d3bf",
      "metadata": {
        "id": "a4b8f35c-e50f-4a8b-bb75-d18bb384d3bf"
      },
      "source": [
        "Putting it all together, a simulation might look something like this:"
      ]
    },
    {
      "cell_type": "code",
      "execution_count": 40,
      "id": "1b9d18ab-dc00-47b2-b053-cf06367f471d",
      "metadata": {
        "colab": {
          "base_uri": "https://localhost:8080/"
        },
        "id": "1b9d18ab-dc00-47b2-b053-cf06367f471d",
        "outputId": "c14168fe-5e5c-411d-c241-7a57b5c9be41"
      },
      "outputs": [
        {
          "output_type": "stream",
          "name": "stdout",
          "text": [
            "rewards:      defaultdict(<class 'int'>, {'speaker_0': -0.8481541139262119, 'listener_0': -0.8481541139262119})\n",
            "observations: {'speaker_0': array([0.15, 0.65, 0.15], dtype=float32), 'listener_0': array([ 0.        ,  0.        , -1.1512403 ,  0.71841353, -0.43954208,\n",
            "        0.80929404,  0.21709879,  1.243084  ,  0.        ,  0.        ,\n",
            "        1.        ], dtype=float32)}\n",
            "actions:      {'speaker_0': 2, 'listener_0': 0}\n",
            "\n",
            "rewards:      defaultdict(<class 'int'>, {'speaker_0': -0.9315835200102813, 'listener_0': -0.9315835200102813})\n",
            "observations: {'speaker_0': array([0.15, 0.65, 0.15], dtype=float32), 'listener_0': array([ 0.        , -0.5       , -1.1512403 ,  0.76841354, -0.43954208,\n",
            "        0.85929406,  0.21709879,  1.2930839 ,  0.        ,  0.        ,\n",
            "        1.        ], dtype=float32)}\n",
            "actions:      {'speaker_0': 2, 'listener_0': 3}\n",
            "\n",
            "rewards:      defaultdict(<class 'int'>, {'speaker_0': -1.0438910322233628, 'listener_0': -1.0438910322233628})\n",
            "observations: {'speaker_0': array([0.15, 0.65, 0.15], dtype=float32), 'listener_0': array([ 0.5       , -0.375     , -1.2012404 ,  0.80591357, -0.48954207,\n",
            "        0.8967941 ,  0.16709879,  1.3305839 ,  1.        ,  0.        ,\n",
            "        0.        ], dtype=float32)}\n",
            "actions:      {'speaker_0': 0, 'listener_0': 2}\n",
            "\n",
            "rewards:      defaultdict(<class 'int'>, {'speaker_0': -1.0830444118581446, 'listener_0': -1.0830444118581446})\n",
            "observations: {'speaker_0': array([0.15, 0.65, 0.15], dtype=float32), 'listener_0': array([-0.125     , -0.28125   , -1.1887404 ,  0.83403856, -0.47704208,\n",
            "        0.92491907,  0.1795988 ,  1.3587089 ,  1.        ,  0.        ,\n",
            "        0.        ], dtype=float32)}\n",
            "actions:      {'speaker_0': 0, 'listener_0': 1}\n",
            "\n"
          ]
        }
      ],
      "source": [
        "env = simple_speaker_listener_v3.parallel_env(max_cycles=5)\n",
        "observations = env.reset()\n",
        "\n",
        "# a random policy for each agent\n",
        "policies = {\n",
        "    env.agents[0]: RandomPolicy(env.action_space(env.agents[0])),\n",
        "    env.agents[1]: RandomPolicy(env.action_space(env.agents[1]))\n",
        "}\n",
        "\n",
        "for _ in range(env.unwrapped.max_cycles):\n",
        "    joint_action = {agent: policies[agent](obs) for agent, obs in observations.items()}\n",
        "    observations, rewards, done, info = env.step(joint_action)\n",
        "\n",
        "    if any(done.values()):\n",
        "        break\n",
        "\n",
        "    # log everything\n",
        "    print(f'rewards:      {rewards}')\n",
        "    print(f'observations: {observations}')\n",
        "    print(f'actions:      {joint_action}')\n",
        "    print()"
      ]
    },
    {
      "cell_type": "markdown",
      "id": "acb81bbb-a237-49ad-ac77-462524359b24",
      "metadata": {
        "id": "acb81bbb-a237-49ad-ac77-462524359b24"
      },
      "source": [
        "### Other Environments\n",
        "\n",
        "There already exists a single-agent and single-landmark version of Simple Speaker Listener, called Simple. Here, the one agent acts like the listener and has a simplified observation space containing the agent's velocity and the landmark's relative location. There are other, more complex environments in the MPE library and other environment libraries in PettingZoo. You can explore them in the [PettingZoo Website](https://pettingzoo.farama.org/)."
      ]
    },
    {
      "cell_type": "code",
      "execution_count": 41,
      "id": "4d1577e7-21b8-47a2-9536-5b6455bd9c91",
      "metadata": {
        "colab": {
          "base_uri": "https://localhost:8080/"
        },
        "id": "4d1577e7-21b8-47a2-9536-5b6455bd9c91",
        "outputId": "a3bdf49e-12ab-4040-b20b-abf7a0d8c376"
      },
      "outputs": [
        {
          "output_type": "stream",
          "name": "stdout",
          "text": [
            "discrete actions:\n",
            "- agent 1: speaker_0\n",
            "\t- observation space: Box(-inf, inf, (3,), float32)\n",
            "\t- action space: Discrete(3)\n",
            "- agent 2: listener_0\n",
            "\t- observation space: Box(-inf, inf, (11,), float32)\n",
            "\t- action space: Discrete(5)\n",
            "\n",
            "continuous actions:\n",
            "- agent 1: speaker_0\n",
            "\t- observation space: Box(-inf, inf, (3,), float32)\n",
            "\t- action space: Box(0.0, 1.0, (3,), float32)\n",
            "- agent 2: listener_0\n",
            "\t- observation space: Box(-inf, inf, (11,), float32)\n",
            "\t- action space: Box(0.0, 1.0, (5,), float32)\n"
          ]
        }
      ],
      "source": [
        "from pettingzoo.mpe import simple_v2\n",
        "\n",
        "\n",
        "print_env_info(continuous_actions=False)\n",
        "print()\n",
        "print_env_info(continuous_actions=True)"
      ]
    },
    {
      "cell_type": "code",
      "execution_count": 41,
      "id": "L5sJ-A8HeGVL",
      "metadata": {
        "id": "L5sJ-A8HeGVL"
      },
      "outputs": [],
      "source": []
    }
  ],
  "metadata": {
    "kernelspec": {
      "display_name": "python3",
      "language": "python",
      "name": "python3"
    },
    "colab": {
      "provenance": []
    }
  },
  "nbformat": 4,
  "nbformat_minor": 5
}